{
 "cells": [
  {
   "cell_type": "markdown",
   "metadata": {},
   "source": [
    "<div style=\"border:solid lightblue 3px; padding: 20px\">\n",
    "<b>Михаил, привет!</b>\n",
    "\n",
    "Меня зовут Виталий Мехоношин, и я буду проверять твой проект. Предлагаю общаться на «ты» 😉\n",
    "\n",
    "Моя основная цель — не указать на совершенные тобою ошибки, а поделиться своим опытом и помочь тебе стать аналитиком данных. Тобой проделана большая работа над проектом, давай сделаем его еще лучше. Ниже ты найдешь мои комментарии. Есть несколько правил:<br>\n",
    "- <b>Пожалуйста, не перемещай, не изменяй и не удаляй комментарии.</b>\n",
    "- У комментариев могут быть приписки <b>V2, V3</b> и т.д., которые соответствуют версии проверки. \n",
    "- Еще обрати внимание на цветовую разметку:\n",
    "\n",
    "<div class=\"alert alert-danger\">\n",
    "<b>Комментарий ревьюера:</b> \n",
    "Комментарии такого цвета необходимо исправить, без их отработки проект не будет принят. \n",
    "</div>\n",
    "\n",
    "<div class=\"alert alert-warning\">\n",
    "<b>Комментарий ревьюера:</b> \n",
    "На комментарии такого цвета нужно обязательно обратить внимание. Их не должно быть много.\n",
    "</div>\n",
    "\n",
    "<div class=\"alert alert-success\">\n",
    "<b>Комментарий ревьюера:</b> \n",
    "Комментарии такого цвета будут содержать лайфхаки, которые смогут улучшить твой верный код, их необязательно исправлять.\n",
    "</div>\n",
    "\n",
    "Предлагаю работать над проектом в диалоге: если ты хочешь ответить на мои комментарии — пиши об этом. Мне будет легче отследить изменения, если ты выделишь свои комментарии вот так:\n",
    "<div class=\"alert alert-info\"> <b>Комментарий студента:</b> Например, вот так.</div>\n",
    "\n",
    "Всё это поможет выполнить повторную проверку твоего проекта оперативнее."
   ]
  },
  {
   "cell_type": "markdown",
   "metadata": {},
   "source": [
    "<div style=\"border:solid lightblue 3px; padding: 20px\">\n",
    "<b>Общий комментарий ревьюера:</b>\n",
    "\n",
    "У тебя отличная работа, но стоит поработать над следующими моментами:\n",
    "    \n",
    "1. Поработай над заполнением пропусков в `days_employed` и `total_income`.\n",
    "2. Поработай над предобработкой нулевых значений в столбце с возрастом.\n",
    "3. Выводи для начала частотность слов после лемматизации, чтобы твои категории явно выделились, для этого они должны быть в топе, иначе непонятно откуда они взялись.\n",
    "4. Поработай над расчетом долей при ответе на вопрос о влиянии дохода на должность.\n",
    "    \n",
    "Соответствующик комменты найдешь в блокноте. Буду ждать твоих исправлений😊"
   ]
  },
  {
   "cell_type": "markdown",
   "metadata": {},
   "source": [
    "<div style=\"border:solid lightblue 3px; padding: 20px\">\n",
    "<b>Общий комментарий ревьюера V2:</b>\n",
    "\n",
    "Работа по комментариям успешно произведена, проект принят, удачи на следующих спринтах😊"
   ]
  },
  {
   "cell_type": "markdown",
   "metadata": {},
   "source": [
    "# Исследование надёжности заёмщиков\n",
    "\n",
    "Заказчик — кредитный отдел банка. Нужно разобраться, влияет ли семейное положение и количество детей клиента на факт погашения кредита в срок. Входные данные от банка — статистика о платёжеспособности клиентов.\n",
    "\n",
    "Результаты исследования будут учтены при построении модели **кредитного скоринга** — специальной системы, которая оценивает способность потенциального заёмщика вернуть кредит банку."
   ]
  },
  {
   "cell_type": "markdown",
   "metadata": {},
   "source": [
    "<div class=\"alert alert-success\">\n",
    "<b>Комментарий ревьюера:</b>\n",
    "\n",
    "Старайся расширять стандартное описание к проекту.\n",
    "</div>"
   ]
  },
  {
   "cell_type": "markdown",
   "metadata": {},
   "source": [
    "<div class=\"alert alert-info\"> <b>Комментарий студента:</b> А как, например, не совсем понял, это же техническое задание, для чего его расширять?</div>"
   ]
  },
  {
   "cell_type": "markdown",
   "metadata": {},
   "source": [
    "<div class=\"alert alert-success\">\n",
    "<b>Комментарий ревьюера V2:</b>\n",
    "\n",
    "По дефолту в блокноте дано краткое описание. В курсе же дано полное описание проекта с расшифровкой -  этого копи паста может быть достаточно.\n",
    "</div>"
   ]
  },
  {
   "cell_type": "markdown",
   "metadata": {},
   "source": [
    "## Шаг 1. Откройте файл с данными и изучите общую информацию"
   ]
  },
  {
   "cell_type": "code",
   "execution_count": 1,
   "metadata": {
    "scrolled": false
   },
   "outputs": [
    {
     "data": {
      "text/html": [
       "<div>\n",
       "<style scoped>\n",
       "    .dataframe tbody tr th:only-of-type {\n",
       "        vertical-align: middle;\n",
       "    }\n",
       "\n",
       "    .dataframe tbody tr th {\n",
       "        vertical-align: top;\n",
       "    }\n",
       "\n",
       "    .dataframe thead th {\n",
       "        text-align: right;\n",
       "    }\n",
       "</style>\n",
       "<table border=\"1\" class=\"dataframe\">\n",
       "  <thead>\n",
       "    <tr style=\"text-align: right;\">\n",
       "      <th></th>\n",
       "      <th>children</th>\n",
       "      <th>days_employed</th>\n",
       "      <th>dob_years</th>\n",
       "      <th>education</th>\n",
       "      <th>education_id</th>\n",
       "      <th>family_status</th>\n",
       "      <th>family_status_id</th>\n",
       "      <th>gender</th>\n",
       "      <th>income_type</th>\n",
       "      <th>debt</th>\n",
       "      <th>total_income</th>\n",
       "      <th>purpose</th>\n",
       "    </tr>\n",
       "  </thead>\n",
       "  <tbody>\n",
       "    <tr>\n",
       "      <td>0</td>\n",
       "      <td>1</td>\n",
       "      <td>-8437.673028</td>\n",
       "      <td>42</td>\n",
       "      <td>высшее</td>\n",
       "      <td>0</td>\n",
       "      <td>женат / замужем</td>\n",
       "      <td>0</td>\n",
       "      <td>F</td>\n",
       "      <td>сотрудник</td>\n",
       "      <td>0</td>\n",
       "      <td>253875.639453</td>\n",
       "      <td>покупка жилья</td>\n",
       "    </tr>\n",
       "    <tr>\n",
       "      <td>1</td>\n",
       "      <td>1</td>\n",
       "      <td>-4024.803754</td>\n",
       "      <td>36</td>\n",
       "      <td>среднее</td>\n",
       "      <td>1</td>\n",
       "      <td>женат / замужем</td>\n",
       "      <td>0</td>\n",
       "      <td>F</td>\n",
       "      <td>сотрудник</td>\n",
       "      <td>0</td>\n",
       "      <td>112080.014102</td>\n",
       "      <td>приобретение автомобиля</td>\n",
       "    </tr>\n",
       "    <tr>\n",
       "      <td>2</td>\n",
       "      <td>0</td>\n",
       "      <td>-5623.422610</td>\n",
       "      <td>33</td>\n",
       "      <td>Среднее</td>\n",
       "      <td>1</td>\n",
       "      <td>женат / замужем</td>\n",
       "      <td>0</td>\n",
       "      <td>M</td>\n",
       "      <td>сотрудник</td>\n",
       "      <td>0</td>\n",
       "      <td>145885.952297</td>\n",
       "      <td>покупка жилья</td>\n",
       "    </tr>\n",
       "    <tr>\n",
       "      <td>3</td>\n",
       "      <td>3</td>\n",
       "      <td>-4124.747207</td>\n",
       "      <td>32</td>\n",
       "      <td>среднее</td>\n",
       "      <td>1</td>\n",
       "      <td>женат / замужем</td>\n",
       "      <td>0</td>\n",
       "      <td>M</td>\n",
       "      <td>сотрудник</td>\n",
       "      <td>0</td>\n",
       "      <td>267628.550329</td>\n",
       "      <td>дополнительное образование</td>\n",
       "    </tr>\n",
       "    <tr>\n",
       "      <td>4</td>\n",
       "      <td>0</td>\n",
       "      <td>340266.072047</td>\n",
       "      <td>53</td>\n",
       "      <td>среднее</td>\n",
       "      <td>1</td>\n",
       "      <td>гражданский брак</td>\n",
       "      <td>1</td>\n",
       "      <td>F</td>\n",
       "      <td>пенсионер</td>\n",
       "      <td>0</td>\n",
       "      <td>158616.077870</td>\n",
       "      <td>сыграть свадьбу</td>\n",
       "    </tr>\n",
       "    <tr>\n",
       "      <td>5</td>\n",
       "      <td>0</td>\n",
       "      <td>-926.185831</td>\n",
       "      <td>27</td>\n",
       "      <td>высшее</td>\n",
       "      <td>0</td>\n",
       "      <td>гражданский брак</td>\n",
       "      <td>1</td>\n",
       "      <td>M</td>\n",
       "      <td>компаньон</td>\n",
       "      <td>0</td>\n",
       "      <td>255763.565419</td>\n",
       "      <td>покупка жилья</td>\n",
       "    </tr>\n",
       "    <tr>\n",
       "      <td>6</td>\n",
       "      <td>0</td>\n",
       "      <td>-2879.202052</td>\n",
       "      <td>43</td>\n",
       "      <td>высшее</td>\n",
       "      <td>0</td>\n",
       "      <td>женат / замужем</td>\n",
       "      <td>0</td>\n",
       "      <td>F</td>\n",
       "      <td>компаньон</td>\n",
       "      <td>0</td>\n",
       "      <td>240525.971920</td>\n",
       "      <td>операции с жильем</td>\n",
       "    </tr>\n",
       "    <tr>\n",
       "      <td>7</td>\n",
       "      <td>0</td>\n",
       "      <td>-152.779569</td>\n",
       "      <td>50</td>\n",
       "      <td>СРЕДНЕЕ</td>\n",
       "      <td>1</td>\n",
       "      <td>женат / замужем</td>\n",
       "      <td>0</td>\n",
       "      <td>M</td>\n",
       "      <td>сотрудник</td>\n",
       "      <td>0</td>\n",
       "      <td>135823.934197</td>\n",
       "      <td>образование</td>\n",
       "    </tr>\n",
       "    <tr>\n",
       "      <td>8</td>\n",
       "      <td>2</td>\n",
       "      <td>-6929.865299</td>\n",
       "      <td>35</td>\n",
       "      <td>ВЫСШЕЕ</td>\n",
       "      <td>0</td>\n",
       "      <td>гражданский брак</td>\n",
       "      <td>1</td>\n",
       "      <td>F</td>\n",
       "      <td>сотрудник</td>\n",
       "      <td>0</td>\n",
       "      <td>95856.832424</td>\n",
       "      <td>на проведение свадьбы</td>\n",
       "    </tr>\n",
       "    <tr>\n",
       "      <td>9</td>\n",
       "      <td>0</td>\n",
       "      <td>-2188.756445</td>\n",
       "      <td>41</td>\n",
       "      <td>среднее</td>\n",
       "      <td>1</td>\n",
       "      <td>женат / замужем</td>\n",
       "      <td>0</td>\n",
       "      <td>M</td>\n",
       "      <td>сотрудник</td>\n",
       "      <td>0</td>\n",
       "      <td>144425.938277</td>\n",
       "      <td>покупка жилья для семьи</td>\n",
       "    </tr>\n",
       "    <tr>\n",
       "      <td>10</td>\n",
       "      <td>2</td>\n",
       "      <td>-4171.483647</td>\n",
       "      <td>36</td>\n",
       "      <td>высшее</td>\n",
       "      <td>0</td>\n",
       "      <td>женат / замужем</td>\n",
       "      <td>0</td>\n",
       "      <td>M</td>\n",
       "      <td>компаньон</td>\n",
       "      <td>0</td>\n",
       "      <td>113943.491460</td>\n",
       "      <td>покупка недвижимости</td>\n",
       "    </tr>\n",
       "    <tr>\n",
       "      <td>11</td>\n",
       "      <td>0</td>\n",
       "      <td>-792.701887</td>\n",
       "      <td>40</td>\n",
       "      <td>среднее</td>\n",
       "      <td>1</td>\n",
       "      <td>женат / замужем</td>\n",
       "      <td>0</td>\n",
       "      <td>F</td>\n",
       "      <td>сотрудник</td>\n",
       "      <td>0</td>\n",
       "      <td>77069.234271</td>\n",
       "      <td>покупка коммерческой недвижимости</td>\n",
       "    </tr>\n",
       "    <tr>\n",
       "      <td>12</td>\n",
       "      <td>0</td>\n",
       "      <td>NaN</td>\n",
       "      <td>65</td>\n",
       "      <td>среднее</td>\n",
       "      <td>1</td>\n",
       "      <td>гражданский брак</td>\n",
       "      <td>1</td>\n",
       "      <td>M</td>\n",
       "      <td>пенсионер</td>\n",
       "      <td>0</td>\n",
       "      <td>NaN</td>\n",
       "      <td>сыграть свадьбу</td>\n",
       "    </tr>\n",
       "  </tbody>\n",
       "</table>\n",
       "</div>"
      ],
      "text/plain": [
       "    children  days_employed  dob_years education  education_id  \\\n",
       "0          1   -8437.673028         42    высшее             0   \n",
       "1          1   -4024.803754         36   среднее             1   \n",
       "2          0   -5623.422610         33   Среднее             1   \n",
       "3          3   -4124.747207         32   среднее             1   \n",
       "4          0  340266.072047         53   среднее             1   \n",
       "5          0    -926.185831         27    высшее             0   \n",
       "6          0   -2879.202052         43    высшее             0   \n",
       "7          0    -152.779569         50   СРЕДНЕЕ             1   \n",
       "8          2   -6929.865299         35    ВЫСШЕЕ             0   \n",
       "9          0   -2188.756445         41   среднее             1   \n",
       "10         2   -4171.483647         36    высшее             0   \n",
       "11         0    -792.701887         40   среднее             1   \n",
       "12         0            NaN         65   среднее             1   \n",
       "\n",
       "       family_status  family_status_id gender income_type  debt  \\\n",
       "0    женат / замужем                 0      F   сотрудник     0   \n",
       "1    женат / замужем                 0      F   сотрудник     0   \n",
       "2    женат / замужем                 0      M   сотрудник     0   \n",
       "3    женат / замужем                 0      M   сотрудник     0   \n",
       "4   гражданский брак                 1      F   пенсионер     0   \n",
       "5   гражданский брак                 1      M   компаньон     0   \n",
       "6    женат / замужем                 0      F   компаньон     0   \n",
       "7    женат / замужем                 0      M   сотрудник     0   \n",
       "8   гражданский брак                 1      F   сотрудник     0   \n",
       "9    женат / замужем                 0      M   сотрудник     0   \n",
       "10   женат / замужем                 0      M   компаньон     0   \n",
       "11   женат / замужем                 0      F   сотрудник     0   \n",
       "12  гражданский брак                 1      M   пенсионер     0   \n",
       "\n",
       "     total_income                            purpose  \n",
       "0   253875.639453                      покупка жилья  \n",
       "1   112080.014102            приобретение автомобиля  \n",
       "2   145885.952297                      покупка жилья  \n",
       "3   267628.550329         дополнительное образование  \n",
       "4   158616.077870                    сыграть свадьбу  \n",
       "5   255763.565419                      покупка жилья  \n",
       "6   240525.971920                  операции с жильем  \n",
       "7   135823.934197                        образование  \n",
       "8    95856.832424              на проведение свадьбы  \n",
       "9   144425.938277            покупка жилья для семьи  \n",
       "10  113943.491460               покупка недвижимости  \n",
       "11   77069.234271  покупка коммерческой недвижимости  \n",
       "12            NaN                    сыграть свадьбу  "
      ]
     },
     "execution_count": 1,
     "metadata": {},
     "output_type": "execute_result"
    }
   ],
   "source": [
    "import pandas as pd\n",
    "credit_data = pd.read_csv('/datasets/data.csv')\n",
    "credit_data.head(13)"
   ]
  },
  {
   "cell_type": "code",
   "execution_count": 2,
   "metadata": {},
   "outputs": [
    {
     "name": "stdout",
     "output_type": "stream",
     "text": [
      "<class 'pandas.core.frame.DataFrame'>\n",
      "RangeIndex: 21525 entries, 0 to 21524\n",
      "Data columns (total 12 columns):\n",
      "children            21525 non-null int64\n",
      "days_employed       19351 non-null float64\n",
      "dob_years           21525 non-null int64\n",
      "education           21525 non-null object\n",
      "education_id        21525 non-null int64\n",
      "family_status       21525 non-null object\n",
      "family_status_id    21525 non-null int64\n",
      "gender              21525 non-null object\n",
      "income_type         21525 non-null object\n",
      "debt                21525 non-null int64\n",
      "total_income        19351 non-null float64\n",
      "purpose             21525 non-null object\n",
      "dtypes: float64(2), int64(5), object(5)\n",
      "memory usage: 2.0+ MB\n"
     ]
    }
   ],
   "source": [
    "credit_data.info()"
   ]
  },
  {
   "cell_type": "markdown",
   "metadata": {},
   "source": [
    "**Вывод**"
   ]
  },
  {
   "cell_type": "markdown",
   "metadata": {},
   "source": [
    "Изучив общую информацию статистики о платёжеспособности клиентов (*/data.csv*),  \n",
    "Всего имеется 21525 строк с данными о заеме средств, из которых:  \n",
    "1. В столбце **days_employed** выявлены:\n",
    "    - отсутствующие значения;\n",
    "    - неверный формат отображения данных(должен быть целочисленный);\n",
    "    - наличие отрицательных значений;\n",
    "    - имеются недопустимые данные - выбросы, например *id4* проработал 340266 дней, это составляет около 930 лет, что физически пока невозможно.\n",
    "    \n",
    "    Предположение: Если проанализировать общий датасет, то данные в столбце **total_income** отсутствуют в том же количестве, что и в исследуемом столбце, что говорит о пропуске типа \"Неслучайные\", неверный формат данных и отрицательные значения столбца говорят об ошибках в выгрузке данных. \n",
    "    \n",
    "    \n",
    "2. В столбце **education** данные представлены в разном регистре.  \n",
    "    Предположение: Заполнение данных без стандартизации.      \n"
   ]
  },
  {
   "cell_type": "markdown",
   "metadata": {},
   "source": [
    "<div class=\"alert alert-success\">\n",
    "<b>Комментарий ревьюера:</b>\n",
    "\n",
    "Первый взгляд на данные хороший.\n",
    "</div>"
   ]
  },
  {
   "cell_type": "markdown",
   "metadata": {},
   "source": [
    "## Шаг 2. Предобработка данных"
   ]
  },
  {
   "cell_type": "markdown",
   "metadata": {},
   "source": [
    "### Обработка пропусков"
   ]
  },
  {
   "cell_type": "markdown",
   "metadata": {},
   "source": [
    "Посмотрим строки с пропусками,так как пропусков days_employed и total_income равное количество, то если хоть в одной строке есть оба пропуска сразу, то и в остальных строках пропуски будут одновременно и в одной строке."
   ]
  },
  {
   "cell_type": "code",
   "execution_count": 3,
   "metadata": {},
   "outputs": [
    {
     "data": {
      "text/html": [
       "<div>\n",
       "<style scoped>\n",
       "    .dataframe tbody tr th:only-of-type {\n",
       "        vertical-align: middle;\n",
       "    }\n",
       "\n",
       "    .dataframe tbody tr th {\n",
       "        vertical-align: top;\n",
       "    }\n",
       "\n",
       "    .dataframe thead th {\n",
       "        text-align: right;\n",
       "    }\n",
       "</style>\n",
       "<table border=\"1\" class=\"dataframe\">\n",
       "  <thead>\n",
       "    <tr style=\"text-align: right;\">\n",
       "      <th></th>\n",
       "      <th>children</th>\n",
       "      <th>days_employed</th>\n",
       "      <th>dob_years</th>\n",
       "      <th>education</th>\n",
       "      <th>education_id</th>\n",
       "      <th>family_status</th>\n",
       "      <th>family_status_id</th>\n",
       "      <th>gender</th>\n",
       "      <th>income_type</th>\n",
       "      <th>debt</th>\n",
       "      <th>total_income</th>\n",
       "      <th>purpose</th>\n",
       "    </tr>\n",
       "  </thead>\n",
       "  <tbody>\n",
       "    <tr>\n",
       "      <td>12</td>\n",
       "      <td>0</td>\n",
       "      <td>NaN</td>\n",
       "      <td>65</td>\n",
       "      <td>среднее</td>\n",
       "      <td>1</td>\n",
       "      <td>гражданский брак</td>\n",
       "      <td>1</td>\n",
       "      <td>M</td>\n",
       "      <td>пенсионер</td>\n",
       "      <td>0</td>\n",
       "      <td>NaN</td>\n",
       "      <td>сыграть свадьбу</td>\n",
       "    </tr>\n",
       "    <tr>\n",
       "      <td>26</td>\n",
       "      <td>0</td>\n",
       "      <td>NaN</td>\n",
       "      <td>41</td>\n",
       "      <td>среднее</td>\n",
       "      <td>1</td>\n",
       "      <td>женат / замужем</td>\n",
       "      <td>0</td>\n",
       "      <td>M</td>\n",
       "      <td>госслужащий</td>\n",
       "      <td>0</td>\n",
       "      <td>NaN</td>\n",
       "      <td>образование</td>\n",
       "    </tr>\n",
       "    <tr>\n",
       "      <td>29</td>\n",
       "      <td>0</td>\n",
       "      <td>NaN</td>\n",
       "      <td>63</td>\n",
       "      <td>среднее</td>\n",
       "      <td>1</td>\n",
       "      <td>Не женат / не замужем</td>\n",
       "      <td>4</td>\n",
       "      <td>F</td>\n",
       "      <td>пенсионер</td>\n",
       "      <td>0</td>\n",
       "      <td>NaN</td>\n",
       "      <td>строительство жилой недвижимости</td>\n",
       "    </tr>\n",
       "    <tr>\n",
       "      <td>41</td>\n",
       "      <td>0</td>\n",
       "      <td>NaN</td>\n",
       "      <td>50</td>\n",
       "      <td>среднее</td>\n",
       "      <td>1</td>\n",
       "      <td>женат / замужем</td>\n",
       "      <td>0</td>\n",
       "      <td>F</td>\n",
       "      <td>госслужащий</td>\n",
       "      <td>0</td>\n",
       "      <td>NaN</td>\n",
       "      <td>сделка с подержанным автомобилем</td>\n",
       "    </tr>\n",
       "    <tr>\n",
       "      <td>55</td>\n",
       "      <td>0</td>\n",
       "      <td>NaN</td>\n",
       "      <td>54</td>\n",
       "      <td>среднее</td>\n",
       "      <td>1</td>\n",
       "      <td>гражданский брак</td>\n",
       "      <td>1</td>\n",
       "      <td>F</td>\n",
       "      <td>пенсионер</td>\n",
       "      <td>1</td>\n",
       "      <td>NaN</td>\n",
       "      <td>сыграть свадьбу</td>\n",
       "    </tr>\n",
       "    <tr>\n",
       "      <td>...</td>\n",
       "      <td>...</td>\n",
       "      <td>...</td>\n",
       "      <td>...</td>\n",
       "      <td>...</td>\n",
       "      <td>...</td>\n",
       "      <td>...</td>\n",
       "      <td>...</td>\n",
       "      <td>...</td>\n",
       "      <td>...</td>\n",
       "      <td>...</td>\n",
       "      <td>...</td>\n",
       "      <td>...</td>\n",
       "    </tr>\n",
       "    <tr>\n",
       "      <td>21489</td>\n",
       "      <td>2</td>\n",
       "      <td>NaN</td>\n",
       "      <td>47</td>\n",
       "      <td>Среднее</td>\n",
       "      <td>1</td>\n",
       "      <td>женат / замужем</td>\n",
       "      <td>0</td>\n",
       "      <td>M</td>\n",
       "      <td>компаньон</td>\n",
       "      <td>0</td>\n",
       "      <td>NaN</td>\n",
       "      <td>сделка с автомобилем</td>\n",
       "    </tr>\n",
       "    <tr>\n",
       "      <td>21495</td>\n",
       "      <td>1</td>\n",
       "      <td>NaN</td>\n",
       "      <td>50</td>\n",
       "      <td>среднее</td>\n",
       "      <td>1</td>\n",
       "      <td>гражданский брак</td>\n",
       "      <td>1</td>\n",
       "      <td>F</td>\n",
       "      <td>сотрудник</td>\n",
       "      <td>0</td>\n",
       "      <td>NaN</td>\n",
       "      <td>свадьба</td>\n",
       "    </tr>\n",
       "    <tr>\n",
       "      <td>21497</td>\n",
       "      <td>0</td>\n",
       "      <td>NaN</td>\n",
       "      <td>48</td>\n",
       "      <td>ВЫСШЕЕ</td>\n",
       "      <td>0</td>\n",
       "      <td>женат / замужем</td>\n",
       "      <td>0</td>\n",
       "      <td>F</td>\n",
       "      <td>компаньон</td>\n",
       "      <td>0</td>\n",
       "      <td>NaN</td>\n",
       "      <td>строительство недвижимости</td>\n",
       "    </tr>\n",
       "    <tr>\n",
       "      <td>21502</td>\n",
       "      <td>1</td>\n",
       "      <td>NaN</td>\n",
       "      <td>42</td>\n",
       "      <td>среднее</td>\n",
       "      <td>1</td>\n",
       "      <td>женат / замужем</td>\n",
       "      <td>0</td>\n",
       "      <td>F</td>\n",
       "      <td>сотрудник</td>\n",
       "      <td>0</td>\n",
       "      <td>NaN</td>\n",
       "      <td>строительство жилой недвижимости</td>\n",
       "    </tr>\n",
       "    <tr>\n",
       "      <td>21510</td>\n",
       "      <td>2</td>\n",
       "      <td>NaN</td>\n",
       "      <td>28</td>\n",
       "      <td>среднее</td>\n",
       "      <td>1</td>\n",
       "      <td>женат / замужем</td>\n",
       "      <td>0</td>\n",
       "      <td>F</td>\n",
       "      <td>сотрудник</td>\n",
       "      <td>0</td>\n",
       "      <td>NaN</td>\n",
       "      <td>приобретение автомобиля</td>\n",
       "    </tr>\n",
       "  </tbody>\n",
       "</table>\n",
       "<p>2174 rows × 12 columns</p>\n",
       "</div>"
      ],
      "text/plain": [
       "       children  days_employed  dob_years education  education_id  \\\n",
       "12            0            NaN         65   среднее             1   \n",
       "26            0            NaN         41   среднее             1   \n",
       "29            0            NaN         63   среднее             1   \n",
       "41            0            NaN         50   среднее             1   \n",
       "55            0            NaN         54   среднее             1   \n",
       "...         ...            ...        ...       ...           ...   \n",
       "21489         2            NaN         47   Среднее             1   \n",
       "21495         1            NaN         50   среднее             1   \n",
       "21497         0            NaN         48    ВЫСШЕЕ             0   \n",
       "21502         1            NaN         42   среднее             1   \n",
       "21510         2            NaN         28   среднее             1   \n",
       "\n",
       "               family_status  family_status_id gender  income_type  debt  \\\n",
       "12          гражданский брак                 1      M    пенсионер     0   \n",
       "26           женат / замужем                 0      M  госслужащий     0   \n",
       "29     Не женат / не замужем                 4      F    пенсионер     0   \n",
       "41           женат / замужем                 0      F  госслужащий     0   \n",
       "55          гражданский брак                 1      F    пенсионер     1   \n",
       "...                      ...               ...    ...          ...   ...   \n",
       "21489        женат / замужем                 0      M    компаньон     0   \n",
       "21495       гражданский брак                 1      F    сотрудник     0   \n",
       "21497        женат / замужем                 0      F    компаньон     0   \n",
       "21502        женат / замужем                 0      F    сотрудник     0   \n",
       "21510        женат / замужем                 0      F    сотрудник     0   \n",
       "\n",
       "       total_income                           purpose  \n",
       "12              NaN                   сыграть свадьбу  \n",
       "26              NaN                       образование  \n",
       "29              NaN  строительство жилой недвижимости  \n",
       "41              NaN  сделка с подержанным автомобилем  \n",
       "55              NaN                   сыграть свадьбу  \n",
       "...             ...                               ...  \n",
       "21489           NaN              сделка с автомобилем  \n",
       "21495           NaN                           свадьба  \n",
       "21497           NaN        строительство недвижимости  \n",
       "21502           NaN  строительство жилой недвижимости  \n",
       "21510           NaN           приобретение автомобиля  \n",
       "\n",
       "[2174 rows x 12 columns]"
      ]
     },
     "execution_count": 3,
     "metadata": {},
     "output_type": "execute_result"
    }
   ],
   "source": [
    "days_employed_nan = credit_data[credit_data['days_employed'].isna() == True]\n",
    "days_employed_nan"
   ]
  },
  {
   "cell_type": "markdown",
   "metadata": {},
   "source": [
    "Найдем долю отсутствующих значений от всех данных:"
   ]
  },
  {
   "cell_type": "code",
   "execution_count": 4,
   "metadata": {},
   "outputs": [
    {
     "data": {
      "text/plain": [
       "'Доля отсутствующих значений - 10.1%'"
      ]
     },
     "execution_count": 4,
     "metadata": {},
     "output_type": "execute_result"
    }
   ],
   "source": [
    "days_employed_nan_ratio = days_employed_nan['days_employed'].isna().sum() / credit_data.shape[0] \n",
    "'Доля отсутствующих значений - {:.1%}'.format(days_employed_nan_ratio)"
   ]
  },
  {
   "cell_type": "markdown",
   "metadata": {},
   "source": [
    "<div class=\"alert alert-success\">\n",
    "<b>Комментарий ревьюера:</b>\n",
    "\n",
    "Так же можно узнать долю прописав `credit_data.isna().mean()` - так немного короче, возьми к себе в профессиональный запас.\n",
    "</div>"
   ]
  },
  {
   "cell_type": "code",
   "execution_count": 5,
   "metadata": {},
   "outputs": [
    {
     "data": {
      "text/plain": [
       "children            0.000000\n",
       "days_employed       0.100999\n",
       "dob_years           0.000000\n",
       "education           0.000000\n",
       "education_id        0.000000\n",
       "family_status       0.000000\n",
       "family_status_id    0.000000\n",
       "gender              0.000000\n",
       "income_type         0.000000\n",
       "debt                0.000000\n",
       "total_income        0.100999\n",
       "purpose             0.000000\n",
       "dtype: float64"
      ]
     },
     "execution_count": 5,
     "metadata": {},
     "output_type": "execute_result"
    }
   ],
   "source": [
    "credit_data.isna().mean()"
   ]
  },
  {
   "cell_type": "markdown",
   "metadata": {},
   "source": [
    "<div class=\"alert alert-info\"> <b>Комментарий студента:</b> Ну это колдовство какое-то!!</div>"
   ]
  },
  {
   "cell_type": "markdown",
   "metadata": {},
   "source": [
    "**Вывод**"
   ]
  },
  {
   "cell_type": "markdown",
   "metadata": {},
   "source": [
    "10% это довольно много, тем более что по заданию кредитного отдела нам нужны другие метрики <code>&gt; влияет ли **семейное положение** и **количество детей** клиента на факт погашения кредита в срок.</code>, и если мы их удалим, потеряем часть важной информации, по этому заменим отсутствующие значения на средние по столбцу."
   ]
  },
  {
   "cell_type": "markdown",
   "metadata": {},
   "source": [
    "Но сначала применим фильтр:\n",
    "- переведем значения в столбце **days_employed** в положительные;\n",
    "- ячейки, в которых стаж выше чем 50 лет заменим на максимальный стаж(18250 дней);\n",
    "- отсутствующие значения заменим на средние."
   ]
  },
  {
   "cell_type": "code",
   "execution_count": 6,
   "metadata": {},
   "outputs": [],
   "source": [
    "# max_days_employed = 18250 # 365*50=18250\n",
    "# def days(day):\n",
    "#     try:\n",
    "#         if day < 0:\n",
    "#             day = -day\n",
    "#         if day > max_days_employed:\n",
    "#             day = max_days_employed\n",
    "#         return day\n",
    "#     except: 'проверьте значения!'\n",
    "\n",
    "# credit_data['days_employed'] = credit_data['days_employed'].apply(days)\n",
    "# changing = credit_data[credit_data['days_employed'] == max_days_employed]['days_employed'].count()\n",
    "# f'заменено {changing} значений'"
   ]
  },
  {
   "cell_type": "code",
   "execution_count": 7,
   "metadata": {},
   "outputs": [
    {
     "data": {
      "text/html": [
       "<div>\n",
       "<style scoped>\n",
       "    .dataframe tbody tr th:only-of-type {\n",
       "        vertical-align: middle;\n",
       "    }\n",
       "\n",
       "    .dataframe tbody tr th {\n",
       "        vertical-align: top;\n",
       "    }\n",
       "\n",
       "    .dataframe thead th {\n",
       "        text-align: right;\n",
       "    }\n",
       "</style>\n",
       "<table border=\"1\" class=\"dataframe\">\n",
       "  <thead>\n",
       "    <tr style=\"text-align: right;\">\n",
       "      <th></th>\n",
       "      <th>children</th>\n",
       "      <th>days_employed</th>\n",
       "      <th>dob_years</th>\n",
       "      <th>education</th>\n",
       "      <th>education_id</th>\n",
       "      <th>family_status</th>\n",
       "      <th>family_status_id</th>\n",
       "      <th>gender</th>\n",
       "      <th>income_type</th>\n",
       "      <th>debt</th>\n",
       "      <th>total_income</th>\n",
       "      <th>purpose</th>\n",
       "    </tr>\n",
       "  </thead>\n",
       "  <tbody>\n",
       "    <tr>\n",
       "      <td>0</td>\n",
       "      <td>1</td>\n",
       "      <td>8437.673028</td>\n",
       "      <td>42</td>\n",
       "      <td>высшее</td>\n",
       "      <td>0</td>\n",
       "      <td>женат / замужем</td>\n",
       "      <td>0</td>\n",
       "      <td>F</td>\n",
       "      <td>сотрудник</td>\n",
       "      <td>0</td>\n",
       "      <td>253875.639453</td>\n",
       "      <td>покупка жилья</td>\n",
       "    </tr>\n",
       "    <tr>\n",
       "      <td>1</td>\n",
       "      <td>1</td>\n",
       "      <td>4024.803754</td>\n",
       "      <td>36</td>\n",
       "      <td>среднее</td>\n",
       "      <td>1</td>\n",
       "      <td>женат / замужем</td>\n",
       "      <td>0</td>\n",
       "      <td>F</td>\n",
       "      <td>сотрудник</td>\n",
       "      <td>0</td>\n",
       "      <td>112080.014102</td>\n",
       "      <td>приобретение автомобиля</td>\n",
       "    </tr>\n",
       "    <tr>\n",
       "      <td>2</td>\n",
       "      <td>0</td>\n",
       "      <td>5623.422610</td>\n",
       "      <td>33</td>\n",
       "      <td>Среднее</td>\n",
       "      <td>1</td>\n",
       "      <td>женат / замужем</td>\n",
       "      <td>0</td>\n",
       "      <td>M</td>\n",
       "      <td>сотрудник</td>\n",
       "      <td>0</td>\n",
       "      <td>145885.952297</td>\n",
       "      <td>покупка жилья</td>\n",
       "    </tr>\n",
       "    <tr>\n",
       "      <td>3</td>\n",
       "      <td>3</td>\n",
       "      <td>4124.747207</td>\n",
       "      <td>32</td>\n",
       "      <td>среднее</td>\n",
       "      <td>1</td>\n",
       "      <td>женат / замужем</td>\n",
       "      <td>0</td>\n",
       "      <td>M</td>\n",
       "      <td>сотрудник</td>\n",
       "      <td>0</td>\n",
       "      <td>267628.550329</td>\n",
       "      <td>дополнительное образование</td>\n",
       "    </tr>\n",
       "    <tr>\n",
       "      <td>4</td>\n",
       "      <td>0</td>\n",
       "      <td>17437.000000</td>\n",
       "      <td>53</td>\n",
       "      <td>среднее</td>\n",
       "      <td>1</td>\n",
       "      <td>гражданский брак</td>\n",
       "      <td>1</td>\n",
       "      <td>F</td>\n",
       "      <td>пенсионер</td>\n",
       "      <td>0</td>\n",
       "      <td>158616.077870</td>\n",
       "      <td>сыграть свадьбу</td>\n",
       "    </tr>\n",
       "    <tr>\n",
       "      <td>...</td>\n",
       "      <td>...</td>\n",
       "      <td>...</td>\n",
       "      <td>...</td>\n",
       "      <td>...</td>\n",
       "      <td>...</td>\n",
       "      <td>...</td>\n",
       "      <td>...</td>\n",
       "      <td>...</td>\n",
       "      <td>...</td>\n",
       "      <td>...</td>\n",
       "      <td>...</td>\n",
       "      <td>...</td>\n",
       "    </tr>\n",
       "    <tr>\n",
       "      <td>21520</td>\n",
       "      <td>1</td>\n",
       "      <td>4529.316663</td>\n",
       "      <td>43</td>\n",
       "      <td>среднее</td>\n",
       "      <td>1</td>\n",
       "      <td>гражданский брак</td>\n",
       "      <td>1</td>\n",
       "      <td>F</td>\n",
       "      <td>компаньон</td>\n",
       "      <td>0</td>\n",
       "      <td>224791.862382</td>\n",
       "      <td>операции с жильем</td>\n",
       "    </tr>\n",
       "    <tr>\n",
       "      <td>21521</td>\n",
       "      <td>0</td>\n",
       "      <td>17437.000000</td>\n",
       "      <td>67</td>\n",
       "      <td>среднее</td>\n",
       "      <td>1</td>\n",
       "      <td>женат / замужем</td>\n",
       "      <td>0</td>\n",
       "      <td>F</td>\n",
       "      <td>пенсионер</td>\n",
       "      <td>0</td>\n",
       "      <td>155999.806512</td>\n",
       "      <td>сделка с автомобилем</td>\n",
       "    </tr>\n",
       "    <tr>\n",
       "      <td>21522</td>\n",
       "      <td>1</td>\n",
       "      <td>2113.346888</td>\n",
       "      <td>38</td>\n",
       "      <td>среднее</td>\n",
       "      <td>1</td>\n",
       "      <td>гражданский брак</td>\n",
       "      <td>1</td>\n",
       "      <td>M</td>\n",
       "      <td>сотрудник</td>\n",
       "      <td>1</td>\n",
       "      <td>89672.561153</td>\n",
       "      <td>недвижимость</td>\n",
       "    </tr>\n",
       "    <tr>\n",
       "      <td>21523</td>\n",
       "      <td>3</td>\n",
       "      <td>3112.481705</td>\n",
       "      <td>38</td>\n",
       "      <td>среднее</td>\n",
       "      <td>1</td>\n",
       "      <td>женат / замужем</td>\n",
       "      <td>0</td>\n",
       "      <td>M</td>\n",
       "      <td>сотрудник</td>\n",
       "      <td>1</td>\n",
       "      <td>244093.050500</td>\n",
       "      <td>на покупку своего автомобиля</td>\n",
       "    </tr>\n",
       "    <tr>\n",
       "      <td>21524</td>\n",
       "      <td>2</td>\n",
       "      <td>1984.507589</td>\n",
       "      <td>40</td>\n",
       "      <td>среднее</td>\n",
       "      <td>1</td>\n",
       "      <td>женат / замужем</td>\n",
       "      <td>0</td>\n",
       "      <td>F</td>\n",
       "      <td>сотрудник</td>\n",
       "      <td>0</td>\n",
       "      <td>82047.418899</td>\n",
       "      <td>на покупку автомобиля</td>\n",
       "    </tr>\n",
       "  </tbody>\n",
       "</table>\n",
       "<p>21525 rows × 12 columns</p>\n",
       "</div>"
      ],
      "text/plain": [
       "       children  days_employed  dob_years education  education_id  \\\n",
       "0             1    8437.673028         42    высшее             0   \n",
       "1             1    4024.803754         36   среднее             1   \n",
       "2             0    5623.422610         33   Среднее             1   \n",
       "3             3    4124.747207         32   среднее             1   \n",
       "4             0   17437.000000         53   среднее             1   \n",
       "...         ...            ...        ...       ...           ...   \n",
       "21520         1    4529.316663         43   среднее             1   \n",
       "21521         0   17437.000000         67   среднее             1   \n",
       "21522         1    2113.346888         38   среднее             1   \n",
       "21523         3    3112.481705         38   среднее             1   \n",
       "21524         2    1984.507589         40   среднее             1   \n",
       "\n",
       "          family_status  family_status_id gender income_type  debt  \\\n",
       "0       женат / замужем                 0      F   сотрудник     0   \n",
       "1       женат / замужем                 0      F   сотрудник     0   \n",
       "2       женат / замужем                 0      M   сотрудник     0   \n",
       "3       женат / замужем                 0      M   сотрудник     0   \n",
       "4      гражданский брак                 1      F   пенсионер     0   \n",
       "...                 ...               ...    ...         ...   ...   \n",
       "21520  гражданский брак                 1      F   компаньон     0   \n",
       "21521   женат / замужем                 0      F   пенсионер     0   \n",
       "21522  гражданский брак                 1      M   сотрудник     1   \n",
       "21523   женат / замужем                 0      M   сотрудник     1   \n",
       "21524   женат / замужем                 0      F   сотрудник     0   \n",
       "\n",
       "        total_income                       purpose  \n",
       "0      253875.639453                 покупка жилья  \n",
       "1      112080.014102       приобретение автомобиля  \n",
       "2      145885.952297                 покупка жилья  \n",
       "3      267628.550329    дополнительное образование  \n",
       "4      158616.077870               сыграть свадьбу  \n",
       "...              ...                           ...  \n",
       "21520  224791.862382             операции с жильем  \n",
       "21521  155999.806512          сделка с автомобилем  \n",
       "21522   89672.561153                  недвижимость  \n",
       "21523  244093.050500  на покупку своего автомобиля  \n",
       "21524   82047.418899         на покупку автомобиля  \n",
       "\n",
       "[21525 rows x 12 columns]"
      ]
     },
     "execution_count": 7,
     "metadata": {},
     "output_type": "execute_result"
    }
   ],
   "source": [
    "max_days_employed = credit_data[credit_data['days_employed'] < 18250]['days_employed'].idxmax() #Заменил поиск максимума \n",
    "def days(day):\n",
    "    try:\n",
    "        if day < 0:\n",
    "            day = -day\n",
    "        if day > max_days_employed:\n",
    "            day = max_days_employed\n",
    "        return day\n",
    "    except: 'проверьте значения!'\n",
    "\n",
    "credit_data['days_employed'] = credit_data['days_employed'].apply(days)\n",
    "changing = credit_data[credit_data['days_employed'] == max_days_employed]['days_employed'].count()\n",
    "f'заменено {changing} значений, новый максимум: {max_days_employed}'\n",
    "credit_data"
   ]
  },
  {
   "cell_type": "markdown",
   "metadata": {},
   "source": [
    "<div class=\"alert alert-success\">\n",
    "<b>Комментарий ревьюера:</b>\n",
    "\n",
    "Очень хорошо, молодец. А как думаешь с чем могут быть связаны такие аномальные значения?\n",
    "</div>"
   ]
  },
  {
   "cell_type": "markdown",
   "metadata": {},
   "source": [
    "<div class=\"alert alert-info\"> <b>Комментарий студента:</b> Мне кажется, просто кто-то либо неправильно свел таблицу, или просто ввел неверное значение.  \n",
    "    А можно ли оставить выбросы, где количество дней заведомо большое, а при обработке упорядочить все значения по количеству дней и отрезать первые и последние 2-3% таблицы, оставив одну середину с более-менее корректными значениями, если так можно, то как это правильно сделать?(про исключение крайних значений)</div>"
   ]
  },
  {
   "cell_type": "markdown",
   "metadata": {},
   "source": [
    "<div class=\"alert alert-success\">\n",
    "<b>Комментарий ревьюера V2:</b>\n",
    "\n",
    "Если ты хочешь оценить выбросы, то для этого подойдут квантили из метода `describe` так же визуально их можно увидеть после использования боксплота. Изучи эти два метода и должно встать все на свои места.\n",
    "</div>"
   ]
  },
  {
   "cell_type": "code",
   "execution_count": 8,
   "metadata": {},
   "outputs": [],
   "source": [
    "# mean_days = credit_data['days_employed'].mean()\n",
    "# mean_income = int(credit_data['total_income'].mean())\n",
    "# credit_data['days_employed'] = credit_data['days_employed'].fillna(mean_days)\n",
    "# credit_data['total_income'] = credit_data['total_income'].fillna(mean_income)\n",
    "# mean_income"
   ]
  },
  {
   "cell_type": "markdown",
   "metadata": {},
   "source": [
    "<div class=\"alert alert-danger\">\n",
    "<b>Комментарий ревьюера:</b>\n",
    "\n",
    "Заполнять пропуски в `days_employed` и `total_income` просто средним вряд ли допустимо. Один отражает стаж, другой - доход. Оба параметра могут быть зависимы от других, например, стаж может зависеть от возраста, типа занятости, а доход, в свою очередь, может зависеть от образования и так же от типа занятости.\n",
    "    \n",
    "Дам рекомендации по заполнению пропусков:\n",
    "    \n",
    "- Оцени кол-во пропусков, много их или мало? При большом кол-ве заполнять их одним значением вряд ли хорошее решение, т.к. в данных есть и студенты, и пенсионеры, у них разное образование и т.п. Стаж так же не может быть одинаковым. Аналогично и с доходом, он так же много от чего зависит.\n",
    "- Ты предобработал данные - супер, теперь, заполни пропуски исходя из разных типов занятости к примеру.\n",
    "</div>"
   ]
  },
  {
   "cell_type": "code",
   "execution_count": 9,
   "metadata": {},
   "outputs": [
    {
     "data": {
      "text/plain": [
       "income_type\n",
       "безработный        131339.751676\n",
       "в декрете           53829.130729\n",
       "госслужащий        170898.309923\n",
       "компаньон          202417.461462\n",
       "пенсионер          137127.465690\n",
       "предприниматель    499163.144947\n",
       "сотрудник          161380.260488\n",
       "студент             98201.625314\n",
       "Name: total_income, dtype: float64"
      ]
     },
     "execution_count": 9,
     "metadata": {},
     "output_type": "execute_result"
    }
   ],
   "source": [
    "credit_data_grouped_income_mean = credit_data.groupby('income_type')['total_income'].mean()\n",
    "credit_data_grouped_income_mean"
   ]
  },
  {
   "cell_type": "code",
   "execution_count": 10,
   "metadata": {},
   "outputs": [
    {
     "data": {
      "text/plain": [
       "income_type\n",
       "безработный        17437.000000\n",
       "в декрете           3296.759962\n",
       "госслужащий         3399.896902\n",
       "компаньон           2111.485385\n",
       "пенсионер          17437.000000\n",
       "предприниматель      520.848083\n",
       "сотрудник           2326.404154\n",
       "студент              578.751554\n",
       "Name: days_employed, dtype: float64"
      ]
     },
     "execution_count": 10,
     "metadata": {},
     "output_type": "execute_result"
    }
   ],
   "source": [
    "credit_data_grouped_days_mean = credit_data.groupby('income_type')['days_employed'].mean()\n",
    "credit_data_grouped_days_mean"
   ]
  },
  {
   "cell_type": "code",
   "execution_count": 11,
   "metadata": {},
   "outputs": [],
   "source": [
    "credit_data['days_employed']= credit_data['days_employed'].fillna(0) \n",
    "credit_data['total_income']= credit_data['total_income'].fillna(0)\n",
    "\n",
    "def func_income(row):\n",
    "    income = row['total_income']\n",
    "    inc_type = row['income_type']\n",
    "    if income == 0: # if pd.isna(row['total_income']): почему-то не работает\n",
    "        return credit_data_grouped_income_mean.loc[row['income_type']]\n",
    "    return row['total_income']\n",
    "\n",
    "def func_days(row):\n",
    "    income = row['days_employed']\n",
    "    inc_type = row['income_type']\n",
    "    if income == 0: # if pd.isna(row['total_income']): почему-то не работает\n",
    "        return credit_data_grouped_days_mean.loc[row['income_type']]\n",
    "    return row['total_income']\n",
    " \n",
    "credit_data['total_income'] = credit_data.apply(func_income, axis=1)\n",
    "credit_data['days_employed'] = credit_data.apply(func_days, axis=1)"
   ]
  },
  {
   "cell_type": "markdown",
   "metadata": {},
   "source": [
    "<div class=\"alert alert-success\">\n",
    "<b>Комментарий ревьюера V2:</b>\n",
    "\n",
    "Теперь, хорошо.\n",
    "</div>"
   ]
  },
  {
   "cell_type": "code",
   "execution_count": 12,
   "metadata": {},
   "outputs": [
    {
     "data": {
      "text/html": [
       "<div>\n",
       "<style scoped>\n",
       "    .dataframe tbody tr th:only-of-type {\n",
       "        vertical-align: middle;\n",
       "    }\n",
       "\n",
       "    .dataframe tbody tr th {\n",
       "        vertical-align: top;\n",
       "    }\n",
       "\n",
       "    .dataframe thead th {\n",
       "        text-align: right;\n",
       "    }\n",
       "</style>\n",
       "<table border=\"1\" class=\"dataframe\">\n",
       "  <thead>\n",
       "    <tr style=\"text-align: right;\">\n",
       "      <th></th>\n",
       "      <th>children</th>\n",
       "      <th>days_employed</th>\n",
       "      <th>dob_years</th>\n",
       "      <th>education</th>\n",
       "      <th>education_id</th>\n",
       "      <th>family_status</th>\n",
       "      <th>family_status_id</th>\n",
       "      <th>gender</th>\n",
       "      <th>income_type</th>\n",
       "      <th>debt</th>\n",
       "      <th>total_income</th>\n",
       "      <th>purpose</th>\n",
       "    </tr>\n",
       "  </thead>\n",
       "  <tbody>\n",
       "    <tr>\n",
       "      <td>11</td>\n",
       "      <td>0</td>\n",
       "      <td>77069.234271</td>\n",
       "      <td>40</td>\n",
       "      <td>среднее</td>\n",
       "      <td>1</td>\n",
       "      <td>женат / замужем</td>\n",
       "      <td>0</td>\n",
       "      <td>F</td>\n",
       "      <td>сотрудник</td>\n",
       "      <td>0</td>\n",
       "      <td>77069.234271</td>\n",
       "      <td>покупка коммерческой недвижимости</td>\n",
       "    </tr>\n",
       "    <tr>\n",
       "      <td>12</td>\n",
       "      <td>0</td>\n",
       "      <td>17437.000000</td>\n",
       "      <td>65</td>\n",
       "      <td>среднее</td>\n",
       "      <td>1</td>\n",
       "      <td>гражданский брак</td>\n",
       "      <td>1</td>\n",
       "      <td>M</td>\n",
       "      <td>пенсионер</td>\n",
       "      <td>0</td>\n",
       "      <td>137127.465690</td>\n",
       "      <td>сыграть свадьбу</td>\n",
       "    </tr>\n",
       "    <tr>\n",
       "      <td>13</td>\n",
       "      <td>0</td>\n",
       "      <td>130458.228857</td>\n",
       "      <td>54</td>\n",
       "      <td>неоконченное высшее</td>\n",
       "      <td>2</td>\n",
       "      <td>женат / замужем</td>\n",
       "      <td>0</td>\n",
       "      <td>F</td>\n",
       "      <td>сотрудник</td>\n",
       "      <td>0</td>\n",
       "      <td>130458.228857</td>\n",
       "      <td>приобретение автомобиля</td>\n",
       "    </tr>\n",
       "  </tbody>\n",
       "</table>\n",
       "</div>"
      ],
      "text/plain": [
       "    children  days_employed  dob_years            education  education_id  \\\n",
       "11         0   77069.234271         40              среднее             1   \n",
       "12         0   17437.000000         65              среднее             1   \n",
       "13         0  130458.228857         54  неоконченное высшее             2   \n",
       "\n",
       "       family_status  family_status_id gender income_type  debt  \\\n",
       "11   женат / замужем                 0      F   сотрудник     0   \n",
       "12  гражданский брак                 1      M   пенсионер     0   \n",
       "13   женат / замужем                 0      F   сотрудник     0   \n",
       "\n",
       "     total_income                            purpose  \n",
       "11   77069.234271  покупка коммерческой недвижимости  \n",
       "12  137127.465690                    сыграть свадьбу  \n",
       "13  130458.228857            приобретение автомобиля  "
      ]
     },
     "execution_count": 12,
     "metadata": {},
     "output_type": "execute_result"
    }
   ],
   "source": [
    "credit_data.loc[11:13]"
   ]
  },
  {
   "cell_type": "markdown",
   "metadata": {},
   "source": [
    "Заменили отсутствующие значения средними по выборке из определенной категории `income_type`"
   ]
  },
  {
   "cell_type": "markdown",
   "metadata": {},
   "source": [
    "<div class=\"alert alert-info\"> <b>Комментарий студента:</b> Исправил!</div>"
   ]
  },
  {
   "cell_type": "markdown",
   "metadata": {},
   "source": [
    "Проверим остальные столбцы, в столбце **dob_years**:"
   ]
  },
  {
   "cell_type": "code",
   "execution_count": 13,
   "metadata": {},
   "outputs": [
    {
     "data": {
      "text/plain": [
       "'минимальный возраст:0, максимальный возраст:75'"
      ]
     },
     "execution_count": 13,
     "metadata": {},
     "output_type": "execute_result"
    }
   ],
   "source": [
    "years_min = credit_data['dob_years'].min()\n",
    "years_max = credit_data['dob_years'].max()\n",
    "f\"минимальный возраст:{years_min}, максимальный возраст:{years_max}\"\n"
   ]
  },
  {
   "cell_type": "markdown",
   "metadata": {},
   "source": []
  },
  {
   "cell_type": "markdown",
   "metadata": {},
   "source": [
    "В возрасте 0 лет обычно не дают кредит, по-этому заменим на средние значения по группе `income_type`. `# Исправление после проверки` "
   ]
  },
  {
   "cell_type": "code",
   "execution_count": 14,
   "metadata": {},
   "outputs": [],
   "source": [
    "# years_median = credit_data['dob_years'].median()\n",
    "# credit_data['dob_years'] = credit_data['dob_years'].replace(0,years_median)\n",
    "# credit_data"
   ]
  },
  {
   "cell_type": "markdown",
   "metadata": {},
   "source": [
    "<div class=\"alert alert-danger\">\n",
    "<b>Комментарий ревьюера:</b>\n",
    "\n",
    "Заполнять 0 значения возраста медианой вряд ли допустимо. Данные разношерстные, есть разные возраста, разные типы занятости и у всех у них будет медианный возраст. Думаю, вряд ли такое встречается, чтобы студент и пенсионер были одного возраста?\n",
    "    \n",
    "- Попробуй заполнить 0 значения исходя из разных типов занятости к примеру\n",
    "</div>"
   ]
  },
  {
   "cell_type": "code",
   "execution_count": 15,
   "metadata": {},
   "outputs": [
    {
     "data": {
      "text/plain": [
       "income_type\n",
       "безработный        38.000000\n",
       "в декрете          39.000000\n",
       "госслужащий        40.636737\n",
       "компаньон          39.697542\n",
       "пенсионер          59.063019\n",
       "предприниматель    42.500000\n",
       "сотрудник          39.821027\n",
       "студент            22.000000\n",
       "Name: dob_years, dtype: float64"
      ]
     },
     "execution_count": 15,
     "metadata": {},
     "output_type": "execute_result"
    }
   ],
   "source": [
    "credit_data_grouped_years_mean = credit_data.groupby('income_type')['dob_years'].mean()\n",
    "credit_data_grouped_years_mean"
   ]
  },
  {
   "cell_type": "code",
   "execution_count": 16,
   "metadata": {},
   "outputs": [
    {
     "data": {
      "text/html": [
       "<div>\n",
       "<style scoped>\n",
       "    .dataframe tbody tr th:only-of-type {\n",
       "        vertical-align: middle;\n",
       "    }\n",
       "\n",
       "    .dataframe tbody tr th {\n",
       "        vertical-align: top;\n",
       "    }\n",
       "\n",
       "    .dataframe thead th {\n",
       "        text-align: right;\n",
       "    }\n",
       "</style>\n",
       "<table border=\"1\" class=\"dataframe\">\n",
       "  <thead>\n",
       "    <tr style=\"text-align: right;\">\n",
       "      <th></th>\n",
       "      <th>children</th>\n",
       "      <th>days_employed</th>\n",
       "      <th>dob_years</th>\n",
       "      <th>education</th>\n",
       "      <th>education_id</th>\n",
       "      <th>family_status</th>\n",
       "      <th>family_status_id</th>\n",
       "      <th>gender</th>\n",
       "      <th>income_type</th>\n",
       "      <th>debt</th>\n",
       "      <th>total_income</th>\n",
       "      <th>purpose</th>\n",
       "    </tr>\n",
       "  </thead>\n",
       "  <tbody>\n",
       "    <tr>\n",
       "      <td>99</td>\n",
       "      <td>0</td>\n",
       "      <td>71291.522491</td>\n",
       "      <td>0</td>\n",
       "      <td>Среднее</td>\n",
       "      <td>1</td>\n",
       "      <td>женат / замужем</td>\n",
       "      <td>0</td>\n",
       "      <td>F</td>\n",
       "      <td>пенсионер</td>\n",
       "      <td>0</td>\n",
       "      <td>71291.522491</td>\n",
       "      <td>автомобиль</td>\n",
       "    </tr>\n",
       "    <tr>\n",
       "      <td>149</td>\n",
       "      <td>0</td>\n",
       "      <td>70176.435951</td>\n",
       "      <td>0</td>\n",
       "      <td>среднее</td>\n",
       "      <td>1</td>\n",
       "      <td>в разводе</td>\n",
       "      <td>3</td>\n",
       "      <td>F</td>\n",
       "      <td>сотрудник</td>\n",
       "      <td>0</td>\n",
       "      <td>70176.435951</td>\n",
       "      <td>операции с жильем</td>\n",
       "    </tr>\n",
       "    <tr>\n",
       "      <td>270</td>\n",
       "      <td>3</td>\n",
       "      <td>102166.458894</td>\n",
       "      <td>0</td>\n",
       "      <td>среднее</td>\n",
       "      <td>1</td>\n",
       "      <td>женат / замужем</td>\n",
       "      <td>0</td>\n",
       "      <td>F</td>\n",
       "      <td>сотрудник</td>\n",
       "      <td>0</td>\n",
       "      <td>102166.458894</td>\n",
       "      <td>ремонт жилью</td>\n",
       "    </tr>\n",
       "    <tr>\n",
       "      <td>578</td>\n",
       "      <td>0</td>\n",
       "      <td>97620.687042</td>\n",
       "      <td>0</td>\n",
       "      <td>среднее</td>\n",
       "      <td>1</td>\n",
       "      <td>женат / замужем</td>\n",
       "      <td>0</td>\n",
       "      <td>F</td>\n",
       "      <td>пенсионер</td>\n",
       "      <td>0</td>\n",
       "      <td>97620.687042</td>\n",
       "      <td>строительство собственной недвижимости</td>\n",
       "    </tr>\n",
       "    <tr>\n",
       "      <td>1040</td>\n",
       "      <td>0</td>\n",
       "      <td>303994.134987</td>\n",
       "      <td>0</td>\n",
       "      <td>высшее</td>\n",
       "      <td>0</td>\n",
       "      <td>в разводе</td>\n",
       "      <td>3</td>\n",
       "      <td>F</td>\n",
       "      <td>компаньон</td>\n",
       "      <td>0</td>\n",
       "      <td>303994.134987</td>\n",
       "      <td>свой автомобиль</td>\n",
       "    </tr>\n",
       "    <tr>\n",
       "      <td>...</td>\n",
       "      <td>...</td>\n",
       "      <td>...</td>\n",
       "      <td>...</td>\n",
       "      <td>...</td>\n",
       "      <td>...</td>\n",
       "      <td>...</td>\n",
       "      <td>...</td>\n",
       "      <td>...</td>\n",
       "      <td>...</td>\n",
       "      <td>...</td>\n",
       "      <td>...</td>\n",
       "      <td>...</td>\n",
       "    </tr>\n",
       "    <tr>\n",
       "      <td>19829</td>\n",
       "      <td>0</td>\n",
       "      <td>2326.404154</td>\n",
       "      <td>0</td>\n",
       "      <td>среднее</td>\n",
       "      <td>1</td>\n",
       "      <td>женат / замужем</td>\n",
       "      <td>0</td>\n",
       "      <td>F</td>\n",
       "      <td>сотрудник</td>\n",
       "      <td>0</td>\n",
       "      <td>161380.260488</td>\n",
       "      <td>жилье</td>\n",
       "    </tr>\n",
       "    <tr>\n",
       "      <td>20462</td>\n",
       "      <td>0</td>\n",
       "      <td>259193.920299</td>\n",
       "      <td>0</td>\n",
       "      <td>среднее</td>\n",
       "      <td>1</td>\n",
       "      <td>женат / замужем</td>\n",
       "      <td>0</td>\n",
       "      <td>F</td>\n",
       "      <td>пенсионер</td>\n",
       "      <td>0</td>\n",
       "      <td>259193.920299</td>\n",
       "      <td>покупка своего жилья</td>\n",
       "    </tr>\n",
       "    <tr>\n",
       "      <td>20577</td>\n",
       "      <td>0</td>\n",
       "      <td>129788.762899</td>\n",
       "      <td>0</td>\n",
       "      <td>среднее</td>\n",
       "      <td>1</td>\n",
       "      <td>Не женат / не замужем</td>\n",
       "      <td>4</td>\n",
       "      <td>F</td>\n",
       "      <td>пенсионер</td>\n",
       "      <td>0</td>\n",
       "      <td>129788.762899</td>\n",
       "      <td>недвижимость</td>\n",
       "    </tr>\n",
       "    <tr>\n",
       "      <td>21179</td>\n",
       "      <td>2</td>\n",
       "      <td>240702.007382</td>\n",
       "      <td>0</td>\n",
       "      <td>высшее</td>\n",
       "      <td>0</td>\n",
       "      <td>женат / замужем</td>\n",
       "      <td>0</td>\n",
       "      <td>M</td>\n",
       "      <td>компаньон</td>\n",
       "      <td>0</td>\n",
       "      <td>240702.007382</td>\n",
       "      <td>строительство жилой недвижимости</td>\n",
       "    </tr>\n",
       "    <tr>\n",
       "      <td>21313</td>\n",
       "      <td>0</td>\n",
       "      <td>152419.184851</td>\n",
       "      <td>0</td>\n",
       "      <td>среднее</td>\n",
       "      <td>1</td>\n",
       "      <td>Не женат / не замужем</td>\n",
       "      <td>4</td>\n",
       "      <td>M</td>\n",
       "      <td>сотрудник</td>\n",
       "      <td>0</td>\n",
       "      <td>152419.184851</td>\n",
       "      <td>операции с жильем</td>\n",
       "    </tr>\n",
       "  </tbody>\n",
       "</table>\n",
       "<p>101 rows × 12 columns</p>\n",
       "</div>"
      ],
      "text/plain": [
       "       children  days_employed  dob_years education  education_id  \\\n",
       "99            0   71291.522491          0   Среднее             1   \n",
       "149           0   70176.435951          0   среднее             1   \n",
       "270           3  102166.458894          0   среднее             1   \n",
       "578           0   97620.687042          0   среднее             1   \n",
       "1040          0  303994.134987          0    высшее             0   \n",
       "...         ...            ...        ...       ...           ...   \n",
       "19829         0    2326.404154          0   среднее             1   \n",
       "20462         0  259193.920299          0   среднее             1   \n",
       "20577         0  129788.762899          0   среднее             1   \n",
       "21179         2  240702.007382          0    высшее             0   \n",
       "21313         0  152419.184851          0   среднее             1   \n",
       "\n",
       "               family_status  family_status_id gender income_type  debt  \\\n",
       "99           женат / замужем                 0      F   пенсионер     0   \n",
       "149                в разводе                 3      F   сотрудник     0   \n",
       "270          женат / замужем                 0      F   сотрудник     0   \n",
       "578          женат / замужем                 0      F   пенсионер     0   \n",
       "1040               в разводе                 3      F   компаньон     0   \n",
       "...                      ...               ...    ...         ...   ...   \n",
       "19829        женат / замужем                 0      F   сотрудник     0   \n",
       "20462        женат / замужем                 0      F   пенсионер     0   \n",
       "20577  Не женат / не замужем                 4      F   пенсионер     0   \n",
       "21179        женат / замужем                 0      M   компаньон     0   \n",
       "21313  Не женат / не замужем                 4      M   сотрудник     0   \n",
       "\n",
       "        total_income                                 purpose  \n",
       "99      71291.522491                              автомобиль  \n",
       "149     70176.435951                       операции с жильем  \n",
       "270    102166.458894                            ремонт жилью  \n",
       "578     97620.687042  строительство собственной недвижимости  \n",
       "1040   303994.134987                         свой автомобиль  \n",
       "...              ...                                     ...  \n",
       "19829  161380.260488                                   жилье  \n",
       "20462  259193.920299                    покупка своего жилья  \n",
       "20577  129788.762899                            недвижимость  \n",
       "21179  240702.007382        строительство жилой недвижимости  \n",
       "21313  152419.184851                       операции с жильем  \n",
       "\n",
       "[101 rows x 12 columns]"
      ]
     },
     "execution_count": 16,
     "metadata": {},
     "output_type": "execute_result"
    }
   ],
   "source": [
    "cd = credit_data[credit_data['dob_years'] == 0]\n",
    "cd"
   ]
  },
  {
   "cell_type": "code",
   "execution_count": 17,
   "metadata": {},
   "outputs": [
    {
     "data": {
      "text/html": [
       "<div>\n",
       "<style scoped>\n",
       "    .dataframe tbody tr th:only-of-type {\n",
       "        vertical-align: middle;\n",
       "    }\n",
       "\n",
       "    .dataframe tbody tr th {\n",
       "        vertical-align: top;\n",
       "    }\n",
       "\n",
       "    .dataframe thead th {\n",
       "        text-align: right;\n",
       "    }\n",
       "</style>\n",
       "<table border=\"1\" class=\"dataframe\">\n",
       "  <thead>\n",
       "    <tr style=\"text-align: right;\">\n",
       "      <th></th>\n",
       "      <th>children</th>\n",
       "      <th>days_employed</th>\n",
       "      <th>dob_years</th>\n",
       "      <th>education</th>\n",
       "      <th>education_id</th>\n",
       "      <th>family_status</th>\n",
       "      <th>family_status_id</th>\n",
       "      <th>gender</th>\n",
       "      <th>income_type</th>\n",
       "      <th>debt</th>\n",
       "      <th>total_income</th>\n",
       "      <th>purpose</th>\n",
       "    </tr>\n",
       "  </thead>\n",
       "  <tbody>\n",
       "    <tr>\n",
       "      <td>148</td>\n",
       "      <td>0</td>\n",
       "      <td>145159.214977</td>\n",
       "      <td>37.000000</td>\n",
       "      <td>среднее</td>\n",
       "      <td>1</td>\n",
       "      <td>женат / замужем</td>\n",
       "      <td>0</td>\n",
       "      <td>F</td>\n",
       "      <td>сотрудник</td>\n",
       "      <td>0</td>\n",
       "      <td>145159.214977</td>\n",
       "      <td>на покупку своего автомобиля</td>\n",
       "    </tr>\n",
       "    <tr>\n",
       "      <td>149</td>\n",
       "      <td>0</td>\n",
       "      <td>70176.435951</td>\n",
       "      <td>39.821027</td>\n",
       "      <td>среднее</td>\n",
       "      <td>1</td>\n",
       "      <td>в разводе</td>\n",
       "      <td>3</td>\n",
       "      <td>F</td>\n",
       "      <td>сотрудник</td>\n",
       "      <td>0</td>\n",
       "      <td>70176.435951</td>\n",
       "      <td>операции с жильем</td>\n",
       "    </tr>\n",
       "    <tr>\n",
       "      <td>150</td>\n",
       "      <td>0</td>\n",
       "      <td>174088.293221</td>\n",
       "      <td>71.000000</td>\n",
       "      <td>среднее</td>\n",
       "      <td>1</td>\n",
       "      <td>гражданский брак</td>\n",
       "      <td>1</td>\n",
       "      <td>F</td>\n",
       "      <td>пенсионер</td>\n",
       "      <td>0</td>\n",
       "      <td>174088.293221</td>\n",
       "      <td>сыграть свадьбу</td>\n",
       "    </tr>\n",
       "  </tbody>\n",
       "</table>\n",
       "</div>"
      ],
      "text/plain": [
       "     children  days_employed  dob_years education  education_id  \\\n",
       "148         0  145159.214977  37.000000   среднее             1   \n",
       "149         0   70176.435951  39.821027   среднее             1   \n",
       "150         0  174088.293221  71.000000   среднее             1   \n",
       "\n",
       "        family_status  family_status_id gender income_type  debt  \\\n",
       "148   женат / замужем                 0      F   сотрудник     0   \n",
       "149         в разводе                 3      F   сотрудник     0   \n",
       "150  гражданский брак                 1      F   пенсионер     0   \n",
       "\n",
       "      total_income                       purpose  \n",
       "148  145159.214977  на покупку своего автомобиля  \n",
       "149   70176.435951             операции с жильем  \n",
       "150  174088.293221               сыграть свадьбу  "
      ]
     },
     "execution_count": 17,
     "metadata": {},
     "output_type": "execute_result"
    }
   ],
   "source": [
    "def func_years(row):\n",
    "    years = row['dob_years']\n",
    "    inc_type = row['income_type']\n",
    "    if years == 0: \n",
    "        return credit_data_grouped_years_mean.loc[row['income_type']]\n",
    "    return row['dob_years']\n",
    "credit_data['dob_years'] = credit_data.apply(func_years, axis=1)\n",
    "credit_data.loc[148:150]"
   ]
  },
  {
   "cell_type": "markdown",
   "metadata": {},
   "source": [
    "<div class=\"alert alert-info\"> <b>Комментарий студента:</b> Исправил!</div>"
   ]
  },
  {
   "cell_type": "markdown",
   "metadata": {},
   "source": [
    "<div class=\"alert alert-success\">\n",
    "<b>Комментарий ревьюера V2:</b>\n",
    "\n",
    "Отлично. Так же необязательно заполнять их сначала нулями, можно сразу заменять пропущенные с помощью `fillna()`, только надо передать туда нужные значения.\n",
    "</div>"
   ]
  },
  {
   "cell_type": "markdown",
   "metadata": {},
   "source": [
    "Проверим столбец\n",
    "**children**"
   ]
  },
  {
   "cell_type": "code",
   "execution_count": 18,
   "metadata": {},
   "outputs": [
    {
     "data": {
      "text/plain": [
       " 0     14149\n",
       " 1      4818\n",
       " 2      2055\n",
       " 3       330\n",
       " 20       76\n",
       "-1        47\n",
       " 4        41\n",
       " 5         9\n",
       "Name: children, dtype: int64"
      ]
     },
     "execution_count": 18,
     "metadata": {},
     "output_type": "execute_result"
    }
   ],
   "source": [
    "credit_data['children'].value_counts()"
   ]
  },
  {
   "cell_type": "markdown",
   "metadata": {},
   "source": [
    "выбросы: (-1) - заменим на 1, предполагая, что ошибка в выгрузке данных  \n",
    "(20) - заменим на 2, предполагая, что ошибка в выгрузке данных"
   ]
  },
  {
   "cell_type": "code",
   "execution_count": 19,
   "metadata": {},
   "outputs": [
    {
     "data": {
      "text/plain": [
       "0    14149\n",
       "1     4865\n",
       "2     2131\n",
       "3      330\n",
       "4       41\n",
       "5        9\n",
       "Name: children, dtype: int64"
      ]
     },
     "execution_count": 19,
     "metadata": {},
     "output_type": "execute_result"
    }
   ],
   "source": [
    "credit_data.loc[credit_data['children'] == -1,'children'] = 1\n",
    "credit_data.loc[credit_data['children'] == 20,'children'] = 2\n",
    "credit_data['children'].value_counts()"
   ]
  },
  {
   "cell_type": "markdown",
   "metadata": {},
   "source": [
    "<div class=\"alert alert-success\">\n",
    "<b>Комментарий ревьюера:</b>\n",
    "\n",
    "Да, тут согласен.\n",
    "</div>"
   ]
  },
  {
   "cell_type": "markdown",
   "metadata": {},
   "source": [
    "### Замена типа данных"
   ]
  },
  {
   "cell_type": "markdown",
   "metadata": {},
   "source": [
    "Переведем значения столбцов **days_employed** и **total_income** в int, столбец **education** понизим в регистре."
   ]
  },
  {
   "cell_type": "code",
   "execution_count": 20,
   "metadata": {},
   "outputs": [],
   "source": [
    "credit_data['days_employed'] = credit_data['days_employed'].astype('int')\n",
    "credit_data['total_income'] = credit_data['total_income'].astype('int')"
   ]
  },
  {
   "cell_type": "code",
   "execution_count": 21,
   "metadata": {},
   "outputs": [],
   "source": [
    "credit_data['education'] = credit_data['education'].str.lower()"
   ]
  },
  {
   "cell_type": "markdown",
   "metadata": {},
   "source": [
    "**Вывод**"
   ]
  },
  {
   "cell_type": "markdown",
   "metadata": {},
   "source": [
    "Мы привели значения столбцов в int, понизили регистр для нахождения дубликатов"
   ]
  },
  {
   "cell_type": "markdown",
   "metadata": {},
   "source": [
    "<div class=\"alert alert-success\">\n",
    "<b>Комментарий ревьюера:</b>\n",
    "\n",
    "Работа с типами корректна.\n",
    "</div>"
   ]
  },
  {
   "cell_type": "markdown",
   "metadata": {},
   "source": [
    "### Обработка дубликатов"
   ]
  },
  {
   "cell_type": "code",
   "execution_count": 22,
   "metadata": {},
   "outputs": [
    {
     "data": {
      "text/html": [
       "<div>\n",
       "<style scoped>\n",
       "    .dataframe tbody tr th:only-of-type {\n",
       "        vertical-align: middle;\n",
       "    }\n",
       "\n",
       "    .dataframe tbody tr th {\n",
       "        vertical-align: top;\n",
       "    }\n",
       "\n",
       "    .dataframe thead th {\n",
       "        text-align: right;\n",
       "    }\n",
       "</style>\n",
       "<table border=\"1\" class=\"dataframe\">\n",
       "  <thead>\n",
       "    <tr style=\"text-align: right;\">\n",
       "      <th></th>\n",
       "      <th>children</th>\n",
       "      <th>days_employed</th>\n",
       "      <th>dob_years</th>\n",
       "      <th>education</th>\n",
       "      <th>education_id</th>\n",
       "      <th>family_status</th>\n",
       "      <th>family_status_id</th>\n",
       "      <th>gender</th>\n",
       "      <th>income_type</th>\n",
       "      <th>debt</th>\n",
       "      <th>total_income</th>\n",
       "      <th>purpose</th>\n",
       "    </tr>\n",
       "  </thead>\n",
       "  <tbody>\n",
       "    <tr>\n",
       "      <td>0</td>\n",
       "      <td>1</td>\n",
       "      <td>253875</td>\n",
       "      <td>42.0</td>\n",
       "      <td>высшее</td>\n",
       "      <td>0</td>\n",
       "      <td>женат / замужем</td>\n",
       "      <td>0</td>\n",
       "      <td>F</td>\n",
       "      <td>сотрудник</td>\n",
       "      <td>0</td>\n",
       "      <td>253875</td>\n",
       "      <td>покупка жилья</td>\n",
       "    </tr>\n",
       "    <tr>\n",
       "      <td>1</td>\n",
       "      <td>1</td>\n",
       "      <td>112080</td>\n",
       "      <td>36.0</td>\n",
       "      <td>среднее</td>\n",
       "      <td>1</td>\n",
       "      <td>женат / замужем</td>\n",
       "      <td>0</td>\n",
       "      <td>F</td>\n",
       "      <td>сотрудник</td>\n",
       "      <td>0</td>\n",
       "      <td>112080</td>\n",
       "      <td>приобретение автомобиля</td>\n",
       "    </tr>\n",
       "    <tr>\n",
       "      <td>2</td>\n",
       "      <td>0</td>\n",
       "      <td>145885</td>\n",
       "      <td>33.0</td>\n",
       "      <td>среднее</td>\n",
       "      <td>1</td>\n",
       "      <td>женат / замужем</td>\n",
       "      <td>0</td>\n",
       "      <td>M</td>\n",
       "      <td>сотрудник</td>\n",
       "      <td>0</td>\n",
       "      <td>145885</td>\n",
       "      <td>покупка жилья</td>\n",
       "    </tr>\n",
       "    <tr>\n",
       "      <td>3</td>\n",
       "      <td>3</td>\n",
       "      <td>267628</td>\n",
       "      <td>32.0</td>\n",
       "      <td>среднее</td>\n",
       "      <td>1</td>\n",
       "      <td>женат / замужем</td>\n",
       "      <td>0</td>\n",
       "      <td>M</td>\n",
       "      <td>сотрудник</td>\n",
       "      <td>0</td>\n",
       "      <td>267628</td>\n",
       "      <td>дополнительное образование</td>\n",
       "    </tr>\n",
       "    <tr>\n",
       "      <td>4</td>\n",
       "      <td>0</td>\n",
       "      <td>158616</td>\n",
       "      <td>53.0</td>\n",
       "      <td>среднее</td>\n",
       "      <td>1</td>\n",
       "      <td>гражданский брак</td>\n",
       "      <td>1</td>\n",
       "      <td>F</td>\n",
       "      <td>пенсионер</td>\n",
       "      <td>0</td>\n",
       "      <td>158616</td>\n",
       "      <td>сыграть свадьбу</td>\n",
       "    </tr>\n",
       "    <tr>\n",
       "      <td>...</td>\n",
       "      <td>...</td>\n",
       "      <td>...</td>\n",
       "      <td>...</td>\n",
       "      <td>...</td>\n",
       "      <td>...</td>\n",
       "      <td>...</td>\n",
       "      <td>...</td>\n",
       "      <td>...</td>\n",
       "      <td>...</td>\n",
       "      <td>...</td>\n",
       "      <td>...</td>\n",
       "      <td>...</td>\n",
       "    </tr>\n",
       "    <tr>\n",
       "      <td>21449</td>\n",
       "      <td>1</td>\n",
       "      <td>224791</td>\n",
       "      <td>43.0</td>\n",
       "      <td>среднее</td>\n",
       "      <td>1</td>\n",
       "      <td>гражданский брак</td>\n",
       "      <td>1</td>\n",
       "      <td>F</td>\n",
       "      <td>компаньон</td>\n",
       "      <td>0</td>\n",
       "      <td>224791</td>\n",
       "      <td>операции с жильем</td>\n",
       "    </tr>\n",
       "    <tr>\n",
       "      <td>21450</td>\n",
       "      <td>0</td>\n",
       "      <td>155999</td>\n",
       "      <td>67.0</td>\n",
       "      <td>среднее</td>\n",
       "      <td>1</td>\n",
       "      <td>женат / замужем</td>\n",
       "      <td>0</td>\n",
       "      <td>F</td>\n",
       "      <td>пенсионер</td>\n",
       "      <td>0</td>\n",
       "      <td>155999</td>\n",
       "      <td>сделка с автомобилем</td>\n",
       "    </tr>\n",
       "    <tr>\n",
       "      <td>21451</td>\n",
       "      <td>1</td>\n",
       "      <td>89672</td>\n",
       "      <td>38.0</td>\n",
       "      <td>среднее</td>\n",
       "      <td>1</td>\n",
       "      <td>гражданский брак</td>\n",
       "      <td>1</td>\n",
       "      <td>M</td>\n",
       "      <td>сотрудник</td>\n",
       "      <td>1</td>\n",
       "      <td>89672</td>\n",
       "      <td>недвижимость</td>\n",
       "    </tr>\n",
       "    <tr>\n",
       "      <td>21452</td>\n",
       "      <td>3</td>\n",
       "      <td>244093</td>\n",
       "      <td>38.0</td>\n",
       "      <td>среднее</td>\n",
       "      <td>1</td>\n",
       "      <td>женат / замужем</td>\n",
       "      <td>0</td>\n",
       "      <td>M</td>\n",
       "      <td>сотрудник</td>\n",
       "      <td>1</td>\n",
       "      <td>244093</td>\n",
       "      <td>на покупку своего автомобиля</td>\n",
       "    </tr>\n",
       "    <tr>\n",
       "      <td>21453</td>\n",
       "      <td>2</td>\n",
       "      <td>82047</td>\n",
       "      <td>40.0</td>\n",
       "      <td>среднее</td>\n",
       "      <td>1</td>\n",
       "      <td>женат / замужем</td>\n",
       "      <td>0</td>\n",
       "      <td>F</td>\n",
       "      <td>сотрудник</td>\n",
       "      <td>0</td>\n",
       "      <td>82047</td>\n",
       "      <td>на покупку автомобиля</td>\n",
       "    </tr>\n",
       "  </tbody>\n",
       "</table>\n",
       "<p>21454 rows × 12 columns</p>\n",
       "</div>"
      ],
      "text/plain": [
       "       children  days_employed  dob_years education  education_id  \\\n",
       "0             1         253875       42.0    высшее             0   \n",
       "1             1         112080       36.0   среднее             1   \n",
       "2             0         145885       33.0   среднее             1   \n",
       "3             3         267628       32.0   среднее             1   \n",
       "4             0         158616       53.0   среднее             1   \n",
       "...         ...            ...        ...       ...           ...   \n",
       "21449         1         224791       43.0   среднее             1   \n",
       "21450         0         155999       67.0   среднее             1   \n",
       "21451         1          89672       38.0   среднее             1   \n",
       "21452         3         244093       38.0   среднее             1   \n",
       "21453         2          82047       40.0   среднее             1   \n",
       "\n",
       "          family_status  family_status_id gender income_type  debt  \\\n",
       "0       женат / замужем                 0      F   сотрудник     0   \n",
       "1       женат / замужем                 0      F   сотрудник     0   \n",
       "2       женат / замужем                 0      M   сотрудник     0   \n",
       "3       женат / замужем                 0      M   сотрудник     0   \n",
       "4      гражданский брак                 1      F   пенсионер     0   \n",
       "...                 ...               ...    ...         ...   ...   \n",
       "21449  гражданский брак                 1      F   компаньон     0   \n",
       "21450   женат / замужем                 0      F   пенсионер     0   \n",
       "21451  гражданский брак                 1      M   сотрудник     1   \n",
       "21452   женат / замужем                 0      M   сотрудник     1   \n",
       "21453   женат / замужем                 0      F   сотрудник     0   \n",
       "\n",
       "       total_income                       purpose  \n",
       "0            253875                 покупка жилья  \n",
       "1            112080       приобретение автомобиля  \n",
       "2            145885                 покупка жилья  \n",
       "3            267628    дополнительное образование  \n",
       "4            158616               сыграть свадьбу  \n",
       "...             ...                           ...  \n",
       "21449        224791             операции с жильем  \n",
       "21450        155999          сделка с автомобилем  \n",
       "21451         89672                  недвижимость  \n",
       "21452        244093  на покупку своего автомобиля  \n",
       "21453         82047         на покупку автомобиля  \n",
       "\n",
       "[21454 rows x 12 columns]"
      ]
     },
     "execution_count": 22,
     "metadata": {},
     "output_type": "execute_result"
    }
   ],
   "source": [
    "credit_data.duplicated().sum()\n",
    "credit_data.drop_duplicates().reset_index(drop=True)\n"
   ]
  },
  {
   "cell_type": "markdown",
   "metadata": {},
   "source": [
    "**Вывод**"
   ]
  },
  {
   "cell_type": "markdown",
   "metadata": {},
   "source": [
    "Выявлено 55 дублирующих строк.Они удалены методом drop_duplicates(), индексы удалены и заменены на новые."
   ]
  },
  {
   "cell_type": "markdown",
   "metadata": {},
   "source": [
    "<div class=\"alert alert-success\">\n",
    "<b>Комментарий ревьюера:</b>\n",
    "\n",
    "Хорошо, согласен.\n",
    "</div>"
   ]
  },
  {
   "cell_type": "markdown",
   "metadata": {},
   "source": [
    "### Лемматизация"
   ]
  },
  {
   "cell_type": "markdown",
   "metadata": {},
   "source": [
    "Проверим, на что же берут кредиты:"
   ]
  },
  {
   "cell_type": "code",
   "execution_count": 23,
   "metadata": {},
   "outputs": [
    {
     "data": {
      "text/plain": [
       "(array(['покупка жилья', 'приобретение автомобиля',\n",
       "        'дополнительное образование', 'сыграть свадьбу',\n",
       "        'операции с жильем', 'образование', 'на проведение свадьбы',\n",
       "        'покупка жилья для семьи', 'покупка недвижимости',\n",
       "        'покупка коммерческой недвижимости', 'покупка жилой недвижимости',\n",
       "        'строительство собственной недвижимости', 'недвижимость',\n",
       "        'строительство недвижимости', 'на покупку подержанного автомобиля',\n",
       "        'на покупку своего автомобиля',\n",
       "        'операции с коммерческой недвижимостью',\n",
       "        'строительство жилой недвижимости', 'жилье',\n",
       "        'операции со своей недвижимостью', 'автомобили',\n",
       "        'заняться образованием', 'сделка с подержанным автомобилем',\n",
       "        'получение образования', 'автомобиль', 'свадьба',\n",
       "        'получение дополнительного образования', 'покупка своего жилья',\n",
       "        'операции с недвижимостью', 'получение высшего образования',\n",
       "        'свой автомобиль', 'сделка с автомобилем',\n",
       "        'профильное образование', 'высшее образование',\n",
       "        'покупка жилья для сдачи', 'на покупку автомобиля', 'ремонт жилью',\n",
       "        'заняться высшим образованием'], dtype=object),\n",
       " 38)"
      ]
     },
     "execution_count": 23,
     "metadata": {},
     "output_type": "execute_result"
    }
   ],
   "source": [
    "from pymystem3 import Mystem\n",
    "from collections import Counter\n",
    "m = Mystem()\n",
    "purposes = credit_data['purpose'].unique()\n",
    "purposes_len = len(purposes)\n",
    "purposes, purposes_len\n",
    "\n",
    "\n"
   ]
  },
  {
   "cell_type": "markdown",
   "metadata": {},
   "source": [
    "Необходимо Лемматизировать список и попробовать еще раз"
   ]
  },
  {
   "cell_type": "code",
   "execution_count": 24,
   "metadata": {},
   "outputs": [
    {
     "data": {
      "text/html": [
       "<div>\n",
       "<style scoped>\n",
       "    .dataframe tbody tr th:only-of-type {\n",
       "        vertical-align: middle;\n",
       "    }\n",
       "\n",
       "    .dataframe tbody tr th {\n",
       "        vertical-align: top;\n",
       "    }\n",
       "\n",
       "    .dataframe thead th {\n",
       "        text-align: right;\n",
       "    }\n",
       "</style>\n",
       "<table border=\"1\" class=\"dataframe\">\n",
       "  <thead>\n",
       "    <tr style=\"text-align: right;\">\n",
       "      <th></th>\n",
       "      <th>children</th>\n",
       "      <th>days_employed</th>\n",
       "      <th>dob_years</th>\n",
       "      <th>education</th>\n",
       "      <th>education_id</th>\n",
       "      <th>family_status</th>\n",
       "      <th>family_status_id</th>\n",
       "      <th>gender</th>\n",
       "      <th>income_type</th>\n",
       "      <th>debt</th>\n",
       "      <th>total_income</th>\n",
       "      <th>purpose</th>\n",
       "      <th>purpose_lem</th>\n",
       "    </tr>\n",
       "  </thead>\n",
       "  <tbody>\n",
       "    <tr>\n",
       "      <td>0</td>\n",
       "      <td>1</td>\n",
       "      <td>253875</td>\n",
       "      <td>42.0</td>\n",
       "      <td>высшее</td>\n",
       "      <td>0</td>\n",
       "      <td>женат / замужем</td>\n",
       "      <td>0</td>\n",
       "      <td>F</td>\n",
       "      <td>сотрудник</td>\n",
       "      <td>0</td>\n",
       "      <td>253875</td>\n",
       "      <td>покупка жилья</td>\n",
       "      <td>[покупка,  , жилье]</td>\n",
       "    </tr>\n",
       "    <tr>\n",
       "      <td>1</td>\n",
       "      <td>1</td>\n",
       "      <td>112080</td>\n",
       "      <td>36.0</td>\n",
       "      <td>среднее</td>\n",
       "      <td>1</td>\n",
       "      <td>женат / замужем</td>\n",
       "      <td>0</td>\n",
       "      <td>F</td>\n",
       "      <td>сотрудник</td>\n",
       "      <td>0</td>\n",
       "      <td>112080</td>\n",
       "      <td>приобретение автомобиля</td>\n",
       "      <td>[приобретение,  , автомобиль]</td>\n",
       "    </tr>\n",
       "    <tr>\n",
       "      <td>2</td>\n",
       "      <td>0</td>\n",
       "      <td>145885</td>\n",
       "      <td>33.0</td>\n",
       "      <td>среднее</td>\n",
       "      <td>1</td>\n",
       "      <td>женат / замужем</td>\n",
       "      <td>0</td>\n",
       "      <td>M</td>\n",
       "      <td>сотрудник</td>\n",
       "      <td>0</td>\n",
       "      <td>145885</td>\n",
       "      <td>покупка жилья</td>\n",
       "      <td>[покупка,  , жилье]</td>\n",
       "    </tr>\n",
       "    <tr>\n",
       "      <td>3</td>\n",
       "      <td>3</td>\n",
       "      <td>267628</td>\n",
       "      <td>32.0</td>\n",
       "      <td>среднее</td>\n",
       "      <td>1</td>\n",
       "      <td>женат / замужем</td>\n",
       "      <td>0</td>\n",
       "      <td>M</td>\n",
       "      <td>сотрудник</td>\n",
       "      <td>0</td>\n",
       "      <td>267628</td>\n",
       "      <td>дополнительное образование</td>\n",
       "      <td>[дополнительный,  , образование]</td>\n",
       "    </tr>\n",
       "    <tr>\n",
       "      <td>4</td>\n",
       "      <td>0</td>\n",
       "      <td>158616</td>\n",
       "      <td>53.0</td>\n",
       "      <td>среднее</td>\n",
       "      <td>1</td>\n",
       "      <td>гражданский брак</td>\n",
       "      <td>1</td>\n",
       "      <td>F</td>\n",
       "      <td>пенсионер</td>\n",
       "      <td>0</td>\n",
       "      <td>158616</td>\n",
       "      <td>сыграть свадьбу</td>\n",
       "      <td>[сыграть,  , свадьба]</td>\n",
       "    </tr>\n",
       "    <tr>\n",
       "      <td>...</td>\n",
       "      <td>...</td>\n",
       "      <td>...</td>\n",
       "      <td>...</td>\n",
       "      <td>...</td>\n",
       "      <td>...</td>\n",
       "      <td>...</td>\n",
       "      <td>...</td>\n",
       "      <td>...</td>\n",
       "      <td>...</td>\n",
       "      <td>...</td>\n",
       "      <td>...</td>\n",
       "      <td>...</td>\n",
       "      <td>...</td>\n",
       "    </tr>\n",
       "    <tr>\n",
       "      <td>21520</td>\n",
       "      <td>1</td>\n",
       "      <td>224791</td>\n",
       "      <td>43.0</td>\n",
       "      <td>среднее</td>\n",
       "      <td>1</td>\n",
       "      <td>гражданский брак</td>\n",
       "      <td>1</td>\n",
       "      <td>F</td>\n",
       "      <td>компаньон</td>\n",
       "      <td>0</td>\n",
       "      <td>224791</td>\n",
       "      <td>операции с жильем</td>\n",
       "      <td>[операция,  , с,  , жилье]</td>\n",
       "    </tr>\n",
       "    <tr>\n",
       "      <td>21521</td>\n",
       "      <td>0</td>\n",
       "      <td>155999</td>\n",
       "      <td>67.0</td>\n",
       "      <td>среднее</td>\n",
       "      <td>1</td>\n",
       "      <td>женат / замужем</td>\n",
       "      <td>0</td>\n",
       "      <td>F</td>\n",
       "      <td>пенсионер</td>\n",
       "      <td>0</td>\n",
       "      <td>155999</td>\n",
       "      <td>сделка с автомобилем</td>\n",
       "      <td>[сделка,  , с,  , автомобиль]</td>\n",
       "    </tr>\n",
       "    <tr>\n",
       "      <td>21522</td>\n",
       "      <td>1</td>\n",
       "      <td>89672</td>\n",
       "      <td>38.0</td>\n",
       "      <td>среднее</td>\n",
       "      <td>1</td>\n",
       "      <td>гражданский брак</td>\n",
       "      <td>1</td>\n",
       "      <td>M</td>\n",
       "      <td>сотрудник</td>\n",
       "      <td>1</td>\n",
       "      <td>89672</td>\n",
       "      <td>недвижимость</td>\n",
       "      <td>[недвижимость]</td>\n",
       "    </tr>\n",
       "    <tr>\n",
       "      <td>21523</td>\n",
       "      <td>3</td>\n",
       "      <td>244093</td>\n",
       "      <td>38.0</td>\n",
       "      <td>среднее</td>\n",
       "      <td>1</td>\n",
       "      <td>женат / замужем</td>\n",
       "      <td>0</td>\n",
       "      <td>M</td>\n",
       "      <td>сотрудник</td>\n",
       "      <td>1</td>\n",
       "      <td>244093</td>\n",
       "      <td>на покупку своего автомобиля</td>\n",
       "      <td>[на,  , покупка,  , свой,  , автомобиль]</td>\n",
       "    </tr>\n",
       "    <tr>\n",
       "      <td>21524</td>\n",
       "      <td>2</td>\n",
       "      <td>82047</td>\n",
       "      <td>40.0</td>\n",
       "      <td>среднее</td>\n",
       "      <td>1</td>\n",
       "      <td>женат / замужем</td>\n",
       "      <td>0</td>\n",
       "      <td>F</td>\n",
       "      <td>сотрудник</td>\n",
       "      <td>0</td>\n",
       "      <td>82047</td>\n",
       "      <td>на покупку автомобиля</td>\n",
       "      <td>[на,  , покупка,  , автомобиль]</td>\n",
       "    </tr>\n",
       "  </tbody>\n",
       "</table>\n",
       "<p>21525 rows × 13 columns</p>\n",
       "</div>"
      ],
      "text/plain": [
       "       children  days_employed  dob_years education  education_id  \\\n",
       "0             1         253875       42.0    высшее             0   \n",
       "1             1         112080       36.0   среднее             1   \n",
       "2             0         145885       33.0   среднее             1   \n",
       "3             3         267628       32.0   среднее             1   \n",
       "4             0         158616       53.0   среднее             1   \n",
       "...         ...            ...        ...       ...           ...   \n",
       "21520         1         224791       43.0   среднее             1   \n",
       "21521         0         155999       67.0   среднее             1   \n",
       "21522         1          89672       38.0   среднее             1   \n",
       "21523         3         244093       38.0   среднее             1   \n",
       "21524         2          82047       40.0   среднее             1   \n",
       "\n",
       "          family_status  family_status_id gender income_type  debt  \\\n",
       "0       женат / замужем                 0      F   сотрудник     0   \n",
       "1       женат / замужем                 0      F   сотрудник     0   \n",
       "2       женат / замужем                 0      M   сотрудник     0   \n",
       "3       женат / замужем                 0      M   сотрудник     0   \n",
       "4      гражданский брак                 1      F   пенсионер     0   \n",
       "...                 ...               ...    ...         ...   ...   \n",
       "21520  гражданский брак                 1      F   компаньон     0   \n",
       "21521   женат / замужем                 0      F   пенсионер     0   \n",
       "21522  гражданский брак                 1      M   сотрудник     1   \n",
       "21523   женат / замужем                 0      M   сотрудник     1   \n",
       "21524   женат / замужем                 0      F   сотрудник     0   \n",
       "\n",
       "       total_income                       purpose  \\\n",
       "0            253875                 покупка жилья   \n",
       "1            112080       приобретение автомобиля   \n",
       "2            145885                 покупка жилья   \n",
       "3            267628    дополнительное образование   \n",
       "4            158616               сыграть свадьбу   \n",
       "...             ...                           ...   \n",
       "21520        224791             операции с жильем   \n",
       "21521        155999          сделка с автомобилем   \n",
       "21522         89672                  недвижимость   \n",
       "21523        244093  на покупку своего автомобиля   \n",
       "21524         82047         на покупку автомобиля   \n",
       "\n",
       "                                    purpose_lem  \n",
       "0                           [покупка,  , жилье]  \n",
       "1                 [приобретение,  , автомобиль]  \n",
       "2                           [покупка,  , жилье]  \n",
       "3              [дополнительный,  , образование]  \n",
       "4                         [сыграть,  , свадьба]  \n",
       "...                                         ...  \n",
       "21520                [операция,  , с,  , жилье]  \n",
       "21521             [сделка,  , с,  , автомобиль]  \n",
       "21522                            [недвижимость]  \n",
       "21523  [на,  , покупка,  , свой,  , автомобиль]  \n",
       "21524           [на,  , покупка,  , автомобиль]  \n",
       "\n",
       "[21525 rows x 13 columns]"
      ]
     },
     "execution_count": 24,
     "metadata": {},
     "output_type": "execute_result"
    }
   ],
   "source": [
    "def lem(row):\n",
    "    lemmas = m.lemmatize(row)\n",
    "#     lemmas =' '.join(lemmas)\n",
    "    return lemmas[:-1]\n",
    "credit_data['purpose_lem'] = credit_data['purpose'].apply(lem)\n",
    "credit_data"
   ]
  },
  {
   "cell_type": "code",
   "execution_count": 25,
   "metadata": {},
   "outputs": [],
   "source": [
    "# purposes = credit_data['purpose_lem'].unique()\n",
    "# purposes_len = len(purposes)\n",
    "# purposes, purposes_len"
   ]
  },
  {
   "cell_type": "markdown",
   "metadata": {},
   "source": [
    "<div class=\"alert alert-danger\">\n",
    "<b>Комментарий ревьюера:</b>\n",
    "\n",
    "Выводи для начала частотность слов после лемматизации, чтобы твои категории явно выделились, для этого они должны быть в топе, иначе непонятно откуда они взялись.\n",
    "</div>"
   ]
  },
  {
   "cell_type": "code",
   "execution_count": 26,
   "metadata": {},
   "outputs": [
    {
     "data": {
      "text/plain": [
       "Counter({'покупка': 5912,\n",
       "         ' ': 33677,\n",
       "         'жилье': 4473,\n",
       "         'приобретение': 462,\n",
       "         'автомобиль': 4315,\n",
       "         'дополнительный': 909,\n",
       "         'образование': 4022,\n",
       "         'сыграть': 774,\n",
       "         'свадьба': 2348,\n",
       "         'операция': 2610,\n",
       "         'с': 2924,\n",
       "         'на': 2233,\n",
       "         'проведение': 777,\n",
       "         'для': 1294,\n",
       "         'семья': 641,\n",
       "         'недвижимость': 6367,\n",
       "         'коммерческий': 1315,\n",
       "         'жилой': 1233,\n",
       "         'строительство': 1881,\n",
       "         'собственный': 635,\n",
       "         'подержать': 479,\n",
       "         'свой': 2235,\n",
       "         'со': 630,\n",
       "         'заниматься': 908,\n",
       "         'сделка': 944,\n",
       "         'подержанный': 489,\n",
       "         'получение': 1316,\n",
       "         'высокий': 1375,\n",
       "         'профильный': 436,\n",
       "         'сдача': 653,\n",
       "         'ремонт': 612})"
      ]
     },
     "execution_count": 26,
     "metadata": {},
     "output_type": "execute_result"
    }
   ],
   "source": [
    "from collections import Counter\n",
    "super_vector = []\n",
    "for purpose in credit_data['purpose_lem']:\n",
    "    super_vector.extend(purpose)\n",
    "Counter(super_vector)"
   ]
  },
  {
   "cell_type": "markdown",
   "metadata": {},
   "source": [
    "<div class=\"alert alert-info\"> <b>Комментарий студента: Исправил!</div>"
   ]
  },
  {
   "cell_type": "markdown",
   "metadata": {},
   "source": [
    "<div class=\"alert alert-success\">\n",
    "<b>Комментарий ревьюера V2:</b>\n",
    "\n",
    "Супер!\n",
    "</div>"
   ]
  },
  {
   "cell_type": "code",
   "execution_count": 27,
   "metadata": {
    "scrolled": false
   },
   "outputs": [
    {
     "data": {
      "text/html": [
       "<div>\n",
       "<style scoped>\n",
       "    .dataframe tbody tr th:only-of-type {\n",
       "        vertical-align: middle;\n",
       "    }\n",
       "\n",
       "    .dataframe tbody tr th {\n",
       "        vertical-align: top;\n",
       "    }\n",
       "\n",
       "    .dataframe thead th {\n",
       "        text-align: right;\n",
       "    }\n",
       "</style>\n",
       "<table border=\"1\" class=\"dataframe\">\n",
       "  <thead>\n",
       "    <tr style=\"text-align: right;\">\n",
       "      <th></th>\n",
       "      <th>children</th>\n",
       "      <th>days_employed</th>\n",
       "      <th>dob_years</th>\n",
       "      <th>education</th>\n",
       "      <th>education_id</th>\n",
       "      <th>family_status</th>\n",
       "      <th>family_status_id</th>\n",
       "      <th>gender</th>\n",
       "      <th>income_type</th>\n",
       "      <th>debt</th>\n",
       "      <th>total_income</th>\n",
       "      <th>purpose</th>\n",
       "      <th>purpose_lem</th>\n",
       "      <th>purpose_lem_stem</th>\n",
       "    </tr>\n",
       "  </thead>\n",
       "  <tbody>\n",
       "    <tr>\n",
       "      <td>0</td>\n",
       "      <td>1</td>\n",
       "      <td>253875</td>\n",
       "      <td>42.0</td>\n",
       "      <td>высшее</td>\n",
       "      <td>0</td>\n",
       "      <td>женат / замужем</td>\n",
       "      <td>0</td>\n",
       "      <td>F</td>\n",
       "      <td>сотрудник</td>\n",
       "      <td>0</td>\n",
       "      <td>253875</td>\n",
       "      <td>покупка жилья</td>\n",
       "      <td>[покупка,  , жилье]</td>\n",
       "      <td>жилье</td>\n",
       "    </tr>\n",
       "    <tr>\n",
       "      <td>1</td>\n",
       "      <td>1</td>\n",
       "      <td>112080</td>\n",
       "      <td>36.0</td>\n",
       "      <td>среднее</td>\n",
       "      <td>1</td>\n",
       "      <td>женат / замужем</td>\n",
       "      <td>0</td>\n",
       "      <td>F</td>\n",
       "      <td>сотрудник</td>\n",
       "      <td>0</td>\n",
       "      <td>112080</td>\n",
       "      <td>приобретение автомобиля</td>\n",
       "      <td>[приобретение,  , автомобиль]</td>\n",
       "      <td>автомобиль</td>\n",
       "    </tr>\n",
       "    <tr>\n",
       "      <td>2</td>\n",
       "      <td>0</td>\n",
       "      <td>145885</td>\n",
       "      <td>33.0</td>\n",
       "      <td>среднее</td>\n",
       "      <td>1</td>\n",
       "      <td>женат / замужем</td>\n",
       "      <td>0</td>\n",
       "      <td>M</td>\n",
       "      <td>сотрудник</td>\n",
       "      <td>0</td>\n",
       "      <td>145885</td>\n",
       "      <td>покупка жилья</td>\n",
       "      <td>[покупка,  , жилье]</td>\n",
       "      <td>жилье</td>\n",
       "    </tr>\n",
       "    <tr>\n",
       "      <td>3</td>\n",
       "      <td>3</td>\n",
       "      <td>267628</td>\n",
       "      <td>32.0</td>\n",
       "      <td>среднее</td>\n",
       "      <td>1</td>\n",
       "      <td>женат / замужем</td>\n",
       "      <td>0</td>\n",
       "      <td>M</td>\n",
       "      <td>сотрудник</td>\n",
       "      <td>0</td>\n",
       "      <td>267628</td>\n",
       "      <td>дополнительное образование</td>\n",
       "      <td>[дополнительный,  , образование]</td>\n",
       "      <td>образование</td>\n",
       "    </tr>\n",
       "    <tr>\n",
       "      <td>4</td>\n",
       "      <td>0</td>\n",
       "      <td>158616</td>\n",
       "      <td>53.0</td>\n",
       "      <td>среднее</td>\n",
       "      <td>1</td>\n",
       "      <td>гражданский брак</td>\n",
       "      <td>1</td>\n",
       "      <td>F</td>\n",
       "      <td>пенсионер</td>\n",
       "      <td>0</td>\n",
       "      <td>158616</td>\n",
       "      <td>сыграть свадьбу</td>\n",
       "      <td>[сыграть,  , свадьба]</td>\n",
       "      <td>свадьба</td>\n",
       "    </tr>\n",
       "    <tr>\n",
       "      <td>...</td>\n",
       "      <td>...</td>\n",
       "      <td>...</td>\n",
       "      <td>...</td>\n",
       "      <td>...</td>\n",
       "      <td>...</td>\n",
       "      <td>...</td>\n",
       "      <td>...</td>\n",
       "      <td>...</td>\n",
       "      <td>...</td>\n",
       "      <td>...</td>\n",
       "      <td>...</td>\n",
       "      <td>...</td>\n",
       "      <td>...</td>\n",
       "      <td>...</td>\n",
       "    </tr>\n",
       "    <tr>\n",
       "      <td>21520</td>\n",
       "      <td>1</td>\n",
       "      <td>224791</td>\n",
       "      <td>43.0</td>\n",
       "      <td>среднее</td>\n",
       "      <td>1</td>\n",
       "      <td>гражданский брак</td>\n",
       "      <td>1</td>\n",
       "      <td>F</td>\n",
       "      <td>компаньон</td>\n",
       "      <td>0</td>\n",
       "      <td>224791</td>\n",
       "      <td>операции с жильем</td>\n",
       "      <td>[операция,  , с,  , жилье]</td>\n",
       "      <td>жилье</td>\n",
       "    </tr>\n",
       "    <tr>\n",
       "      <td>21521</td>\n",
       "      <td>0</td>\n",
       "      <td>155999</td>\n",
       "      <td>67.0</td>\n",
       "      <td>среднее</td>\n",
       "      <td>1</td>\n",
       "      <td>женат / замужем</td>\n",
       "      <td>0</td>\n",
       "      <td>F</td>\n",
       "      <td>пенсионер</td>\n",
       "      <td>0</td>\n",
       "      <td>155999</td>\n",
       "      <td>сделка с автомобилем</td>\n",
       "      <td>[сделка,  , с,  , автомобиль]</td>\n",
       "      <td>автомобиль</td>\n",
       "    </tr>\n",
       "    <tr>\n",
       "      <td>21522</td>\n",
       "      <td>1</td>\n",
       "      <td>89672</td>\n",
       "      <td>38.0</td>\n",
       "      <td>среднее</td>\n",
       "      <td>1</td>\n",
       "      <td>гражданский брак</td>\n",
       "      <td>1</td>\n",
       "      <td>M</td>\n",
       "      <td>сотрудник</td>\n",
       "      <td>1</td>\n",
       "      <td>89672</td>\n",
       "      <td>недвижимость</td>\n",
       "      <td>[недвижимость]</td>\n",
       "      <td>жилье</td>\n",
       "    </tr>\n",
       "    <tr>\n",
       "      <td>21523</td>\n",
       "      <td>3</td>\n",
       "      <td>244093</td>\n",
       "      <td>38.0</td>\n",
       "      <td>среднее</td>\n",
       "      <td>1</td>\n",
       "      <td>женат / замужем</td>\n",
       "      <td>0</td>\n",
       "      <td>M</td>\n",
       "      <td>сотрудник</td>\n",
       "      <td>1</td>\n",
       "      <td>244093</td>\n",
       "      <td>на покупку своего автомобиля</td>\n",
       "      <td>[на,  , покупка,  , свой,  , автомобиль]</td>\n",
       "      <td>автомобиль</td>\n",
       "    </tr>\n",
       "    <tr>\n",
       "      <td>21524</td>\n",
       "      <td>2</td>\n",
       "      <td>82047</td>\n",
       "      <td>40.0</td>\n",
       "      <td>среднее</td>\n",
       "      <td>1</td>\n",
       "      <td>женат / замужем</td>\n",
       "      <td>0</td>\n",
       "      <td>F</td>\n",
       "      <td>сотрудник</td>\n",
       "      <td>0</td>\n",
       "      <td>82047</td>\n",
       "      <td>на покупку автомобиля</td>\n",
       "      <td>[на,  , покупка,  , автомобиль]</td>\n",
       "      <td>автомобиль</td>\n",
       "    </tr>\n",
       "  </tbody>\n",
       "</table>\n",
       "<p>21525 rows × 14 columns</p>\n",
       "</div>"
      ],
      "text/plain": [
       "       children  days_employed  dob_years education  education_id  \\\n",
       "0             1         253875       42.0    высшее             0   \n",
       "1             1         112080       36.0   среднее             1   \n",
       "2             0         145885       33.0   среднее             1   \n",
       "3             3         267628       32.0   среднее             1   \n",
       "4             0         158616       53.0   среднее             1   \n",
       "...         ...            ...        ...       ...           ...   \n",
       "21520         1         224791       43.0   среднее             1   \n",
       "21521         0         155999       67.0   среднее             1   \n",
       "21522         1          89672       38.0   среднее             1   \n",
       "21523         3         244093       38.0   среднее             1   \n",
       "21524         2          82047       40.0   среднее             1   \n",
       "\n",
       "          family_status  family_status_id gender income_type  debt  \\\n",
       "0       женат / замужем                 0      F   сотрудник     0   \n",
       "1       женат / замужем                 0      F   сотрудник     0   \n",
       "2       женат / замужем                 0      M   сотрудник     0   \n",
       "3       женат / замужем                 0      M   сотрудник     0   \n",
       "4      гражданский брак                 1      F   пенсионер     0   \n",
       "...                 ...               ...    ...         ...   ...   \n",
       "21520  гражданский брак                 1      F   компаньон     0   \n",
       "21521   женат / замужем                 0      F   пенсионер     0   \n",
       "21522  гражданский брак                 1      M   сотрудник     1   \n",
       "21523   женат / замужем                 0      M   сотрудник     1   \n",
       "21524   женат / замужем                 0      F   сотрудник     0   \n",
       "\n",
       "       total_income                       purpose  \\\n",
       "0            253875                 покупка жилья   \n",
       "1            112080       приобретение автомобиля   \n",
       "2            145885                 покупка жилья   \n",
       "3            267628    дополнительное образование   \n",
       "4            158616               сыграть свадьбу   \n",
       "...             ...                           ...   \n",
       "21520        224791             операции с жильем   \n",
       "21521        155999          сделка с автомобилем   \n",
       "21522         89672                  недвижимость   \n",
       "21523        244093  на покупку своего автомобиля   \n",
       "21524         82047         на покупку автомобиля   \n",
       "\n",
       "                                    purpose_lem purpose_lem_stem  \n",
       "0                           [покупка,  , жилье]            жилье  \n",
       "1                 [приобретение,  , автомобиль]       автомобиль  \n",
       "2                           [покупка,  , жилье]            жилье  \n",
       "3              [дополнительный,  , образование]      образование  \n",
       "4                         [сыграть,  , свадьба]          свадьба  \n",
       "...                                         ...              ...  \n",
       "21520                [операция,  , с,  , жилье]            жилье  \n",
       "21521             [сделка,  , с,  , автомобиль]       автомобиль  \n",
       "21522                            [недвижимость]            жилье  \n",
       "21523  [на,  , покупка,  , свой,  , автомобиль]       автомобиль  \n",
       "21524           [на,  , покупка,  , автомобиль]       автомобиль  \n",
       "\n",
       "[21525 rows x 14 columns]"
      ]
     },
     "execution_count": 27,
     "metadata": {},
     "output_type": "execute_result"
    }
   ],
   "source": [
    "def in_purpose(purpose):\n",
    "    if 'жилье' in purpose:\n",
    "        return 'жилье'\n",
    "    elif 'недвижимость' in purpose:\n",
    "        return 'жилье'\n",
    "    elif 'образование' in purpose:\n",
    "        return 'образование'\n",
    "    elif 'образование' in purpose:\n",
    "        return 'образование'\n",
    "    elif 'свадьба' in purpose:\n",
    "        return 'свадьба'\n",
    "    elif 'автомобиль' in purpose:\n",
    "        return 'автомобиль'\n",
    "    else: return 'nan'\n",
    "    \n",
    "credit_data['purpose_lem_stem'] = credit_data['purpose_lem'].apply(in_purpose)\n",
    "credit_data"
   ]
  },
  {
   "cell_type": "code",
   "execution_count": 28,
   "metadata": {},
   "outputs": [
    {
     "data": {
      "text/plain": [
       "0"
      ]
     },
     "execution_count": 28,
     "metadata": {},
     "output_type": "execute_result"
    }
   ],
   "source": [
    "credit_data[credit_data['purpose_lem_stem'] == 'nan']['purpose_lem_stem'].count()"
   ]
  },
  {
   "cell_type": "markdown",
   "metadata": {},
   "source": [
    "**Вывод**"
   ]
  },
  {
   "cell_type": "markdown",
   "metadata": {},
   "source": [
    "Мы определили список уникальных целей кредита, выделили основные слова и промаркировали их. Отсутствующих значений нет."
   ]
  },
  {
   "cell_type": "markdown",
   "metadata": {},
   "source": [
    "<div class=\"alert alert-success\">\n",
    "<b>Комментарий ревьюера:</b>\n",
    "\n",
    "C  точки зрения кода лемматизация корректна, стоит только поработать над выводом частотности.\n",
    "</div>"
   ]
  },
  {
   "cell_type": "markdown",
   "metadata": {},
   "source": [
    "### Категоризация данных"
   ]
  },
  {
   "cell_type": "markdown",
   "metadata": {},
   "source": [
    "Определим, кто имел долги  по кредитам и попробуем разобраться в чем причина. Начнем с зависимости количества детей от наличия задолжности, составим идентификатор: есть дети:1, нет детей:0"
   ]
  },
  {
   "cell_type": "code",
   "execution_count": 29,
   "metadata": {},
   "outputs": [
    {
     "data": {
      "text/plain": [
       "children_id\n",
       "0    14149\n",
       "1     7376\n",
       "Name: debt, dtype: int64"
      ]
     },
     "execution_count": 29,
     "metadata": {},
     "output_type": "execute_result"
    }
   ],
   "source": [
    "def children_id_f (row):\n",
    "    if row > 0:\n",
    "        return 1\n",
    "    else: return 0\n",
    "credit_data['children_id'] = credit_data['children'].apply(children_id_f)\n",
    "child_debt = credit_data.groupby('children_id')['debt'].count()\n",
    "child_debt"
   ]
  },
  {
   "cell_type": "markdown",
   "metadata": {},
   "source": [
    "Вывод: У кого нет детей, в 2 раза чаще берут кредит!  \n",
    "Определим, какую часть от обеих групп составляют люди, не вернувшие долг и сравним их.\n",
    "Доля не вернувших кредит из числа людей, не имеющих детей:"
   ]
  },
  {
   "cell_type": "code",
   "execution_count": 30,
   "metadata": {},
   "outputs": [
    {
     "data": {
      "text/plain": [
       "1063"
      ]
     },
     "execution_count": 30,
     "metadata": {},
     "output_type": "execute_result"
    }
   ],
   "source": [
    "no_child_bad_debt = credit_data[(credit_data['children_id'] == 0) & (credit_data['debt'] == 1)]['children_id'].count()\n",
    "no_child_bad_debt"
   ]
  },
  {
   "cell_type": "code",
   "execution_count": 31,
   "metadata": {},
   "outputs": [
    {
     "data": {
      "text/plain": [
       "'Доля не вернувших кредит из числа людей, не имеющих детей:7.5%'"
      ]
     },
     "execution_count": 31,
     "metadata": {},
     "output_type": "execute_result"
    }
   ],
   "source": [
    "no_child_ratio = no_child_bad_debt / child_debt[0]\n",
    "'Доля не вернувших кредит из числа людей, не имеющих детей:{:.1%}'.format(no_child_ratio)"
   ]
  },
  {
   "cell_type": "markdown",
   "metadata": {},
   "source": [
    "Доля не вернувших кредит из числа людей, имеющих 1 и более детей:"
   ]
  },
  {
   "cell_type": "code",
   "execution_count": 32,
   "metadata": {},
   "outputs": [
    {
     "data": {
      "text/plain": [
       "678"
      ]
     },
     "execution_count": 32,
     "metadata": {},
     "output_type": "execute_result"
    }
   ],
   "source": [
    "child_bad_debt = credit_data[(credit_data['children_id'] == 1) & (credit_data['debt'] == 1)]['children_id'].count()\n",
    "child_bad_debt"
   ]
  },
  {
   "cell_type": "code",
   "execution_count": 33,
   "metadata": {},
   "outputs": [
    {
     "data": {
      "text/plain": [
       "'Доля не вернувших кредит из числа людей, имеющих 1 и более детей:9.2%'"
      ]
     },
     "execution_count": 33,
     "metadata": {},
     "output_type": "execute_result"
    }
   ],
   "source": [
    "child_ratio = child_bad_debt / child_debt[1]\n",
    "'Доля не вернувших кредит из числа людей, имеющих 1 и более детей:{:.1%}'.format(child_ratio)"
   ]
  },
  {
   "cell_type": "markdown",
   "metadata": {},
   "source": [
    "**Вывод**"
   ]
  },
  {
   "cell_type": "markdown",
   "metadata": {},
   "source": [
    "Мы провели категоризацию данных по количеству невозвращенных кредитов и количеству детей у заемщикаЮ определили вероятность возвращения кредита от количества детей."
   ]
  },
  {
   "cell_type": "markdown",
   "metadata": {},
   "source": [
    "<div class=\"alert alert-success\">\n",
    "<b>Комментарий ревьюера:</b>\n",
    "\n",
    "Супер, вывод корректный. Рекомендую пользоваться группировкой как при ответе на вопрос с влиянием `family_status_id` на задолжность.\n",
    "</div>"
   ]
  },
  {
   "cell_type": "markdown",
   "metadata": {},
   "source": [
    "Проверим зависимость семейного положения от задолжностей."
   ]
  },
  {
   "cell_type": "code",
   "execution_count": 34,
   "metadata": {},
   "outputs": [
    {
     "data": {
      "text/html": [
       "<div>\n",
       "<style scoped>\n",
       "    .dataframe tbody tr th:only-of-type {\n",
       "        vertical-align: middle;\n",
       "    }\n",
       "\n",
       "    .dataframe tbody tr th {\n",
       "        vertical-align: top;\n",
       "    }\n",
       "\n",
       "    .dataframe thead th {\n",
       "        text-align: right;\n",
       "    }\n",
       "</style>\n",
       "<table border=\"1\" class=\"dataframe\">\n",
       "  <thead>\n",
       "    <tr style=\"text-align: right;\">\n",
       "      <th></th>\n",
       "      <th>family_status</th>\n",
       "      <th>family_status_id</th>\n",
       "    </tr>\n",
       "  </thead>\n",
       "  <tbody>\n",
       "    <tr>\n",
       "      <td>0</td>\n",
       "      <td>женат / замужем</td>\n",
       "      <td>0</td>\n",
       "    </tr>\n",
       "    <tr>\n",
       "      <td>4</td>\n",
       "      <td>гражданский брак</td>\n",
       "      <td>1</td>\n",
       "    </tr>\n",
       "    <tr>\n",
       "      <td>18</td>\n",
       "      <td>вдовец / вдова</td>\n",
       "      <td>2</td>\n",
       "    </tr>\n",
       "    <tr>\n",
       "      <td>19</td>\n",
       "      <td>в разводе</td>\n",
       "      <td>3</td>\n",
       "    </tr>\n",
       "    <tr>\n",
       "      <td>24</td>\n",
       "      <td>Не женат / не замужем</td>\n",
       "      <td>4</td>\n",
       "    </tr>\n",
       "  </tbody>\n",
       "</table>\n",
       "</div>"
      ],
      "text/plain": [
       "            family_status  family_status_id\n",
       "0         женат / замужем                 0\n",
       "4        гражданский брак                 1\n",
       "18         вдовец / вдова                 2\n",
       "19              в разводе                 3\n",
       "24  Не женат / не замужем                 4"
      ]
     },
     "execution_count": 34,
     "metadata": {},
     "output_type": "execute_result"
    }
   ],
   "source": [
    "credit_data_fam_table = credit_data[['family_status', 'family_status_id']]\n",
    "d = credit_data_fam_table.drop_duplicates()\n",
    "d\n"
   ]
  },
  {
   "cell_type": "code",
   "execution_count": 35,
   "metadata": {},
   "outputs": [
    {
     "data": {
      "text/plain": [
       "family_status_id\n",
       "0    12380\n",
       "1     4177\n",
       "2      960\n",
       "3     1195\n",
       "4     2813\n",
       "Name: debt, dtype: int64"
      ]
     },
     "execution_count": 35,
     "metadata": {},
     "output_type": "execute_result"
    }
   ],
   "source": [
    "credit_data_fam = credit_data.groupby('family_status_id')['debt'].count()\n",
    "credit_data_fam"
   ]
  },
  {
   "cell_type": "markdown",
   "metadata": {},
   "source": [
    "Женатые/замужем чаще всего берут кредиты, найдем тех, кто чаще всего не возвращает. так как в столбце **debt** имеющие задолжности маркируются как \"1\", то сумма всех значения покажет количество людей, имевших задолжность."
   ]
  },
  {
   "cell_type": "code",
   "execution_count": 36,
   "metadata": {},
   "outputs": [
    {
     "data": {
      "text/plain": [
       "family_status_id\n",
       "0    931\n",
       "1    388\n",
       "2     63\n",
       "3     85\n",
       "4    274\n",
       "Name: debt, dtype: int64"
      ]
     },
     "execution_count": 36,
     "metadata": {},
     "output_type": "execute_result"
    }
   ],
   "source": [
    "credit_data_fam_debt = credit_data.groupby('family_status_id')['debt'].sum()\n",
    "credit_data_fam_debt"
   ]
  },
  {
   "cell_type": "code",
   "execution_count": 37,
   "metadata": {
    "scrolled": true
   },
   "outputs": [
    {
     "data": {
      "text/plain": [
       "family_status_id\n",
       "0    7.520194\n",
       "1    9.288963\n",
       "2    6.562500\n",
       "3    7.112971\n",
       "4    9.740491\n",
       "Name: debt, dtype: float64"
      ]
     },
     "execution_count": 37,
     "metadata": {},
     "output_type": "execute_result"
    }
   ],
   "source": [
    "с = credit_data_fam_debt / credit_data_fam\n",
    "с*100"
   ]
  },
  {
   "cell_type": "markdown",
   "metadata": {},
   "source": [
    "9.7% людей со статусом Не женат / не замужем имели задолжности"
   ]
  },
  {
   "cell_type": "markdown",
   "metadata": {},
   "source": [
    "<div class=\"alert alert-success\">\n",
    "<b>Комментарий ревьюера:</b>\n",
    "\n",
    "Отлично, тут все корректно, дам рекомендацию, попробуй изменить в группировке `sum` на `mean`, тогда действий станет меньше.\n",
    "</div>"
   ]
  },
  {
   "cell_type": "markdown",
   "metadata": {},
   "source": [
    "Проверим зависимость между уровнем дохода и возвратом кредита в срок."
   ]
  },
  {
   "cell_type": "code",
   "execution_count": 38,
   "metadata": {},
   "outputs": [
    {
     "data": {
      "text/html": [
       "<div>\n",
       "<style scoped>\n",
       "    .dataframe tbody tr th:only-of-type {\n",
       "        vertical-align: middle;\n",
       "    }\n",
       "\n",
       "    .dataframe tbody tr th {\n",
       "        vertical-align: top;\n",
       "    }\n",
       "\n",
       "    .dataframe thead th {\n",
       "        text-align: right;\n",
       "    }\n",
       "</style>\n",
       "<table border=\"1\" class=\"dataframe\">\n",
       "  <thead>\n",
       "    <tr style=\"text-align: right;\">\n",
       "      <th></th>\n",
       "      <th>children</th>\n",
       "      <th>days_employed</th>\n",
       "      <th>dob_years</th>\n",
       "      <th>education</th>\n",
       "      <th>education_id</th>\n",
       "      <th>family_status</th>\n",
       "      <th>family_status_id</th>\n",
       "      <th>gender</th>\n",
       "      <th>income_type</th>\n",
       "      <th>debt</th>\n",
       "      <th>total_income</th>\n",
       "      <th>purpose</th>\n",
       "      <th>purpose_lem</th>\n",
       "      <th>purpose_lem_stem</th>\n",
       "      <th>children_id</th>\n",
       "      <th>total_income_value</th>\n",
       "    </tr>\n",
       "  </thead>\n",
       "  <tbody>\n",
       "    <tr>\n",
       "      <td>0</td>\n",
       "      <td>1</td>\n",
       "      <td>253875</td>\n",
       "      <td>42.0</td>\n",
       "      <td>высшее</td>\n",
       "      <td>0</td>\n",
       "      <td>женат / замужем</td>\n",
       "      <td>0</td>\n",
       "      <td>F</td>\n",
       "      <td>сотрудник</td>\n",
       "      <td>0</td>\n",
       "      <td>253875</td>\n",
       "      <td>покупка жилья</td>\n",
       "      <td>[покупка,  , жилье]</td>\n",
       "      <td>жилье</td>\n",
       "      <td>1</td>\n",
       "      <td>больше среднего</td>\n",
       "    </tr>\n",
       "    <tr>\n",
       "      <td>1</td>\n",
       "      <td>1</td>\n",
       "      <td>112080</td>\n",
       "      <td>36.0</td>\n",
       "      <td>среднее</td>\n",
       "      <td>1</td>\n",
       "      <td>женат / замужем</td>\n",
       "      <td>0</td>\n",
       "      <td>F</td>\n",
       "      <td>сотрудник</td>\n",
       "      <td>0</td>\n",
       "      <td>112080</td>\n",
       "      <td>приобретение автомобиля</td>\n",
       "      <td>[приобретение,  , автомобиль]</td>\n",
       "      <td>автомобиль</td>\n",
       "      <td>1</td>\n",
       "      <td>меньше среднего</td>\n",
       "    </tr>\n",
       "    <tr>\n",
       "      <td>2</td>\n",
       "      <td>0</td>\n",
       "      <td>145885</td>\n",
       "      <td>33.0</td>\n",
       "      <td>среднее</td>\n",
       "      <td>1</td>\n",
       "      <td>женат / замужем</td>\n",
       "      <td>0</td>\n",
       "      <td>M</td>\n",
       "      <td>сотрудник</td>\n",
       "      <td>0</td>\n",
       "      <td>145885</td>\n",
       "      <td>покупка жилья</td>\n",
       "      <td>[покупка,  , жилье]</td>\n",
       "      <td>жилье</td>\n",
       "      <td>0</td>\n",
       "      <td>меньше среднего</td>\n",
       "    </tr>\n",
       "    <tr>\n",
       "      <td>3</td>\n",
       "      <td>3</td>\n",
       "      <td>267628</td>\n",
       "      <td>32.0</td>\n",
       "      <td>среднее</td>\n",
       "      <td>1</td>\n",
       "      <td>женат / замужем</td>\n",
       "      <td>0</td>\n",
       "      <td>M</td>\n",
       "      <td>сотрудник</td>\n",
       "      <td>0</td>\n",
       "      <td>267628</td>\n",
       "      <td>дополнительное образование</td>\n",
       "      <td>[дополнительный,  , образование]</td>\n",
       "      <td>образование</td>\n",
       "      <td>1</td>\n",
       "      <td>больше среднего</td>\n",
       "    </tr>\n",
       "    <tr>\n",
       "      <td>4</td>\n",
       "      <td>0</td>\n",
       "      <td>158616</td>\n",
       "      <td>53.0</td>\n",
       "      <td>среднее</td>\n",
       "      <td>1</td>\n",
       "      <td>гражданский брак</td>\n",
       "      <td>1</td>\n",
       "      <td>F</td>\n",
       "      <td>пенсионер</td>\n",
       "      <td>0</td>\n",
       "      <td>158616</td>\n",
       "      <td>сыграть свадьбу</td>\n",
       "      <td>[сыграть,  , свадьба]</td>\n",
       "      <td>свадьба</td>\n",
       "      <td>0</td>\n",
       "      <td>меньше среднего</td>\n",
       "    </tr>\n",
       "    <tr>\n",
       "      <td>...</td>\n",
       "      <td>...</td>\n",
       "      <td>...</td>\n",
       "      <td>...</td>\n",
       "      <td>...</td>\n",
       "      <td>...</td>\n",
       "      <td>...</td>\n",
       "      <td>...</td>\n",
       "      <td>...</td>\n",
       "      <td>...</td>\n",
       "      <td>...</td>\n",
       "      <td>...</td>\n",
       "      <td>...</td>\n",
       "      <td>...</td>\n",
       "      <td>...</td>\n",
       "      <td>...</td>\n",
       "      <td>...</td>\n",
       "    </tr>\n",
       "    <tr>\n",
       "      <td>21520</td>\n",
       "      <td>1</td>\n",
       "      <td>224791</td>\n",
       "      <td>43.0</td>\n",
       "      <td>среднее</td>\n",
       "      <td>1</td>\n",
       "      <td>гражданский брак</td>\n",
       "      <td>1</td>\n",
       "      <td>F</td>\n",
       "      <td>компаньон</td>\n",
       "      <td>0</td>\n",
       "      <td>224791</td>\n",
       "      <td>операции с жильем</td>\n",
       "      <td>[операция,  , с,  , жилье]</td>\n",
       "      <td>жилье</td>\n",
       "      <td>1</td>\n",
       "      <td>больше среднего</td>\n",
       "    </tr>\n",
       "    <tr>\n",
       "      <td>21521</td>\n",
       "      <td>0</td>\n",
       "      <td>155999</td>\n",
       "      <td>67.0</td>\n",
       "      <td>среднее</td>\n",
       "      <td>1</td>\n",
       "      <td>женат / замужем</td>\n",
       "      <td>0</td>\n",
       "      <td>F</td>\n",
       "      <td>пенсионер</td>\n",
       "      <td>0</td>\n",
       "      <td>155999</td>\n",
       "      <td>сделка с автомобилем</td>\n",
       "      <td>[сделка,  , с,  , автомобиль]</td>\n",
       "      <td>автомобиль</td>\n",
       "      <td>0</td>\n",
       "      <td>меньше среднего</td>\n",
       "    </tr>\n",
       "    <tr>\n",
       "      <td>21522</td>\n",
       "      <td>1</td>\n",
       "      <td>89672</td>\n",
       "      <td>38.0</td>\n",
       "      <td>среднее</td>\n",
       "      <td>1</td>\n",
       "      <td>гражданский брак</td>\n",
       "      <td>1</td>\n",
       "      <td>M</td>\n",
       "      <td>сотрудник</td>\n",
       "      <td>1</td>\n",
       "      <td>89672</td>\n",
       "      <td>недвижимость</td>\n",
       "      <td>[недвижимость]</td>\n",
       "      <td>жилье</td>\n",
       "      <td>1</td>\n",
       "      <td>меньше среднего</td>\n",
       "    </tr>\n",
       "    <tr>\n",
       "      <td>21523</td>\n",
       "      <td>3</td>\n",
       "      <td>244093</td>\n",
       "      <td>38.0</td>\n",
       "      <td>среднее</td>\n",
       "      <td>1</td>\n",
       "      <td>женат / замужем</td>\n",
       "      <td>0</td>\n",
       "      <td>M</td>\n",
       "      <td>сотрудник</td>\n",
       "      <td>1</td>\n",
       "      <td>244093</td>\n",
       "      <td>на покупку своего автомобиля</td>\n",
       "      <td>[на,  , покупка,  , свой,  , автомобиль]</td>\n",
       "      <td>автомобиль</td>\n",
       "      <td>1</td>\n",
       "      <td>больше среднего</td>\n",
       "    </tr>\n",
       "    <tr>\n",
       "      <td>21524</td>\n",
       "      <td>2</td>\n",
       "      <td>82047</td>\n",
       "      <td>40.0</td>\n",
       "      <td>среднее</td>\n",
       "      <td>1</td>\n",
       "      <td>женат / замужем</td>\n",
       "      <td>0</td>\n",
       "      <td>F</td>\n",
       "      <td>сотрудник</td>\n",
       "      <td>0</td>\n",
       "      <td>82047</td>\n",
       "      <td>на покупку автомобиля</td>\n",
       "      <td>[на,  , покупка,  , автомобиль]</td>\n",
       "      <td>автомобиль</td>\n",
       "      <td>1</td>\n",
       "      <td>меньше среднего</td>\n",
       "    </tr>\n",
       "  </tbody>\n",
       "</table>\n",
       "<p>21525 rows × 16 columns</p>\n",
       "</div>"
      ],
      "text/plain": [
       "       children  days_employed  dob_years education  education_id  \\\n",
       "0             1         253875       42.0    высшее             0   \n",
       "1             1         112080       36.0   среднее             1   \n",
       "2             0         145885       33.0   среднее             1   \n",
       "3             3         267628       32.0   среднее             1   \n",
       "4             0         158616       53.0   среднее             1   \n",
       "...         ...            ...        ...       ...           ...   \n",
       "21520         1         224791       43.0   среднее             1   \n",
       "21521         0         155999       67.0   среднее             1   \n",
       "21522         1          89672       38.0   среднее             1   \n",
       "21523         3         244093       38.0   среднее             1   \n",
       "21524         2          82047       40.0   среднее             1   \n",
       "\n",
       "          family_status  family_status_id gender income_type  debt  \\\n",
       "0       женат / замужем                 0      F   сотрудник     0   \n",
       "1       женат / замужем                 0      F   сотрудник     0   \n",
       "2       женат / замужем                 0      M   сотрудник     0   \n",
       "3       женат / замужем                 0      M   сотрудник     0   \n",
       "4      гражданский брак                 1      F   пенсионер     0   \n",
       "...                 ...               ...    ...         ...   ...   \n",
       "21520  гражданский брак                 1      F   компаньон     0   \n",
       "21521   женат / замужем                 0      F   пенсионер     0   \n",
       "21522  гражданский брак                 1      M   сотрудник     1   \n",
       "21523   женат / замужем                 0      M   сотрудник     1   \n",
       "21524   женат / замужем                 0      F   сотрудник     0   \n",
       "\n",
       "       total_income                       purpose  \\\n",
       "0            253875                 покупка жилья   \n",
       "1            112080       приобретение автомобиля   \n",
       "2            145885                 покупка жилья   \n",
       "3            267628    дополнительное образование   \n",
       "4            158616               сыграть свадьбу   \n",
       "...             ...                           ...   \n",
       "21520        224791             операции с жильем   \n",
       "21521        155999          сделка с автомобилем   \n",
       "21522         89672                  недвижимость   \n",
       "21523        244093  на покупку своего автомобиля   \n",
       "21524         82047         на покупку автомобиля   \n",
       "\n",
       "                                    purpose_lem purpose_lem_stem  children_id  \\\n",
       "0                           [покупка,  , жилье]            жилье            1   \n",
       "1                 [приобретение,  , автомобиль]       автомобиль            1   \n",
       "2                           [покупка,  , жилье]            жилье            0   \n",
       "3              [дополнительный,  , образование]      образование            1   \n",
       "4                         [сыграть,  , свадьба]          свадьба            0   \n",
       "...                                         ...              ...          ...   \n",
       "21520                [операция,  , с,  , жилье]            жилье            1   \n",
       "21521             [сделка,  , с,  , автомобиль]       автомобиль            0   \n",
       "21522                            [недвижимость]            жилье            1   \n",
       "21523  [на,  , покупка,  , свой,  , автомобиль]       автомобиль            1   \n",
       "21524           [на,  , покупка,  , автомобиль]       автомобиль            1   \n",
       "\n",
       "      total_income_value  \n",
       "0        больше среднего  \n",
       "1        меньше среднего  \n",
       "2        меньше среднего  \n",
       "3        больше среднего  \n",
       "4        меньше среднего  \n",
       "...                  ...  \n",
       "21520    больше среднего  \n",
       "21521    меньше среднего  \n",
       "21522    меньше среднего  \n",
       "21523    больше среднего  \n",
       "21524    меньше среднего  \n",
       "\n",
       "[21525 rows x 16 columns]"
      ]
     },
     "execution_count": 38,
     "metadata": {},
     "output_type": "execute_result"
    }
   ],
   "source": [
    "mean_income = int(credit_data['total_income'].mean())\n",
    "credit_data_income_debt = credit_data[['total_income', 'debt']]\n",
    "credit_data_income_debt\n",
    "def income(value):\n",
    "    if value < mean_income:\n",
    "        return 'меньше среднего'\n",
    "    else: return 'больше среднего'\n",
    "credit_data['total_income_value'] = credit_data['total_income'].apply(income)\n",
    "credit_data\n"
   ]
  },
  {
   "cell_type": "markdown",
   "metadata": {},
   "source": [
    "<div class=\"alert alert-success\">\n",
    "<b>Комментарий ревьюера:</b>\n",
    "\n",
    "С категоризацией согласен, идем дальше.\n",
    "</div>"
   ]
  },
  {
   "cell_type": "code",
   "execution_count": 39,
   "metadata": {},
   "outputs": [],
   "source": [
    "# income_value_debt = credit_data.groupby('total_income_value')['debt'].sum()\n",
    "# more_mean_income_value = income_value_debt[0] / credit_data.shape[0]\n",
    "# less_mean_income_value = income_value_debt[1] / credit_data.shape[0]\n",
    "# 'Люди, имеющие доход, меньше среднего по выборке(167 422 руб) имели задолжность в {:.1%}, больше среднего - в {:.1%}'.format(more_mean_income_value,less_mean_income_value)"
   ]
  },
  {
   "cell_type": "markdown",
   "metadata": {},
   "source": [
    "<div class=\"alert alert-danger\">\n",
    "<b>Комментарий ревьюера:</b>\n",
    "\n",
    "Если я правильно тебя понял, то Люди, имеющие доход, меньше среднего по выборке(167 422 руб) имели задолжность в 3.4% случаев, а больше среднего - в 4.7% случаев. Для поиска доли должников нужно разделить кол-во должников на `общее кол-во людей в этой категории`. При ответах на другие вопросы расчеты были корректными.\n",
    "</div>"
   ]
  },
  {
   "cell_type": "code",
   "execution_count": 40,
   "metadata": {},
   "outputs": [
    {
     "data": {
      "text/plain": [
       "'Люди, имеющие доход, меньше среднего по выборке(167 422 руб) имели задолжность в 7.5%, больше среднего - в 8.5%'"
      ]
     },
     "execution_count": 40,
     "metadata": {},
     "output_type": "execute_result"
    }
   ],
   "source": [
    "income_value_debt_negative = credit_data.groupby('total_income_value')['debt'].sum()\n",
    "income_value_debt = credit_data.groupby('total_income_value')['debt'].count()\n",
    "more_mean_income_value = income_value_debt_negative[0] / income_value_debt[0]\n",
    "less_mean_income_value = income_value_debt_negative[1] / income_value_debt[1]\n",
    "'Люди, имеющие доход, меньше среднего по выборке(167 422 руб) имели задолжность в {:.1%}, больше среднего - в {:.1%}'.format(more_mean_income_value,less_mean_income_value)"
   ]
  },
  {
   "cell_type": "markdown",
   "metadata": {},
   "source": [
    "<div class=\"alert alert-info\"> <b>Комментарий студента: Исправил!</div>"
   ]
  },
  {
   "cell_type": "markdown",
   "metadata": {},
   "source": [
    "<div class=\"alert alert-success\">\n",
    "<b>Комментарий ревьюера V2:</b>\n",
    "\n",
    "Отлично.\n",
    "</div>"
   ]
  },
  {
   "cell_type": "markdown",
   "metadata": {},
   "source": [
    "Люди,имеющие доход больше среднего чаще всего имеют задолжности"
   ]
  },
  {
   "cell_type": "markdown",
   "metadata": {},
   "source": [
    "Проверим зависимость между целью кредита и возвратом кредита в срок."
   ]
  },
  {
   "cell_type": "code",
   "execution_count": 41,
   "metadata": {},
   "outputs": [
    {
     "data": {
      "text/plain": [
       "жилье          10840\n",
       "автомобиль      4315\n",
       "образование     4022\n",
       "свадьба         2348\n",
       "Name: purpose_lem_stem, dtype: int64"
      ]
     },
     "execution_count": 41,
     "metadata": {},
     "output_type": "execute_result"
    }
   ],
   "source": [
    "purpose_debt_value = credit_data['purpose_lem_stem'].value_counts()\n",
    "purpose_debt_value"
   ]
  },
  {
   "cell_type": "markdown",
   "metadata": {},
   "source": [
    "На жилье чаще всего берут кредиты!"
   ]
  },
  {
   "cell_type": "code",
   "execution_count": 42,
   "metadata": {},
   "outputs": [
    {
     "data": {
      "text/plain": [
       "purpose_lem_stem\n",
       "жилье          782\n",
       "автомобиль     403\n",
       "образование    370\n",
       "свадьба        186\n",
       "Name: debt, dtype: int64"
      ]
     },
     "execution_count": 42,
     "metadata": {},
     "output_type": "execute_result"
    }
   ],
   "source": [
    "purpose_debt = credit_data.groupby('purpose_lem_stem')['debt'].sum().sort_values(ascending=False)\n",
    "purpose_debt"
   ]
  },
  {
   "cell_type": "markdown",
   "metadata": {},
   "source": [
    "Также на жилье чаще всего и не возвращают заем."
   ]
  },
  {
   "cell_type": "code",
   "execution_count": 43,
   "metadata": {},
   "outputs": [
    {
     "data": {
      "text/plain": [
       "purpose_lem_stem\n",
       "жилье          7.214022\n",
       "автомобиль     9.339513\n",
       "образование    9.199403\n",
       "свадьба        7.921635\n",
       "dtype: float64"
      ]
     },
     "execution_count": 43,
     "metadata": {},
     "output_type": "execute_result"
    }
   ],
   "source": [
    "purpose_debt_ratio = purpose_debt / purpose_debt_value\n",
    "purpose_debt_ratio*100"
   ]
  },
  {
   "cell_type": "markdown",
   "metadata": {},
   "source": [
    "Но в процентном соотношении, чаще всего не возвращаются кредиты на автомобиль."
   ]
  },
  {
   "cell_type": "markdown",
   "metadata": {},
   "source": [
    "<div class=\"alert alert-success\">\n",
    "<b>Комментарий ревьюера:</b>\n",
    "\n",
    "А вот здесь у тебя посчитано все корректно, доли выделены верно.\n",
    "</div>"
   ]
  },
  {
   "cell_type": "markdown",
   "metadata": {},
   "source": [
    "## Шаг 3. Ответьте на вопросы"
   ]
  },
  {
   "cell_type": "markdown",
   "metadata": {},
   "source": [
    "- Есть ли зависимость между наличием детей и возвратом кредита в срок?"
   ]
  },
  {
   "cell_type": "markdown",
   "metadata": {},
   "source": [
    "**Вывод**"
   ]
  },
  {
   "cell_type": "markdown",
   "metadata": {},
   "source": [
    "Люди, у которых нет детей чаще возвращают долг, чем люди, у которых есть дети."
   ]
  },
  {
   "cell_type": "markdown",
   "metadata": {},
   "source": [
    "- Есть ли зависимость между семейным положением и возвратом кредита в срок?"
   ]
  },
  {
   "cell_type": "markdown",
   "metadata": {},
   "source": [
    "**Вывод**"
   ]
  },
  {
   "cell_type": "markdown",
   "metadata": {},
   "source": [
    "Люди со статусом Не женат / не замужем имели задолжности чаще других."
   ]
  },
  {
   "cell_type": "markdown",
   "metadata": {},
   "source": [
    "- Есть ли зависимость между уровнем дохода и возвратом кредита в срок?"
   ]
  },
  {
   "cell_type": "markdown",
   "metadata": {},
   "source": [
    "**Вывод**"
   ]
  },
  {
   "cell_type": "markdown",
   "metadata": {},
   "source": [
    "Люди,имеющие доход больше среднего чаще всего имеют задолжности"
   ]
  },
  {
   "cell_type": "markdown",
   "metadata": {},
   "source": [
    "- Как разные цели кредита влияют на его возврат в срок?"
   ]
  },
  {
   "cell_type": "markdown",
   "metadata": {},
   "source": [
    "**Вывод**"
   ]
  },
  {
   "cell_type": "markdown",
   "metadata": {},
   "source": [
    "Чаще всего не возвращаются кредиты на автомобиль."
   ]
  },
  {
   "cell_type": "markdown",
   "metadata": {},
   "source": [
    "## Шаг 4. Общий вывод"
   ]
  },
  {
   "cell_type": "markdown",
   "metadata": {},
   "source": [
    "Получена таблица из 21525 строк, в котором были обнаружены пропущенные значения, которые были заменены на средние по столбцу, дубликаты, которые были удалены из таблицы, выбросы, которые были обработаны в частном порядке. Данные разбивались по категриям и исследовались. Из исследования следует вывод, что люди, у которых есть дети, с семейным положением не женат / не замужем, с доходом выше среднего и с целью кредита на автомобиль чаще всего не возвращают кредит. "
   ]
  },
  {
   "cell_type": "code",
   "execution_count": 44,
   "metadata": {},
   "outputs": [
    {
     "data": {
      "text/html": [
       "<div>\n",
       "<style scoped>\n",
       "    .dataframe tbody tr th:only-of-type {\n",
       "        vertical-align: middle;\n",
       "    }\n",
       "\n",
       "    .dataframe tbody tr th {\n",
       "        vertical-align: top;\n",
       "    }\n",
       "\n",
       "    .dataframe thead th {\n",
       "        text-align: right;\n",
       "    }\n",
       "</style>\n",
       "<table border=\"1\" class=\"dataframe\">\n",
       "  <thead>\n",
       "    <tr style=\"text-align: right;\">\n",
       "      <th></th>\n",
       "      <th>children</th>\n",
       "      <th>days_employed</th>\n",
       "      <th>dob_years</th>\n",
       "      <th>education</th>\n",
       "      <th>education_id</th>\n",
       "      <th>family_status</th>\n",
       "      <th>family_status_id</th>\n",
       "      <th>gender</th>\n",
       "      <th>income_type</th>\n",
       "      <th>debt</th>\n",
       "      <th>total_income</th>\n",
       "      <th>purpose</th>\n",
       "      <th>purpose_lem</th>\n",
       "      <th>purpose_lem_stem</th>\n",
       "      <th>children_id</th>\n",
       "      <th>total_income_value</th>\n",
       "    </tr>\n",
       "  </thead>\n",
       "  <tbody>\n",
       "    <tr>\n",
       "      <td>46</td>\n",
       "      <td>2</td>\n",
       "      <td>182682</td>\n",
       "      <td>37.0</td>\n",
       "      <td>среднее</td>\n",
       "      <td>1</td>\n",
       "      <td>женат / замужем</td>\n",
       "      <td>0</td>\n",
       "      <td>F</td>\n",
       "      <td>компаньон</td>\n",
       "      <td>0</td>\n",
       "      <td>182682</td>\n",
       "      <td>сделка с подержанным автомобилем</td>\n",
       "      <td>[сделка,  , с,  , подержанный,  , автомобиль]</td>\n",
       "      <td>автомобиль</td>\n",
       "      <td>1</td>\n",
       "      <td>больше среднего</td>\n",
       "    </tr>\n",
       "    <tr>\n",
       "      <td>93</td>\n",
       "      <td>1</td>\n",
       "      <td>331139</td>\n",
       "      <td>32.0</td>\n",
       "      <td>среднее</td>\n",
       "      <td>1</td>\n",
       "      <td>женат / замужем</td>\n",
       "      <td>0</td>\n",
       "      <td>M</td>\n",
       "      <td>сотрудник</td>\n",
       "      <td>1</td>\n",
       "      <td>331139</td>\n",
       "      <td>сделка с автомобилем</td>\n",
       "      <td>[сделка,  , с,  , автомобиль]</td>\n",
       "      <td>автомобиль</td>\n",
       "      <td>1</td>\n",
       "      <td>больше среднего</td>\n",
       "    </tr>\n",
       "    <tr>\n",
       "      <td>132</td>\n",
       "      <td>1</td>\n",
       "      <td>246227</td>\n",
       "      <td>45.0</td>\n",
       "      <td>среднее</td>\n",
       "      <td>1</td>\n",
       "      <td>женат / замужем</td>\n",
       "      <td>0</td>\n",
       "      <td>M</td>\n",
       "      <td>сотрудник</td>\n",
       "      <td>0</td>\n",
       "      <td>246227</td>\n",
       "      <td>автомобиль</td>\n",
       "      <td>[автомобиль]</td>\n",
       "      <td>автомобиль</td>\n",
       "      <td>1</td>\n",
       "      <td>больше среднего</td>\n",
       "    </tr>\n",
       "    <tr>\n",
       "      <td>164</td>\n",
       "      <td>2</td>\n",
       "      <td>369587</td>\n",
       "      <td>27.0</td>\n",
       "      <td>высшее</td>\n",
       "      <td>0</td>\n",
       "      <td>женат / замужем</td>\n",
       "      <td>0</td>\n",
       "      <td>F</td>\n",
       "      <td>сотрудник</td>\n",
       "      <td>1</td>\n",
       "      <td>369587</td>\n",
       "      <td>на покупку своего автомобиля</td>\n",
       "      <td>[на,  , покупка,  , свой,  , автомобиль]</td>\n",
       "      <td>автомобиль</td>\n",
       "      <td>1</td>\n",
       "      <td>больше среднего</td>\n",
       "    </tr>\n",
       "    <tr>\n",
       "      <td>177</td>\n",
       "      <td>2</td>\n",
       "      <td>173074</td>\n",
       "      <td>48.0</td>\n",
       "      <td>среднее</td>\n",
       "      <td>1</td>\n",
       "      <td>женат / замужем</td>\n",
       "      <td>0</td>\n",
       "      <td>M</td>\n",
       "      <td>госслужащий</td>\n",
       "      <td>0</td>\n",
       "      <td>173074</td>\n",
       "      <td>сделка с подержанным автомобилем</td>\n",
       "      <td>[сделка,  , с,  , подержанный,  , автомобиль]</td>\n",
       "      <td>автомобиль</td>\n",
       "      <td>1</td>\n",
       "      <td>больше среднего</td>\n",
       "    </tr>\n",
       "  </tbody>\n",
       "</table>\n",
       "</div>"
      ],
      "text/plain": [
       "     children  days_employed  dob_years education  education_id  \\\n",
       "46          2         182682       37.0   среднее             1   \n",
       "93          1         331139       32.0   среднее             1   \n",
       "132         1         246227       45.0   среднее             1   \n",
       "164         2         369587       27.0    высшее             0   \n",
       "177         2         173074       48.0   среднее             1   \n",
       "\n",
       "       family_status  family_status_id gender  income_type  debt  \\\n",
       "46   женат / замужем                 0      F    компаньон     0   \n",
       "93   женат / замужем                 0      M    сотрудник     1   \n",
       "132  женат / замужем                 0      M    сотрудник     0   \n",
       "164  женат / замужем                 0      F    сотрудник     1   \n",
       "177  женат / замужем                 0      M  госслужащий     0   \n",
       "\n",
       "     total_income                           purpose  \\\n",
       "46         182682  сделка с подержанным автомобилем   \n",
       "93         331139              сделка с автомобилем   \n",
       "132        246227                        автомобиль   \n",
       "164        369587      на покупку своего автомобиля   \n",
       "177        173074  сделка с подержанным автомобилем   \n",
       "\n",
       "                                       purpose_lem purpose_lem_stem  \\\n",
       "46   [сделка,  , с,  , подержанный,  , автомобиль]       автомобиль   \n",
       "93                   [сделка,  , с,  , автомобиль]       автомобиль   \n",
       "132                                   [автомобиль]       автомобиль   \n",
       "164       [на,  , покупка,  , свой,  , автомобиль]       автомобиль   \n",
       "177  [сделка,  , с,  , подержанный,  , автомобиль]       автомобиль   \n",
       "\n",
       "     children_id total_income_value  \n",
       "46             1    больше среднего  \n",
       "93             1    больше среднего  \n",
       "132            1    больше среднего  \n",
       "164            1    больше среднего  \n",
       "177            1    больше среднего  "
      ]
     },
     "execution_count": 44,
     "metadata": {},
     "output_type": "execute_result"
    }
   ],
   "source": [
    "credit_data[(credit_data['children_id'] == 1)&(credit_data['family_status_id'] == 0)&(credit_data['total_income'] > mean_income)&(credit_data['purpose_lem_stem'] == 'автомобиль')].head()\n"
   ]
  },
  {
   "cell_type": "markdown",
   "metadata": {},
   "source": [
    "<div class=\"alert alert-success\">\n",
    "<b>Комментарий ревьюера:</b>\n",
    "\n",
    "Общий вывод принят.\n",
    "</div>"
   ]
  },
  {
   "cell_type": "markdown",
   "metadata": {},
   "source": [
    "## Чек-лист готовности проекта\n",
    "\n",
    "Поставьте 'x' в выполненных пунктах. Далее нажмите Shift+Enter."
   ]
  },
  {
   "cell_type": "markdown",
   "metadata": {},
   "source": [
    "- [x]  открыт файл;\n",
    "- [x]  файл изучен;\n",
    "- [x]  определены пропущенные значения;\n",
    "- [x]  заполнены пропущенные значения;\n",
    "- [x]  есть пояснение, какие пропущенные значения обнаружены;\n",
    "- [x]  описаны возможные причины появления пропусков в данных;\n",
    "- [x]  объяснено, по какому принципу заполнены пропуски;\n",
    "- [x]  заменен вещественный тип данных на целочисленный;\n",
    "- [x]  есть пояснение, какой метод используется для изменения типа данных и почему;\n",
    "- [x]  удалены дубликаты;\n",
    "- [x]  есть пояснение, какой метод используется для поиска и удаления дубликатов;\n",
    "- [x]  описаны возможные причины появления дубликатов в данных;\n",
    "- [x]  выделены леммы в значениях столбца с целями получения кредита;\n",
    "- [x]  описан процесс лемматизации;\n",
    "- [x]  данные категоризированы;\n",
    "- [x]  есть объяснение принципа категоризации данных;\n",
    "- [x]  есть ответ на вопрос: \"Есть ли зависимость между наличием детей и возвратом кредита в срок?\";\n",
    "- [x]  есть ответ на вопрос: \"Есть ли зависимость между семейным положением и возвратом кредита в срок?\";\n",
    "- [x]  есть ответ на вопрос: \"Есть ли зависимость между уровнем дохода и возвратом кредита в срок?\";\n",
    "- [x]  есть ответ на вопрос: \"Как разные цели кредита влияют на его возврат в срок?\";\n",
    "- [x]  в каждом этапе есть выводы;\n",
    "- [x]  есть общий вывод."
   ]
  }
 ],
 "metadata": {
  "ExecuteTimeLog": [
   {
    "duration": 332,
    "start_time": "2021-09-02T18:08:47.471Z"
   },
   {
    "duration": 319,
    "start_time": "2021-09-02T18:08:55.521Z"
   },
   {
    "duration": 276,
    "start_time": "2021-09-02T18:11:00.367Z"
   },
   {
    "duration": 732,
    "start_time": "2021-09-02T18:11:25.189Z"
   },
   {
    "duration": 1977,
    "start_time": "2021-09-02T18:11:44.623Z"
   },
   {
    "duration": 1962,
    "start_time": "2021-09-02T18:11:54.780Z"
   },
   {
    "duration": 1800,
    "start_time": "2021-09-02T18:12:21.701Z"
   },
   {
    "duration": 1929,
    "start_time": "2021-09-02T18:12:25.692Z"
   },
   {
    "duration": 75,
    "start_time": "2021-09-02T18:13:49.759Z"
   },
   {
    "duration": 62,
    "start_time": "2021-09-02T18:13:53.092Z"
   },
   {
    "duration": 2145,
    "start_time": "2021-09-02T18:14:07.471Z"
   },
   {
    "duration": 16545,
    "start_time": "2021-09-02T18:14:28.860Z"
   },
   {
    "duration": 1972,
    "start_time": "2021-09-02T18:14:49.803Z"
   },
   {
    "duration": 69,
    "start_time": "2021-09-02T18:14:59.020Z"
   },
   {
    "duration": 2497,
    "start_time": "2021-09-02T18:19:03.163Z"
   },
   {
    "duration": 1958,
    "start_time": "2021-09-02T18:19:16.610Z"
   },
   {
    "duration": 2240,
    "start_time": "2021-09-02T18:19:22.619Z"
   },
   {
    "duration": 1867,
    "start_time": "2021-09-02T18:19:28.412Z"
   },
   {
    "duration": 63,
    "start_time": "2021-09-02T18:19:34.797Z"
   },
   {
    "duration": 63,
    "start_time": "2021-09-02T18:20:53.154Z"
   },
   {
    "duration": 63,
    "start_time": "2021-09-02T18:21:24.483Z"
   },
   {
    "duration": 75,
    "start_time": "2021-09-02T18:21:39.963Z"
   },
   {
    "duration": 105,
    "start_time": "2021-09-02T18:22:00.192Z"
   },
   {
    "duration": 72,
    "start_time": "2021-09-02T18:22:11.212Z"
   },
   {
    "duration": 87,
    "start_time": "2021-09-02T18:22:16.318Z"
   },
   {
    "duration": 16,
    "start_time": "2021-09-02T18:23:03.163Z"
   },
   {
    "duration": 77,
    "start_time": "2021-09-02T18:52:09.307Z"
   },
   {
    "duration": 77,
    "start_time": "2021-09-02T18:52:20.597Z"
   },
   {
    "duration": 8,
    "start_time": "2021-09-02T19:03:35.115Z"
   },
   {
    "duration": 5652,
    "start_time": "2021-09-02T19:03:38.688Z"
   },
   {
    "duration": 4980,
    "start_time": "2021-09-02T19:04:56.329Z"
   },
   {
    "duration": 86,
    "start_time": "2021-09-02T19:05:42.632Z"
   },
   {
    "duration": 18,
    "start_time": "2021-09-02T19:05:45.198Z"
   },
   {
    "duration": 8,
    "start_time": "2021-09-02T19:06:00.667Z"
   },
   {
    "duration": 4920,
    "start_time": "2021-09-02T19:06:07.681Z"
   },
   {
    "duration": 9,
    "start_time": "2021-09-02T19:06:48.202Z"
   },
   {
    "duration": 1043,
    "start_time": "2021-09-02T19:07:10.751Z"
   },
   {
    "duration": 1010,
    "start_time": "2021-09-02T19:09:01.104Z"
   },
   {
    "duration": 1076,
    "start_time": "2021-09-02T19:09:24.776Z"
   },
   {
    "duration": 94,
    "start_time": "2021-09-02T21:06:10.692Z"
   },
   {
    "duration": 78,
    "start_time": "2021-09-02T21:19:18.132Z"
   },
   {
    "duration": 30,
    "start_time": "2021-09-02T21:21:03.637Z"
   },
   {
    "duration": 14,
    "start_time": "2021-09-02T21:21:11.489Z"
   },
   {
    "duration": 14,
    "start_time": "2021-09-02T21:21:56.544Z"
   },
   {
    "duration": 7,
    "start_time": "2021-09-02T21:22:24.461Z"
   },
   {
    "duration": 7,
    "start_time": "2021-09-02T21:23:02.955Z"
   },
   {
    "duration": 13,
    "start_time": "2021-09-02T21:23:10.096Z"
   },
   {
    "duration": 93,
    "start_time": "2021-09-02T21:25:38.890Z"
   },
   {
    "duration": 221,
    "start_time": "2021-09-02T21:28:20.344Z"
   },
   {
    "duration": 260,
    "start_time": "2021-09-02T21:28:45.516Z"
   },
   {
    "duration": 29,
    "start_time": "2021-09-02T21:29:13.935Z"
   },
   {
    "duration": 28,
    "start_time": "2021-09-02T21:29:24.096Z"
   },
   {
    "duration": 8,
    "start_time": "2021-09-02T21:30:33.934Z"
   },
   {
    "duration": 71,
    "start_time": "2021-09-02T21:31:32.569Z"
   },
   {
    "duration": 6,
    "start_time": "2021-09-02T21:31:46.882Z"
   },
   {
    "duration": 36,
    "start_time": "2021-09-02T21:31:51.742Z"
   },
   {
    "duration": 31,
    "start_time": "2021-09-02T21:36:34.559Z"
   },
   {
    "duration": 322,
    "start_time": "2021-09-02T21:37:40.049Z"
   },
   {
    "duration": 6909,
    "start_time": "2021-09-02T21:37:58.455Z"
   },
   {
    "duration": 294,
    "start_time": "2021-09-02T21:38:14.904Z"
   },
   {
    "duration": 293,
    "start_time": "2021-09-02T21:38:42.765Z"
   },
   {
    "duration": 310,
    "start_time": "2021-09-02T21:39:12.527Z"
   },
   {
    "duration": 284,
    "start_time": "2021-09-02T21:39:18.961Z"
   },
   {
    "duration": 32,
    "start_time": "2021-09-02T21:39:26.103Z"
   },
   {
    "duration": 320,
    "start_time": "2021-09-02T21:41:26.601Z"
   },
   {
    "duration": 372,
    "start_time": "2021-09-02T21:41:35.542Z"
   },
   {
    "duration": 30,
    "start_time": "2021-09-02T21:41:47.645Z"
   },
   {
    "duration": 33,
    "start_time": "2021-09-02T21:41:54.805Z"
   },
   {
    "duration": 272,
    "start_time": "2021-09-02T21:42:09.196Z"
   },
   {
    "duration": 31,
    "start_time": "2021-09-02T21:42:32.250Z"
   },
   {
    "duration": 31,
    "start_time": "2021-09-02T21:42:59.293Z"
   },
   {
    "duration": 34,
    "start_time": "2021-09-02T21:43:03.967Z"
   },
   {
    "duration": 34,
    "start_time": "2021-09-02T21:43:19.066Z"
   },
   {
    "duration": 33,
    "start_time": "2021-09-02T21:43:21.105Z"
   },
   {
    "duration": 7,
    "start_time": "2021-09-02T21:43:45.075Z"
   },
   {
    "duration": 7,
    "start_time": "2021-09-02T21:43:59.398Z"
   },
   {
    "duration": 6,
    "start_time": "2021-09-02T21:44:04.691Z"
   },
   {
    "duration": 250,
    "start_time": "2021-09-02T21:44:16.529Z"
   },
   {
    "duration": 6,
    "start_time": "2021-09-02T21:44:43.162Z"
   },
   {
    "duration": 6,
    "start_time": "2021-09-02T21:48:09.003Z"
   },
   {
    "duration": 10,
    "start_time": "2021-09-02T21:49:05.886Z"
   },
   {
    "duration": 9,
    "start_time": "2021-09-02T21:49:31.439Z"
   },
   {
    "duration": 6,
    "start_time": "2021-09-02T21:49:48.949Z"
   },
   {
    "duration": 7,
    "start_time": "2021-09-02T21:50:57.819Z"
   },
   {
    "duration": 7,
    "start_time": "2021-09-02T21:51:01.769Z"
   },
   {
    "duration": 6,
    "start_time": "2021-09-02T21:51:07.622Z"
   },
   {
    "duration": 7,
    "start_time": "2021-09-02T21:51:11.646Z"
   },
   {
    "duration": 5,
    "start_time": "2021-09-02T21:51:48.160Z"
   },
   {
    "duration": 4,
    "start_time": "2021-09-02T21:52:01.285Z"
   },
   {
    "duration": 6,
    "start_time": "2021-09-02T21:52:04.352Z"
   },
   {
    "duration": 6,
    "start_time": "2021-09-02T21:52:44.412Z"
   },
   {
    "duration": 6,
    "start_time": "2021-09-02T21:53:42.266Z"
   },
   {
    "duration": 7,
    "start_time": "2021-09-02T21:53:53.930Z"
   },
   {
    "duration": 7,
    "start_time": "2021-09-02T21:59:23.680Z"
   },
   {
    "duration": 15,
    "start_time": "2021-09-02T22:04:22.145Z"
   },
   {
    "duration": 33,
    "start_time": "2021-09-02T22:04:31.941Z"
   },
   {
    "duration": 36,
    "start_time": "2021-09-02T22:04:52.305Z"
   },
   {
    "duration": 36,
    "start_time": "2021-09-02T22:05:31.784Z"
   },
   {
    "duration": 34,
    "start_time": "2021-09-02T22:05:38.796Z"
   },
   {
    "duration": 78,
    "start_time": "2021-09-02T22:05:48.625Z"
   },
   {
    "duration": 19,
    "start_time": "2021-09-02T22:06:06.807Z"
   },
   {
    "duration": 35,
    "start_time": "2021-09-02T22:06:21.610Z"
   },
   {
    "duration": 280,
    "start_time": "2021-09-02T22:06:50.968Z"
   },
   {
    "duration": 35,
    "start_time": "2021-09-02T22:06:54.424Z"
   },
   {
    "duration": 32,
    "start_time": "2021-09-02T22:07:20.341Z"
   },
   {
    "duration": 4,
    "start_time": "2021-09-06T17:16:15.785Z"
   },
   {
    "duration": 79,
    "start_time": "2021-09-06T17:23:33.640Z"
   },
   {
    "duration": 952,
    "start_time": "2021-09-06T17:23:38.854Z"
   },
   {
    "duration": 805,
    "start_time": "2021-09-06T17:23:47.250Z"
   },
   {
    "duration": 816,
    "start_time": "2021-09-06T17:23:52.433Z"
   },
   {
    "duration": 15,
    "start_time": "2021-09-06T17:23:53.785Z"
   },
   {
    "duration": 32,
    "start_time": "2021-09-06T17:23:58.189Z"
   },
   {
    "duration": 7,
    "start_time": "2021-09-06T17:24:00.130Z"
   },
   {
    "duration": 32,
    "start_time": "2021-09-06T17:24:02.163Z"
   },
   {
    "duration": 5,
    "start_time": "2021-09-06T17:24:03.251Z"
   },
   {
    "duration": 567,
    "start_time": "2021-09-06T17:25:24.353Z"
   },
   {
    "duration": 8,
    "start_time": "2021-09-06T17:26:08.574Z"
   },
   {
    "duration": 455,
    "start_time": "2021-09-06T17:26:32.611Z"
   },
   {
    "duration": 15,
    "start_time": "2021-09-06T17:26:54.290Z"
   },
   {
    "duration": 46,
    "start_time": "2021-09-06T17:27:00.250Z"
   },
   {
    "duration": 2739,
    "start_time": "2021-09-06T17:31:15.348Z"
   },
   {
    "duration": 1927,
    "start_time": "2021-09-06T17:31:21.363Z"
   },
   {
    "duration": 2053,
    "start_time": "2021-09-06T17:31:57.117Z"
   },
   {
    "duration": 41,
    "start_time": "2021-09-06T17:32:26.594Z"
   },
   {
    "duration": 39,
    "start_time": "2021-09-06T17:32:29.120Z"
   },
   {
    "duration": 69,
    "start_time": "2021-09-06T17:32:52.151Z"
   },
   {
    "duration": 76,
    "start_time": "2021-09-06T17:32:55.681Z"
   },
   {
    "duration": 74,
    "start_time": "2021-09-06T17:33:50.418Z"
   },
   {
    "duration": 1304,
    "start_time": "2021-09-06T17:34:44.378Z"
   },
   {
    "duration": 75,
    "start_time": "2021-09-06T17:35:00.166Z"
   },
   {
    "duration": 74,
    "start_time": "2021-09-06T17:35:02.790Z"
   },
   {
    "duration": 1397,
    "start_time": "2021-09-06T17:35:12.554Z"
   },
   {
    "duration": 108,
    "start_time": "2021-09-06T17:35:51.477Z"
   },
   {
    "duration": 9,
    "start_time": "2021-09-06T17:38:58.656Z"
   },
   {
    "duration": 18,
    "start_time": "2021-09-06T17:39:08.616Z"
   },
   {
    "duration": 12,
    "start_time": "2021-09-06T17:39:28.347Z"
   },
   {
    "duration": 8,
    "start_time": "2021-09-06T17:39:53.167Z"
   },
   {
    "duration": 9,
    "start_time": "2021-09-06T17:41:01.949Z"
   },
   {
    "duration": 1274,
    "start_time": "2021-09-06T17:41:09.739Z"
   },
   {
    "duration": 9,
    "start_time": "2021-09-06T17:43:07.778Z"
   },
   {
    "duration": 8,
    "start_time": "2021-09-06T17:43:19.476Z"
   },
   {
    "duration": 8,
    "start_time": "2021-09-06T17:43:29.113Z"
   },
   {
    "duration": 8,
    "start_time": "2021-09-06T17:43:49.217Z"
   },
   {
    "duration": 7,
    "start_time": "2021-09-06T17:43:56.175Z"
   },
   {
    "duration": 9,
    "start_time": "2021-09-06T17:43:59.278Z"
   },
   {
    "duration": 10,
    "start_time": "2021-09-06T17:44:08.206Z"
   },
   {
    "duration": 9,
    "start_time": "2021-09-06T17:44:16.404Z"
   },
   {
    "duration": 285,
    "start_time": "2021-09-06T17:44:56.208Z"
   },
   {
    "duration": 9,
    "start_time": "2021-09-06T17:46:27.295Z"
   },
   {
    "duration": 226,
    "start_time": "2021-09-06T17:46:38.174Z"
   },
   {
    "duration": 103,
    "start_time": "2021-09-06T17:47:35.127Z"
   },
   {
    "duration": 42,
    "start_time": "2021-09-06T17:47:47.095Z"
   },
   {
    "duration": 41,
    "start_time": "2021-09-06T17:47:51.219Z"
   },
   {
    "duration": 31,
    "start_time": "2021-09-06T17:47:57.055Z"
   },
   {
    "duration": 45,
    "start_time": "2021-09-06T17:48:00.696Z"
   },
   {
    "duration": 44,
    "start_time": "2021-09-06T17:50:02.107Z"
   },
   {
    "duration": 20,
    "start_time": "2021-09-06T17:50:09.941Z"
   },
   {
    "duration": 19,
    "start_time": "2021-09-06T17:50:34.176Z"
   },
   {
    "duration": 21,
    "start_time": "2021-09-06T17:51:23.772Z"
   },
   {
    "duration": 44,
    "start_time": "2021-09-06T17:51:35.217Z"
   },
   {
    "duration": 20,
    "start_time": "2021-09-06T17:51:45.047Z"
   },
   {
    "duration": 33,
    "start_time": "2021-09-06T17:53:16.272Z"
   },
   {
    "duration": 6,
    "start_time": "2021-09-06T17:56:07.532Z"
   },
   {
    "duration": 35,
    "start_time": "2021-09-06T17:56:11.936Z"
   },
   {
    "duration": 5,
    "start_time": "2021-09-06T17:57:16.780Z"
   },
   {
    "duration": 7,
    "start_time": "2021-09-06T17:57:51.534Z"
   },
   {
    "duration": 32,
    "start_time": "2021-09-06T17:57:55.975Z"
   },
   {
    "duration": 33,
    "start_time": "2021-09-06T17:58:12.907Z"
   },
   {
    "duration": 33,
    "start_time": "2021-09-06T17:58:34.843Z"
   },
   {
    "duration": 7,
    "start_time": "2021-09-06T17:58:39.287Z"
   },
   {
    "duration": 6,
    "start_time": "2021-09-06T18:00:10.666Z"
   },
   {
    "duration": 34,
    "start_time": "2021-09-06T18:00:16.016Z"
   },
   {
    "duration": 53,
    "start_time": "2021-09-06T18:00:25.361Z"
   },
   {
    "duration": 266,
    "start_time": "2021-09-06T18:00:40.829Z"
   },
   {
    "duration": 275,
    "start_time": "2021-09-06T18:00:45.637Z"
   },
   {
    "duration": 255,
    "start_time": "2021-09-06T18:01:03.951Z"
   },
   {
    "duration": 97,
    "start_time": "2021-09-06T18:01:47.557Z"
   },
   {
    "duration": 258,
    "start_time": "2021-09-06T18:01:55.481Z"
   },
   {
    "duration": 283,
    "start_time": "2021-09-06T18:02:01.039Z"
   },
   {
    "duration": 5,
    "start_time": "2021-09-06T18:02:03.325Z"
   },
   {
    "duration": 337,
    "start_time": "2021-09-06T18:02:04.585Z"
   },
   {
    "duration": 280,
    "start_time": "2021-09-06T18:04:00.660Z"
   },
   {
    "duration": 308,
    "start_time": "2021-09-06T18:05:44.277Z"
   },
   {
    "duration": 243,
    "start_time": "2021-09-06T18:07:19.849Z"
   },
   {
    "duration": 279,
    "start_time": "2021-09-06T18:07:22.637Z"
   },
   {
    "duration": 300,
    "start_time": "2021-09-06T18:08:13.735Z"
   },
   {
    "duration": 255,
    "start_time": "2021-09-06T18:08:22.739Z"
   },
   {
    "duration": 294,
    "start_time": "2021-09-06T18:09:26.862Z"
   },
   {
    "duration": 246,
    "start_time": "2021-09-06T18:09:36.549Z"
   },
   {
    "duration": 30,
    "start_time": "2021-09-06T18:11:36.760Z"
   },
   {
    "duration": 8841,
    "start_time": "2021-09-06T18:13:05.864Z"
   },
   {
    "duration": 7604,
    "start_time": "2021-09-06T18:13:24.762Z"
   },
   {
    "duration": 5,
    "start_time": "2021-09-06T18:13:37.029Z"
   },
   {
    "duration": 13,
    "start_time": "2021-09-06T18:13:44.419Z"
   },
   {
    "duration": 1173,
    "start_time": "2021-09-06T18:17:09.476Z"
   },
   {
    "duration": 427,
    "start_time": "2021-09-06T18:17:22.719Z"
   },
   {
    "duration": 440,
    "start_time": "2021-09-06T18:17:31.475Z"
   },
   {
    "duration": 21,
    "start_time": "2021-09-06T18:18:13.396Z"
   },
   {
    "duration": 24,
    "start_time": "2021-09-06T18:18:17.024Z"
   },
   {
    "duration": 24,
    "start_time": "2021-09-06T18:18:23.224Z"
   },
   {
    "duration": 6,
    "start_time": "2021-09-06T18:24:19.527Z"
   },
   {
    "duration": 163358,
    "start_time": "2021-09-06T18:27:45.640Z"
   },
   {
    "duration": 365,
    "start_time": "2021-09-06T18:33:07.668Z"
   },
   {
    "duration": 274,
    "start_time": "2021-09-06T18:33:32.823Z"
   },
   {
    "duration": 800,
    "start_time": "2021-09-06T18:33:51.460Z"
   },
   {
    "duration": 16,
    "start_time": "2021-09-06T18:33:52.264Z"
   },
   {
    "duration": 34,
    "start_time": "2021-09-06T18:33:52.644Z"
   },
   {
    "duration": 7,
    "start_time": "2021-09-06T18:33:52.948Z"
   },
   {
    "duration": 34,
    "start_time": "2021-09-06T18:33:53.379Z"
   },
   {
    "duration": 22,
    "start_time": "2021-09-06T18:33:53.746Z"
   },
   {
    "duration": 33,
    "start_time": "2021-09-06T18:33:53.924Z"
   },
   {
    "duration": 7,
    "start_time": "2021-09-06T18:33:54.576Z"
   },
   {
    "duration": 24,
    "start_time": "2021-09-06T18:33:55.384Z"
   },
   {
    "duration": 298,
    "start_time": "2021-09-06T18:33:56.176Z"
   },
   {
    "duration": 4229,
    "start_time": "2021-09-06T18:34:18.635Z"
   },
   {
    "duration": 1991,
    "start_time": "2021-09-06T18:34:44.507Z"
   },
   {
    "duration": 4928,
    "start_time": "2021-09-06T18:35:00.715Z"
   },
   {
    "duration": 4334,
    "start_time": "2021-09-06T18:35:06.815Z"
   },
   {
    "duration": 4189,
    "start_time": "2021-09-06T18:35:54.079Z"
   },
   {
    "duration": 5695,
    "start_time": "2021-09-06T18:36:20.558Z"
   },
   {
    "duration": 137632,
    "start_time": "2021-09-06T18:38:28.981Z"
   },
   {
    "duration": 233,
    "start_time": "2021-09-06T18:42:55.537Z"
   },
   {
    "duration": 908,
    "start_time": "2021-09-06T18:43:08.202Z"
   },
   {
    "duration": 884,
    "start_time": "2021-09-06T18:43:16.930Z"
   },
   {
    "duration": 86,
    "start_time": "2021-09-06T18:44:27.112Z"
   },
   {
    "duration": 5,
    "start_time": "2021-09-06T18:44:37.612Z"
   },
   {
    "duration": 5,
    "start_time": "2021-09-06T18:44:52.061Z"
   },
   {
    "duration": 1090,
    "start_time": "2021-09-06T18:45:53.328Z"
   },
   {
    "duration": 1090,
    "start_time": "2021-09-06T18:47:46.373Z"
   },
   {
    "duration": 307,
    "start_time": "2021-09-06T18:51:05.327Z"
   },
   {
    "duration": 425,
    "start_time": "2021-09-06T18:51:36.988Z"
   },
   {
    "duration": 209,
    "start_time": "2021-09-06T18:52:23.139Z"
   },
   {
    "duration": 344,
    "start_time": "2021-09-06T18:53:12.431Z"
   },
   {
    "duration": 741,
    "start_time": "2021-09-06T18:53:32.948Z"
   },
   {
    "duration": 860,
    "start_time": "2021-09-06T18:54:02.465Z"
   },
   {
    "duration": 887,
    "start_time": "2021-09-06T18:54:06.576Z"
   },
   {
    "duration": 901,
    "start_time": "2021-09-06T18:54:11.197Z"
   },
   {
    "duration": 895,
    "start_time": "2021-09-06T18:54:47.160Z"
   },
   {
    "duration": 884,
    "start_time": "2021-09-06T18:54:52.212Z"
   },
   {
    "duration": 897,
    "start_time": "2021-09-06T18:54:57.700Z"
   },
   {
    "duration": 901,
    "start_time": "2021-09-06T18:55:07.751Z"
   },
   {
    "duration": 896,
    "start_time": "2021-09-06T18:55:12.311Z"
   },
   {
    "duration": 255,
    "start_time": "2021-09-06T18:55:28.124Z"
   },
   {
    "duration": 4,
    "start_time": "2021-09-06T18:55:36.796Z"
   },
   {
    "duration": 5,
    "start_time": "2021-09-06T18:55:45.743Z"
   },
   {
    "duration": 6,
    "start_time": "2021-09-06T18:55:47.961Z"
   },
   {
    "duration": 261,
    "start_time": "2021-09-06T18:55:57.328Z"
   },
   {
    "duration": 276,
    "start_time": "2021-09-06T18:56:04.248Z"
   },
   {
    "duration": 270,
    "start_time": "2021-09-06T18:56:09.472Z"
   },
   {
    "duration": 1716,
    "start_time": "2021-09-06T18:56:19.052Z"
   },
   {
    "duration": 109,
    "start_time": "2021-09-06T18:56:27.483Z"
   },
   {
    "duration": 15,
    "start_time": "2021-09-06T18:56:27.731Z"
   },
   {
    "duration": 34,
    "start_time": "2021-09-06T18:56:28.693Z"
   },
   {
    "duration": 7,
    "start_time": "2021-09-06T18:56:29.021Z"
   },
   {
    "duration": 31,
    "start_time": "2021-09-06T18:56:30.121Z"
   },
   {
    "duration": 21,
    "start_time": "2021-09-06T18:56:31.217Z"
   },
   {
    "duration": 33,
    "start_time": "2021-09-06T18:56:31.787Z"
   },
   {
    "duration": 6,
    "start_time": "2021-09-06T18:56:33.325Z"
   },
   {
    "duration": 22,
    "start_time": "2021-09-06T18:56:35.149Z"
   },
   {
    "duration": 266,
    "start_time": "2021-09-06T18:56:38.061Z"
   },
   {
    "duration": 203,
    "start_time": "2021-09-06T18:56:49.619Z"
   },
   {
    "duration": 916,
    "start_time": "2021-09-06T18:57:03.569Z"
   },
   {
    "duration": 1258,
    "start_time": "2021-09-06T18:57:11.912Z"
   },
   {
    "duration": 884,
    "start_time": "2021-09-06T18:57:15.573Z"
   },
   {
    "duration": 373,
    "start_time": "2021-09-06T18:57:44.436Z"
   },
   {
    "duration": 972,
    "start_time": "2021-09-06T18:58:32.864Z"
   },
   {
    "duration": 275,
    "start_time": "2021-09-06T18:58:52.468Z"
   },
   {
    "duration": 256,
    "start_time": "2021-09-06T18:59:33.443Z"
   },
   {
    "duration": 217,
    "start_time": "2021-09-06T18:59:38.039Z"
   },
   {
    "duration": 84,
    "start_time": "2021-09-06T18:59:42.521Z"
   },
   {
    "duration": 271,
    "start_time": "2021-09-06T18:59:46.180Z"
   },
   {
    "duration": 206,
    "start_time": "2021-09-06T18:59:55.734Z"
   },
   {
    "duration": 264,
    "start_time": "2021-09-06T19:00:11.094Z"
   },
   {
    "duration": 89,
    "start_time": "2021-09-06T19:00:26.751Z"
   },
   {
    "duration": 884,
    "start_time": "2021-09-06T19:00:32.207Z"
   },
   {
    "duration": 907,
    "start_time": "2021-09-06T19:00:39.595Z"
   },
   {
    "duration": 68,
    "start_time": "2021-09-06T19:00:45.841Z"
   },
   {
    "duration": 897,
    "start_time": "2021-09-06T19:00:49.113Z"
   },
   {
    "duration": 4081,
    "start_time": "2021-09-06T19:11:08.399Z"
   },
   {
    "duration": 4044,
    "start_time": "2021-09-06T19:11:19.533Z"
   },
   {
    "duration": 4133,
    "start_time": "2021-09-06T19:12:22.150Z"
   },
   {
    "duration": 1963,
    "start_time": "2021-09-06T19:16:14.861Z"
   },
   {
    "duration": 4004,
    "start_time": "2021-09-06T19:16:35.794Z"
   },
   {
    "duration": 4107,
    "start_time": "2021-09-06T19:18:08.122Z"
   },
   {
    "duration": 2052,
    "start_time": "2021-09-06T19:20:32.507Z"
   },
   {
    "duration": 1973,
    "start_time": "2021-09-06T19:20:42.781Z"
   },
   {
    "duration": 4953,
    "start_time": "2021-09-06T19:20:49.640Z"
   },
   {
    "duration": 4022,
    "start_time": "2021-09-06T19:26:50.483Z"
   },
   {
    "duration": 11,
    "start_time": "2021-09-06T19:27:53.339Z"
   },
   {
    "duration": 25,
    "start_time": "2021-09-06T19:27:57.095Z"
   },
   {
    "duration": 92,
    "start_time": "2021-09-06T19:29:06.526Z"
   },
   {
    "duration": 8,
    "start_time": "2021-09-06T19:29:12.845Z"
   },
   {
    "duration": 7,
    "start_time": "2021-09-06T19:30:39.165Z"
   },
   {
    "duration": 7,
    "start_time": "2021-09-06T19:32:18.440Z"
   },
   {
    "duration": 8,
    "start_time": "2021-09-06T19:32:41.848Z"
   },
   {
    "duration": 9,
    "start_time": "2021-09-06T19:33:37.613Z"
   },
   {
    "duration": 8,
    "start_time": "2021-09-06T19:35:35.312Z"
   },
   {
    "duration": 12,
    "start_time": "2021-09-06T19:37:22.099Z"
   },
   {
    "duration": 88,
    "start_time": "2021-09-06T19:37:38.014Z"
   },
   {
    "duration": 79,
    "start_time": "2021-09-06T19:37:43.356Z"
   },
   {
    "duration": 273,
    "start_time": "2021-09-06T19:38:16.586Z"
   },
   {
    "duration": 87,
    "start_time": "2021-09-06T19:38:22.647Z"
   },
   {
    "duration": 86,
    "start_time": "2021-09-06T19:38:30.403Z"
   },
   {
    "duration": 413,
    "start_time": "2021-09-06T19:40:58.408Z"
   },
   {
    "duration": 371,
    "start_time": "2021-09-06T19:41:14.411Z"
   },
   {
    "duration": 87,
    "start_time": "2021-09-06T19:41:26.575Z"
   },
   {
    "duration": 110,
    "start_time": "2021-09-06T19:41:32.609Z"
   },
   {
    "duration": 80,
    "start_time": "2021-09-06T19:41:39.024Z"
   },
   {
    "duration": 87,
    "start_time": "2021-09-06T19:41:49.992Z"
   },
   {
    "duration": 86,
    "start_time": "2021-09-06T19:42:15.453Z"
   },
   {
    "duration": 85,
    "start_time": "2021-09-06T19:46:31.392Z"
   },
   {
    "duration": 82,
    "start_time": "2021-09-06T19:46:55.306Z"
   },
   {
    "duration": 80,
    "start_time": "2021-09-06T19:46:58.317Z"
   },
   {
    "duration": 81,
    "start_time": "2021-09-06T19:47:01.330Z"
   },
   {
    "duration": 35,
    "start_time": "2021-09-06T19:47:06.578Z"
   },
   {
    "duration": 81,
    "start_time": "2021-09-06T19:47:08.218Z"
   },
   {
    "duration": 269,
    "start_time": "2021-09-06T19:47:19.052Z"
   },
   {
    "duration": 785,
    "start_time": "2021-09-06T19:47:33.974Z"
   },
   {
    "duration": 16,
    "start_time": "2021-09-06T19:47:34.762Z"
   },
   {
    "duration": 34,
    "start_time": "2021-09-06T19:47:34.780Z"
   },
   {
    "duration": 45,
    "start_time": "2021-09-06T19:47:34.817Z"
   },
   {
    "duration": 32,
    "start_time": "2021-09-06T19:47:34.864Z"
   },
   {
    "duration": 21,
    "start_time": "2021-09-06T19:47:34.898Z"
   },
   {
    "duration": 71,
    "start_time": "2021-09-06T19:47:34.921Z"
   },
   {
    "duration": 104,
    "start_time": "2021-09-06T19:47:34.995Z"
   },
   {
    "duration": 6,
    "start_time": "2021-09-06T19:47:35.102Z"
   },
   {
    "duration": 41,
    "start_time": "2021-09-06T19:47:35.111Z"
   },
   {
    "duration": 4070,
    "start_time": "2021-09-06T19:47:35.155Z"
   },
   {
    "duration": 95,
    "start_time": "2021-09-06T19:47:48.082Z"
   },
   {
    "duration": 91,
    "start_time": "2021-09-06T19:47:52.010Z"
   },
   {
    "duration": 108,
    "start_time": "2021-09-06T19:48:06.555Z"
   },
   {
    "duration": 96,
    "start_time": "2021-09-06T19:48:59.109Z"
   },
   {
    "duration": 96,
    "start_time": "2021-09-06T19:49:08.470Z"
   },
   {
    "duration": 103,
    "start_time": "2021-09-06T19:50:31.142Z"
   },
   {
    "duration": 103,
    "start_time": "2021-09-06T19:51:08.565Z"
   },
   {
    "duration": 130,
    "start_time": "2021-09-06T19:51:17.419Z"
   },
   {
    "duration": 84,
    "start_time": "2021-09-06T19:51:27.948Z"
   },
   {
    "duration": 100,
    "start_time": "2021-09-06T19:52:16.063Z"
   },
   {
    "duration": 115,
    "start_time": "2021-09-06T19:52:20.178Z"
   },
   {
    "duration": 10,
    "start_time": "2021-09-06T19:52:53.133Z"
   },
   {
    "duration": 9,
    "start_time": "2021-09-06T19:53:24.952Z"
   },
   {
    "duration": 9,
    "start_time": "2021-09-06T19:53:29.241Z"
   },
   {
    "duration": 416,
    "start_time": "2021-09-07T16:01:26.739Z"
   },
   {
    "duration": 831,
    "start_time": "2021-09-07T16:01:34.547Z"
   },
   {
    "duration": 17,
    "start_time": "2021-09-07T16:01:35.382Z"
   },
   {
    "duration": 32,
    "start_time": "2021-09-07T16:01:35.723Z"
   },
   {
    "duration": 9,
    "start_time": "2021-09-07T16:01:36.075Z"
   },
   {
    "duration": 3,
    "start_time": "2021-09-07T16:01:36.952Z"
   },
   {
    "duration": 272,
    "start_time": "2021-09-07T16:01:39.112Z"
   },
   {
    "duration": 30,
    "start_time": "2021-09-07T16:02:26.452Z"
   },
   {
    "duration": 18,
    "start_time": "2021-09-07T16:02:31.893Z"
   },
   {
    "duration": 11,
    "start_time": "2021-09-07T16:04:28.142Z"
   },
   {
    "duration": 15,
    "start_time": "2021-09-07T16:04:34.436Z"
   },
   {
    "duration": 22,
    "start_time": "2021-09-07T16:04:45.924Z"
   },
   {
    "duration": 11,
    "start_time": "2021-09-07T16:04:56.528Z"
   },
   {
    "duration": 20,
    "start_time": "2021-09-07T16:04:59.003Z"
   },
   {
    "duration": 289,
    "start_time": "2021-09-07T16:05:22.893Z"
   },
   {
    "duration": 242,
    "start_time": "2021-09-07T16:05:28.133Z"
   },
   {
    "duration": 296,
    "start_time": "2021-09-07T16:05:34.598Z"
   },
   {
    "duration": 562,
    "start_time": "2021-09-07T16:06:04.889Z"
   },
   {
    "duration": 222,
    "start_time": "2021-09-07T16:06:28.403Z"
   },
   {
    "duration": 230,
    "start_time": "2021-09-07T16:06:31.969Z"
   },
   {
    "duration": 264,
    "start_time": "2021-09-07T16:06:39.003Z"
   },
   {
    "duration": 749,
    "start_time": "2021-09-07T16:06:51.095Z"
   },
   {
    "duration": 15,
    "start_time": "2021-09-07T16:06:52.367Z"
   },
   {
    "duration": 35,
    "start_time": "2021-09-07T16:06:55.091Z"
   },
   {
    "duration": 7,
    "start_time": "2021-09-07T16:06:56.305Z"
   },
   {
    "duration": 3,
    "start_time": "2021-09-07T16:06:57.669Z"
   },
   {
    "duration": 20,
    "start_time": "2021-09-07T16:06:58.983Z"
   },
   {
    "duration": 4,
    "start_time": "2021-09-07T16:06:59.849Z"
   },
   {
    "duration": 21,
    "start_time": "2021-09-07T16:07:01.841Z"
   },
   {
    "duration": 4,
    "start_time": "2021-09-07T16:07:05.089Z"
   },
   {
    "duration": 9,
    "start_time": "2021-09-07T16:07:12.026Z"
   },
   {
    "duration": 2665,
    "start_time": "2021-09-07T16:07:59.931Z"
   },
   {
    "duration": 8,
    "start_time": "2021-09-07T16:08:05.725Z"
   },
   {
    "duration": 21,
    "start_time": "2021-09-07T16:08:10.471Z"
   },
   {
    "duration": 21,
    "start_time": "2021-09-07T16:08:11.333Z"
   },
   {
    "duration": 297,
    "start_time": "2021-09-07T16:08:32.470Z"
   },
   {
    "duration": 255,
    "start_time": "2021-09-07T16:08:41.095Z"
   },
   {
    "duration": 269,
    "start_time": "2021-09-07T16:08:51.216Z"
   },
   {
    "duration": 293,
    "start_time": "2021-09-07T16:08:59.926Z"
   },
   {
    "duration": 248,
    "start_time": "2021-09-07T16:09:04.162Z"
   },
   {
    "duration": 253,
    "start_time": "2021-09-07T16:09:07.504Z"
   },
   {
    "duration": 239,
    "start_time": "2021-09-07T16:09:11.183Z"
   },
   {
    "duration": 977,
    "start_time": "2021-09-07T16:09:57.760Z"
   },
   {
    "duration": 789,
    "start_time": "2021-09-07T16:10:13.063Z"
   },
   {
    "duration": 15,
    "start_time": "2021-09-07T16:10:14.308Z"
   },
   {
    "duration": 32,
    "start_time": "2021-09-07T16:10:17.302Z"
   },
   {
    "duration": 7,
    "start_time": "2021-09-07T16:10:20.343Z"
   },
   {
    "duration": 3,
    "start_time": "2021-09-07T16:10:22.500Z"
   },
   {
    "duration": 22,
    "start_time": "2021-09-07T16:10:24.136Z"
   },
   {
    "duration": 5,
    "start_time": "2021-09-07T16:10:26.428Z"
   },
   {
    "duration": 21,
    "start_time": "2021-09-07T16:10:27.999Z"
   },
   {
    "duration": 10,
    "start_time": "2021-09-07T16:10:58.630Z"
   },
   {
    "duration": 9,
    "start_time": "2021-09-07T16:11:05.636Z"
   },
   {
    "duration": 32,
    "start_time": "2021-09-07T16:11:10.357Z"
   },
   {
    "duration": 400,
    "start_time": "2021-09-07T16:11:15.153Z"
   },
   {
    "duration": 29,
    "start_time": "2021-09-07T16:11:19.051Z"
   },
   {
    "duration": 14,
    "start_time": "2021-09-07T16:11:32.783Z"
   },
   {
    "duration": 20,
    "start_time": "2021-09-07T16:11:33.909Z"
   },
   {
    "duration": 12,
    "start_time": "2021-09-07T16:11:38.653Z"
   },
   {
    "duration": 19,
    "start_time": "2021-09-07T16:11:39.415Z"
   },
   {
    "duration": 10,
    "start_time": "2021-09-07T16:12:41.173Z"
   },
   {
    "duration": 20,
    "start_time": "2021-09-07T16:12:42.621Z"
   },
   {
    "duration": 8,
    "start_time": "2021-09-07T16:12:57.989Z"
   },
   {
    "duration": 9,
    "start_time": "2021-09-07T16:13:47.195Z"
   },
   {
    "duration": 9,
    "start_time": "2021-09-07T16:13:49.957Z"
   },
   {
    "duration": 9,
    "start_time": "2021-09-07T16:13:58.607Z"
   },
   {
    "duration": 23,
    "start_time": "2021-09-07T16:13:59.243Z"
   },
   {
    "duration": 16,
    "start_time": "2021-09-07T16:14:11.630Z"
   },
   {
    "duration": 21,
    "start_time": "2021-09-07T16:14:13.513Z"
   },
   {
    "duration": 303,
    "start_time": "2021-09-07T16:18:52.721Z"
   },
   {
    "duration": 1263,
    "start_time": "2021-09-07T16:20:23.533Z"
   },
   {
    "duration": 1485,
    "start_time": "2021-09-07T16:21:13.927Z"
   },
   {
    "duration": 1137,
    "start_time": "2021-09-07T16:21:26.139Z"
   },
   {
    "duration": 1104,
    "start_time": "2021-09-07T16:21:41.039Z"
   },
   {
    "duration": 773,
    "start_time": "2021-09-07T16:22:00.627Z"
   },
   {
    "duration": 14,
    "start_time": "2021-09-07T16:22:01.402Z"
   },
   {
    "duration": 73,
    "start_time": "2021-09-07T16:22:41.188Z"
   },
   {
    "duration": 14,
    "start_time": "2021-09-07T16:22:41.776Z"
   },
   {
    "duration": 32,
    "start_time": "2021-09-07T16:22:44.590Z"
   },
   {
    "duration": 6,
    "start_time": "2021-09-07T16:22:46.508Z"
   },
   {
    "duration": 20,
    "start_time": "2021-09-07T16:22:48.834Z"
   },
   {
    "duration": 8,
    "start_time": "2021-09-07T16:22:51.854Z"
   },
   {
    "duration": 30,
    "start_time": "2021-09-07T16:22:52.560Z"
   },
   {
    "duration": 25,
    "start_time": "2021-09-07T16:22:57.675Z"
   },
   {
    "duration": 99,
    "start_time": "2021-09-07T16:23:26.753Z"
   },
   {
    "duration": 17,
    "start_time": "2021-09-07T16:23:42.221Z"
   },
   {
    "duration": 10,
    "start_time": "2021-09-07T16:24:28.581Z"
   },
   {
    "duration": 8,
    "start_time": "2021-09-07T16:25:01.172Z"
   },
   {
    "duration": 107,
    "start_time": "2021-09-07T16:26:23.382Z"
   },
   {
    "duration": 8,
    "start_time": "2021-09-07T16:26:40.856Z"
   },
   {
    "duration": 8,
    "start_time": "2021-09-07T16:26:46.257Z"
   },
   {
    "duration": 5,
    "start_time": "2021-09-07T16:28:49.909Z"
   },
   {
    "duration": 7,
    "start_time": "2021-09-07T16:28:53.825Z"
   },
   {
    "duration": 12,
    "start_time": "2021-09-07T16:31:00.631Z"
   },
   {
    "duration": 15,
    "start_time": "2021-09-07T16:31:09.983Z"
   },
   {
    "duration": 1333,
    "start_time": "2021-09-07T16:32:04.627Z"
   },
   {
    "duration": 16,
    "start_time": "2021-09-07T16:32:20.663Z"
   },
   {
    "duration": 15,
    "start_time": "2021-09-07T16:32:52.452Z"
   },
   {
    "duration": 13,
    "start_time": "2021-09-07T16:32:56.464Z"
   },
   {
    "duration": 14,
    "start_time": "2021-09-07T16:33:00.548Z"
   },
   {
    "duration": 13,
    "start_time": "2021-09-07T16:33:02.394Z"
   },
   {
    "duration": 10,
    "start_time": "2021-09-07T16:33:18.140Z"
   },
   {
    "duration": 10,
    "start_time": "2021-09-07T16:33:30.049Z"
   },
   {
    "duration": 14,
    "start_time": "2021-09-07T16:33:33.649Z"
   },
   {
    "duration": 3885,
    "start_time": "2021-09-07T16:34:01.136Z"
   },
   {
    "duration": 8,
    "start_time": "2021-09-07T16:34:43.155Z"
   },
   {
    "duration": 16,
    "start_time": "2021-09-07T16:34:46.292Z"
   },
   {
    "duration": 15,
    "start_time": "2021-09-07T16:34:49.983Z"
   },
   {
    "duration": 15,
    "start_time": "2021-09-07T16:34:51.863Z"
   },
   {
    "duration": 977,
    "start_time": "2021-09-07T16:35:00.975Z"
   },
   {
    "duration": 14,
    "start_time": "2021-09-07T16:35:02.437Z"
   },
   {
    "duration": 33,
    "start_time": "2021-09-07T16:35:04.627Z"
   },
   {
    "duration": 6,
    "start_time": "2021-09-07T16:35:06.269Z"
   },
   {
    "duration": 22,
    "start_time": "2021-09-07T16:35:07.529Z"
   },
   {
    "duration": 9,
    "start_time": "2021-09-07T16:35:08.119Z"
   },
   {
    "duration": 17,
    "start_time": "2021-09-07T16:35:09.193Z"
   },
   {
    "duration": 18,
    "start_time": "2021-09-07T16:35:11.771Z"
   },
   {
    "duration": 11,
    "start_time": "2021-09-07T16:35:34.718Z"
   },
   {
    "duration": 11,
    "start_time": "2021-09-07T16:35:36.866Z"
   },
   {
    "duration": 10,
    "start_time": "2021-09-07T16:35:40.924Z"
   },
   {
    "duration": 8,
    "start_time": "2021-09-07T16:36:18.371Z"
   },
   {
    "duration": 8,
    "start_time": "2021-09-07T16:36:29.417Z"
   },
   {
    "duration": 8,
    "start_time": "2021-09-07T16:36:36.859Z"
   },
   {
    "duration": 10,
    "start_time": "2021-09-07T16:36:41.824Z"
   },
   {
    "duration": 35,
    "start_time": "2021-09-07T16:36:48.010Z"
   },
   {
    "duration": 9,
    "start_time": "2021-09-07T16:37:18.140Z"
   },
   {
    "duration": 14,
    "start_time": "2021-09-07T16:37:25.979Z"
   },
   {
    "duration": 32,
    "start_time": "2021-09-07T16:37:39.941Z"
   },
   {
    "duration": 31,
    "start_time": "2021-09-07T16:37:55.959Z"
   },
   {
    "duration": 8,
    "start_time": "2021-09-07T16:38:02.251Z"
   },
   {
    "duration": 25,
    "start_time": "2021-09-07T16:38:23.538Z"
   },
   {
    "duration": 19,
    "start_time": "2021-09-07T16:38:41.085Z"
   },
   {
    "duration": 32,
    "start_time": "2021-09-07T16:38:59.917Z"
   },
   {
    "duration": 19,
    "start_time": "2021-09-07T16:39:07.529Z"
   },
   {
    "duration": 6,
    "start_time": "2021-09-07T16:39:31.844Z"
   },
   {
    "duration": 6,
    "start_time": "2021-09-07T16:40:42.766Z"
   },
   {
    "duration": 7,
    "start_time": "2021-09-07T16:40:53.827Z"
   },
   {
    "duration": 11,
    "start_time": "2021-09-07T16:40:58.834Z"
   },
   {
    "duration": 10,
    "start_time": "2021-09-07T16:41:07.710Z"
   },
   {
    "duration": 11,
    "start_time": "2021-09-07T16:41:13.790Z"
   },
   {
    "duration": 11,
    "start_time": "2021-09-07T16:41:33.513Z"
   },
   {
    "duration": 12,
    "start_time": "2021-09-07T16:41:50.042Z"
   },
   {
    "duration": 11,
    "start_time": "2021-09-07T16:42:06.148Z"
   },
   {
    "duration": 10,
    "start_time": "2021-09-07T16:42:17.506Z"
   },
   {
    "duration": 13,
    "start_time": "2021-09-07T16:42:39.299Z"
   },
   {
    "duration": 12,
    "start_time": "2021-09-07T16:43:01.367Z"
   },
   {
    "duration": 10,
    "start_time": "2021-09-07T16:43:20.762Z"
   },
   {
    "duration": 32,
    "start_time": "2021-09-07T16:43:43.692Z"
   },
   {
    "duration": 17,
    "start_time": "2021-09-07T16:43:49.410Z"
   },
   {
    "duration": 6,
    "start_time": "2021-09-07T16:43:53.850Z"
   },
   {
    "duration": 32,
    "start_time": "2021-09-07T16:44:02.609Z"
   },
   {
    "duration": 329,
    "start_time": "2021-09-07T16:44:35.980Z"
   },
   {
    "duration": 6,
    "start_time": "2021-09-07T16:44:49.202Z"
   },
   {
    "duration": 229,
    "start_time": "2021-09-07T16:44:51.910Z"
   },
   {
    "duration": 21,
    "start_time": "2021-09-07T16:44:57.410Z"
   },
   {
    "duration": 19,
    "start_time": "2021-09-07T16:45:03.385Z"
   },
   {
    "duration": 20,
    "start_time": "2021-09-07T16:45:36.311Z"
   },
   {
    "duration": 19,
    "start_time": "2021-09-07T16:45:45.219Z"
   },
   {
    "duration": 353,
    "start_time": "2021-09-07T16:46:12.010Z"
   },
   {
    "duration": 305,
    "start_time": "2021-09-07T16:46:22.280Z"
   },
   {
    "duration": 34,
    "start_time": "2021-09-07T16:50:23.748Z"
   },
   {
    "duration": 58,
    "start_time": "2021-09-07T16:54:11.594Z"
   },
   {
    "duration": 54,
    "start_time": "2021-09-07T16:55:24.860Z"
   },
   {
    "duration": 39,
    "start_time": "2021-09-07T16:57:07.305Z"
   },
   {
    "duration": 486,
    "start_time": "2021-09-07T16:57:49.796Z"
   },
   {
    "duration": 21,
    "start_time": "2021-09-07T16:58:07.312Z"
   },
   {
    "duration": 225,
    "start_time": "2021-09-07T16:58:44.005Z"
   },
   {
    "duration": 509,
    "start_time": "2021-09-07T16:58:51.809Z"
   },
   {
    "duration": 58,
    "start_time": "2021-09-07T16:59:17.238Z"
   },
   {
    "duration": 19,
    "start_time": "2021-09-07T16:59:33.744Z"
   },
   {
    "duration": 5,
    "start_time": "2021-09-07T16:59:47.117Z"
   },
   {
    "duration": 16,
    "start_time": "2021-09-07T17:00:37.064Z"
   },
   {
    "duration": 43,
    "start_time": "2021-09-07T17:00:43.410Z"
   },
   {
    "duration": 5,
    "start_time": "2021-09-07T17:01:31.410Z"
   },
   {
    "duration": 15,
    "start_time": "2021-09-07T17:01:32.176Z"
   },
   {
    "duration": 38,
    "start_time": "2021-09-07T17:01:39.050Z"
   },
   {
    "duration": 5,
    "start_time": "2021-09-07T17:01:45.686Z"
   },
   {
    "duration": 29,
    "start_time": "2021-09-07T17:01:58.242Z"
   },
   {
    "duration": 16,
    "start_time": "2021-09-07T17:02:02.073Z"
   },
   {
    "duration": 22,
    "start_time": "2021-09-07T17:02:52.089Z"
   },
   {
    "duration": 29,
    "start_time": "2021-09-07T17:02:55.032Z"
   },
   {
    "duration": 57,
    "start_time": "2021-09-07T17:03:12.302Z"
   },
   {
    "duration": 52,
    "start_time": "2021-09-07T17:03:27.274Z"
   },
   {
    "duration": 56,
    "start_time": "2021-09-07T17:17:49.085Z"
   },
   {
    "duration": 21,
    "start_time": "2021-09-07T17:18:58.132Z"
   },
   {
    "duration": 19,
    "start_time": "2021-09-07T17:19:01.286Z"
   },
   {
    "duration": 21,
    "start_time": "2021-09-07T17:19:05.050Z"
   },
   {
    "duration": 16,
    "start_time": "2021-09-07T17:26:05.407Z"
   },
   {
    "duration": 42,
    "start_time": "2021-09-07T17:26:09.325Z"
   },
   {
    "duration": 20,
    "start_time": "2021-09-07T17:29:17.168Z"
   },
   {
    "duration": 33,
    "start_time": "2021-09-07T17:29:21.102Z"
   },
   {
    "duration": 18,
    "start_time": "2021-09-07T17:29:47.174Z"
   },
   {
    "duration": 18,
    "start_time": "2021-09-07T17:30:09.420Z"
   },
   {
    "duration": 17,
    "start_time": "2021-09-07T17:30:13.473Z"
   },
   {
    "duration": 35,
    "start_time": "2021-09-07T17:30:23.790Z"
   },
   {
    "duration": 33,
    "start_time": "2021-09-07T17:30:39.192Z"
   },
   {
    "duration": 34,
    "start_time": "2021-09-07T17:42:07.787Z"
   },
   {
    "duration": 50,
    "start_time": "2021-09-07T17:42:11.958Z"
   },
   {
    "duration": 308,
    "start_time": "2021-09-07T17:43:26.182Z"
   },
   {
    "duration": 34,
    "start_time": "2021-09-07T17:43:35.482Z"
   },
   {
    "duration": 33,
    "start_time": "2021-09-07T17:44:33.941Z"
   },
   {
    "duration": 18,
    "start_time": "2021-09-07T17:44:52.630Z"
   },
   {
    "duration": 19,
    "start_time": "2021-09-07T17:45:49.626Z"
   },
   {
    "duration": 19,
    "start_time": "2021-09-07T17:45:58.665Z"
   },
   {
    "duration": 9,
    "start_time": "2021-09-07T17:48:05.158Z"
   },
   {
    "duration": 8,
    "start_time": "2021-09-07T17:48:56.622Z"
   },
   {
    "duration": 30,
    "start_time": "2021-09-07T17:49:26.947Z"
   },
   {
    "duration": 6,
    "start_time": "2021-09-07T17:49:29.419Z"
   },
   {
    "duration": 18,
    "start_time": "2021-09-07T17:49:31.057Z"
   },
   {
    "duration": 23,
    "start_time": "2021-09-07T17:49:32.667Z"
   },
   {
    "duration": 267,
    "start_time": "2021-09-07T17:49:33.419Z"
   },
   {
    "duration": 4106,
    "start_time": "2021-09-07T17:49:48.428Z"
   },
   {
    "duration": 24,
    "start_time": "2021-09-07T17:49:56.152Z"
   },
   {
    "duration": 9,
    "start_time": "2021-09-07T17:49:57.127Z"
   },
   {
    "duration": 5,
    "start_time": "2021-09-07T17:50:27.234Z"
   },
   {
    "duration": 6,
    "start_time": "2021-09-07T17:52:17.735Z"
   },
   {
    "duration": 333,
    "start_time": "2021-09-07T17:52:29.105Z"
   },
   {
    "duration": 9,
    "start_time": "2021-09-07T17:52:41.110Z"
   },
   {
    "duration": 8,
    "start_time": "2021-09-07T17:52:48.732Z"
   },
   {
    "duration": 8,
    "start_time": "2021-09-07T17:53:03.524Z"
   },
   {
    "duration": 8,
    "start_time": "2021-09-07T17:53:38.765Z"
   },
   {
    "duration": 756,
    "start_time": "2021-09-07T17:56:20.755Z"
   },
   {
    "duration": 79,
    "start_time": "2021-09-07T17:56:40.746Z"
   },
   {
    "duration": 75,
    "start_time": "2021-09-07T17:56:52.246Z"
   },
   {
    "duration": 100,
    "start_time": "2021-09-07T17:56:55.970Z"
   },
   {
    "duration": 8,
    "start_time": "2021-09-07T17:57:08.195Z"
   },
   {
    "duration": 12,
    "start_time": "2021-09-07T17:57:20.379Z"
   },
   {
    "duration": 17,
    "start_time": "2021-09-07T17:57:25.563Z"
   },
   {
    "duration": 9,
    "start_time": "2021-09-07T17:58:14.512Z"
   },
   {
    "duration": 20,
    "start_time": "2021-09-07T17:58:15.682Z"
   },
   {
    "duration": 9,
    "start_time": "2021-09-07T17:58:26.145Z"
   },
   {
    "duration": 19,
    "start_time": "2021-09-07T17:58:26.807Z"
   },
   {
    "duration": 6,
    "start_time": "2021-09-07T17:58:27.743Z"
   },
   {
    "duration": 16,
    "start_time": "2021-09-07T17:58:28.134Z"
   },
   {
    "duration": 2466,
    "start_time": "2021-09-07T17:58:30.043Z"
   },
   {
    "duration": 4,
    "start_time": "2021-09-07T17:58:49.347Z"
   },
   {
    "duration": 2705,
    "start_time": "2021-09-07T17:59:00.187Z"
   },
   {
    "duration": 1016,
    "start_time": "2021-09-07T17:59:15.086Z"
   },
   {
    "duration": 17,
    "start_time": "2021-09-07T17:59:16.561Z"
   },
   {
    "duration": 32,
    "start_time": "2021-09-07T17:59:17.923Z"
   },
   {
    "duration": 7,
    "start_time": "2021-09-07T17:59:18.601Z"
   },
   {
    "duration": 21,
    "start_time": "2021-09-07T17:59:19.653Z"
   },
   {
    "duration": 10,
    "start_time": "2021-09-07T17:59:20.039Z"
   },
   {
    "duration": 17,
    "start_time": "2021-09-07T17:59:20.281Z"
   },
   {
    "duration": 7,
    "start_time": "2021-09-07T17:59:20.795Z"
   },
   {
    "duration": 35,
    "start_time": "2021-09-07T17:59:21.233Z"
   },
   {
    "duration": 9,
    "start_time": "2021-09-07T17:59:21.890Z"
   },
   {
    "duration": 16,
    "start_time": "2021-09-07T17:59:23.145Z"
   },
   {
    "duration": 7,
    "start_time": "2021-09-07T17:59:24.487Z"
   },
   {
    "duration": 16,
    "start_time": "2021-09-07T17:59:24.821Z"
   },
   {
    "duration": 25,
    "start_time": "2021-09-07T17:59:28.155Z"
   },
   {
    "duration": 58,
    "start_time": "2021-09-07T18:00:42.053Z"
   },
   {
    "duration": 66,
    "start_time": "2021-09-07T18:01:15.995Z"
   },
   {
    "duration": 4217,
    "start_time": "2021-09-07T18:01:18.440Z"
   },
   {
    "duration": 30,
    "start_time": "2021-09-07T18:01:24.770Z"
   },
   {
    "duration": 8,
    "start_time": "2021-09-07T18:01:26.090Z"
   },
   {
    "duration": 320,
    "start_time": "2021-09-07T18:02:15.291Z"
   },
   {
    "duration": 10,
    "start_time": "2021-09-07T18:02:20.648Z"
   },
   {
    "duration": 302,
    "start_time": "2021-09-07T18:02:27.543Z"
   },
   {
    "duration": 10,
    "start_time": "2021-09-07T18:02:34.516Z"
   },
   {
    "duration": 7,
    "start_time": "2021-09-07T18:06:21.998Z"
   },
   {
    "duration": 37,
    "start_time": "2021-09-07T18:06:29.218Z"
   },
   {
    "duration": 11,
    "start_time": "2021-09-07T18:07:16.111Z"
   },
   {
    "duration": 2526,
    "start_time": "2021-09-07T18:13:55.755Z"
   },
   {
    "duration": 4324,
    "start_time": "2021-09-07T18:14:19.634Z"
   },
   {
    "duration": 172,
    "start_time": "2021-09-07T18:15:58.966Z"
   },
   {
    "duration": 104,
    "start_time": "2021-09-07T18:16:01.378Z"
   },
   {
    "duration": 4592,
    "start_time": "2021-09-07T18:16:08.939Z"
   },
   {
    "duration": 4806,
    "start_time": "2021-09-07T18:16:20.737Z"
   },
   {
    "duration": 4834,
    "start_time": "2021-09-07T18:18:52.766Z"
   },
   {
    "duration": 4792,
    "start_time": "2021-09-07T18:18:59.965Z"
   },
   {
    "duration": 4567,
    "start_time": "2021-09-07T18:19:38.782Z"
   },
   {
    "duration": 6259,
    "start_time": "2021-09-07T18:19:53.804Z"
   },
   {
    "duration": 4591,
    "start_time": "2021-09-07T18:20:37.793Z"
   },
   {
    "duration": 11021,
    "start_time": "2021-09-07T18:20:57.631Z"
   },
   {
    "duration": 4579,
    "start_time": "2021-09-07T18:21:15.531Z"
   },
   {
    "duration": 289,
    "start_time": "2021-09-07T18:25:47.997Z"
   },
   {
    "duration": 75,
    "start_time": "2021-09-07T18:26:10.896Z"
   },
   {
    "duration": 120,
    "start_time": "2021-09-07T18:26:13.686Z"
   },
   {
    "duration": 69,
    "start_time": "2021-09-07T18:26:17.306Z"
   },
   {
    "duration": 793,
    "start_time": "2021-09-07T18:26:42.600Z"
   },
   {
    "duration": 122,
    "start_time": "2021-09-07T18:30:22.867Z"
   },
   {
    "duration": 117,
    "start_time": "2021-09-07T18:30:28.738Z"
   },
   {
    "duration": 4,
    "start_time": "2021-09-07T18:30:37.567Z"
   },
   {
    "duration": 348,
    "start_time": "2021-09-07T18:32:00.449Z"
   },
   {
    "duration": 486,
    "start_time": "2021-09-07T18:32:19.232Z"
   },
   {
    "duration": 620,
    "start_time": "2021-09-07T18:32:36.754Z"
   },
   {
    "duration": 444,
    "start_time": "2021-09-07T18:33:08.674Z"
   },
   {
    "duration": 1875,
    "start_time": "2021-09-07T18:33:15.417Z"
   },
   {
    "duration": 4422,
    "start_time": "2021-09-07T18:38:45.049Z"
   },
   {
    "duration": 4417,
    "start_time": "2021-09-07T18:39:06.920Z"
   },
   {
    "duration": 4099,
    "start_time": "2021-09-07T18:40:26.562Z"
   },
   {
    "duration": 4027,
    "start_time": "2021-09-07T18:41:30.129Z"
   },
   {
    "duration": 3933,
    "start_time": "2021-09-07T18:41:41.916Z"
   },
   {
    "duration": 4136,
    "start_time": "2021-09-07T18:42:04.846Z"
   },
   {
    "duration": 4187,
    "start_time": "2021-09-07T18:43:18.416Z"
   },
   {
    "duration": 4061,
    "start_time": "2021-09-07T18:43:53.278Z"
   },
   {
    "duration": 4063,
    "start_time": "2021-09-07T18:44:17.624Z"
   },
   {
    "duration": 33527,
    "start_time": "2021-09-07T18:46:12.508Z"
   },
   {
    "duration": 30745,
    "start_time": "2021-09-07T18:46:51.040Z"
   },
   {
    "duration": 563,
    "start_time": "2021-09-07T20:40:12.358Z"
   },
   {
    "duration": 280,
    "start_time": "2021-09-07T20:40:32.319Z"
   },
   {
    "duration": 34,
    "start_time": "2021-09-07T20:40:37.952Z"
   },
   {
    "duration": 634,
    "start_time": "2021-09-07T20:40:59.543Z"
   },
   {
    "duration": 37,
    "start_time": "2021-09-07T20:41:15.624Z"
   },
   {
    "duration": 50,
    "start_time": "2021-09-07T20:41:37.449Z"
   },
   {
    "duration": 917,
    "start_time": "2021-09-08T15:55:16.062Z"
   },
   {
    "duration": 14,
    "start_time": "2021-09-08T15:55:16.982Z"
   },
   {
    "duration": 35,
    "start_time": "2021-09-08T15:55:17.998Z"
   },
   {
    "duration": 7,
    "start_time": "2021-09-08T15:55:18.341Z"
   },
   {
    "duration": 21,
    "start_time": "2021-09-08T15:55:19.066Z"
   },
   {
    "duration": 9,
    "start_time": "2021-09-08T15:55:19.230Z"
   },
   {
    "duration": 17,
    "start_time": "2021-09-08T15:55:19.437Z"
   },
   {
    "duration": 6,
    "start_time": "2021-09-08T15:55:19.910Z"
   },
   {
    "duration": 33,
    "start_time": "2021-09-08T15:55:20.494Z"
   },
   {
    "duration": 8,
    "start_time": "2021-09-08T15:55:21.074Z"
   },
   {
    "duration": 16,
    "start_time": "2021-09-08T15:55:22.710Z"
   },
   {
    "duration": 6,
    "start_time": "2021-09-08T15:55:23.654Z"
   },
   {
    "duration": 16,
    "start_time": "2021-09-08T15:55:23.828Z"
   },
   {
    "duration": 42,
    "start_time": "2021-09-08T15:55:24.617Z"
   },
   {
    "duration": 4695,
    "start_time": "2021-09-08T15:55:27.259Z"
   },
   {
    "duration": 36777,
    "start_time": "2021-09-08T15:56:11.317Z"
   },
   {
    "duration": 123524,
    "start_time": "2021-09-08T15:57:56.245Z"
   },
   {
    "duration": 33879,
    "start_time": "2021-09-08T16:00:58.424Z"
   },
   {
    "duration": 33808,
    "start_time": "2021-09-08T16:01:40.143Z"
   },
   {
    "duration": 5273,
    "start_time": "2021-09-08T16:02:27.859Z"
   },
   {
    "duration": 4615,
    "start_time": "2021-09-08T16:02:40.923Z"
   },
   {
    "duration": 101,
    "start_time": "2021-09-08T16:03:26.514Z"
   },
   {
    "duration": 34953,
    "start_time": "2021-09-08T16:03:33.534Z"
   },
   {
    "duration": 261,
    "start_time": "2021-09-08T16:07:55.357Z"
   },
   {
    "duration": 275,
    "start_time": "2021-09-08T16:08:51.964Z"
   },
   {
    "duration": 31,
    "start_time": "2021-09-08T16:10:16.541Z"
   },
   {
    "duration": 4591,
    "start_time": "2021-09-08T16:13:34.398Z"
   },
   {
    "duration": 2124,
    "start_time": "2021-09-08T16:14:02.831Z"
   },
   {
    "duration": 3594,
    "start_time": "2021-09-08T16:14:18.111Z"
   },
   {
    "duration": 13,
    "start_time": "2021-09-08T16:14:26.206Z"
   },
   {
    "duration": 261,
    "start_time": "2021-09-08T16:14:35.186Z"
   },
   {
    "duration": 9,
    "start_time": "2021-09-08T16:14:43.879Z"
   },
   {
    "duration": 9,
    "start_time": "2021-09-08T16:14:50.804Z"
   },
   {
    "duration": 7,
    "start_time": "2021-09-08T16:15:12.188Z"
   },
   {
    "duration": 10,
    "start_time": "2021-09-08T16:15:17.057Z"
   },
   {
    "duration": 30,
    "start_time": "2021-09-08T16:15:27.795Z"
   },
   {
    "duration": 9,
    "start_time": "2021-09-08T16:15:38.111Z"
   },
   {
    "duration": 4732,
    "start_time": "2021-09-08T16:17:12.471Z"
   },
   {
    "duration": 849,
    "start_time": "2021-09-08T16:17:41.742Z"
   },
   {
    "duration": 14,
    "start_time": "2021-09-08T16:17:42.594Z"
   },
   {
    "duration": 33,
    "start_time": "2021-09-08T16:17:43.325Z"
   },
   {
    "duration": 7,
    "start_time": "2021-09-08T16:17:43.644Z"
   },
   {
    "duration": 22,
    "start_time": "2021-09-08T16:17:44.389Z"
   },
   {
    "duration": 10,
    "start_time": "2021-09-08T16:17:44.772Z"
   },
   {
    "duration": 18,
    "start_time": "2021-09-08T16:17:44.977Z"
   },
   {
    "duration": 6,
    "start_time": "2021-09-08T16:17:45.365Z"
   },
   {
    "duration": 33,
    "start_time": "2021-09-08T16:17:45.707Z"
   },
   {
    "duration": 8,
    "start_time": "2021-09-08T16:17:46.055Z"
   },
   {
    "duration": 17,
    "start_time": "2021-09-08T16:17:46.462Z"
   },
   {
    "duration": 6,
    "start_time": "2021-09-08T16:17:47.613Z"
   },
   {
    "duration": 16,
    "start_time": "2021-09-08T16:17:47.815Z"
   },
   {
    "duration": 42,
    "start_time": "2021-09-08T16:17:48.703Z"
   },
   {
    "duration": 14,
    "start_time": "2021-09-08T16:17:51.379Z"
   },
   {
    "duration": 4480,
    "start_time": "2021-09-08T16:17:55.131Z"
   },
   {
    "duration": 13,
    "start_time": "2021-09-08T16:18:06.649Z"
   },
   {
    "duration": 9,
    "start_time": "2021-09-08T16:19:26.946Z"
   },
   {
    "duration": 31,
    "start_time": "2021-09-08T16:20:17.474Z"
   },
   {
    "duration": 9,
    "start_time": "2021-09-08T16:20:34.260Z"
   },
   {
    "duration": 118,
    "start_time": "2021-09-08T16:24:01.790Z"
   },
   {
    "duration": 1961,
    "start_time": "2021-09-08T16:24:20.763Z"
   },
   {
    "duration": 34850,
    "start_time": "2021-09-08T16:24:33.239Z"
   },
   {
    "duration": 36238,
    "start_time": "2021-09-08T16:25:32.335Z"
   },
   {
    "duration": 4511,
    "start_time": "2021-09-08T16:27:44.114Z"
   },
   {
    "duration": 1887,
    "start_time": "2021-09-08T16:27:50.160Z"
   },
   {
    "duration": 3,
    "start_time": "2021-09-08T16:28:09.289Z"
   },
   {
    "duration": 4591,
    "start_time": "2021-09-08T16:28:11.593Z"
   },
   {
    "duration": 14,
    "start_time": "2021-09-08T16:33:03.890Z"
   },
   {
    "duration": 49,
    "start_time": "2021-09-08T16:33:09.810Z"
   },
   {
    "duration": 46,
    "start_time": "2021-09-08T16:34:21.960Z"
   },
   {
    "duration": 3714,
    "start_time": "2021-09-08T16:34:33.832Z"
   },
   {
    "duration": 42,
    "start_time": "2021-09-08T16:34:40.807Z"
   },
   {
    "duration": 42,
    "start_time": "2021-09-08T16:34:50.840Z"
   },
   {
    "duration": 45,
    "start_time": "2021-09-08T16:35:04.435Z"
   },
   {
    "duration": 42,
    "start_time": "2021-09-08T16:35:17.715Z"
   },
   {
    "duration": 3617,
    "start_time": "2021-09-08T16:36:24.101Z"
   },
   {
    "duration": 472,
    "start_time": "2021-09-08T16:37:07.102Z"
   },
   {
    "duration": 44,
    "start_time": "2021-09-08T16:37:12.395Z"
   },
   {
    "duration": 43,
    "start_time": "2021-09-08T16:37:31.875Z"
   },
   {
    "duration": 653,
    "start_time": "2021-09-08T16:37:50.015Z"
   },
   {
    "duration": 44,
    "start_time": "2021-09-08T16:37:52.969Z"
   },
   {
    "duration": 3687,
    "start_time": "2021-09-08T16:38:05.282Z"
   },
   {
    "duration": 1211,
    "start_time": "2021-09-08T16:38:39.295Z"
   },
   {
    "duration": 15,
    "start_time": "2021-09-08T16:38:40.509Z"
   },
   {
    "duration": 34,
    "start_time": "2021-09-08T16:38:42.069Z"
   },
   {
    "duration": 7,
    "start_time": "2021-09-08T16:38:42.379Z"
   },
   {
    "duration": 23,
    "start_time": "2021-09-08T16:38:43.015Z"
   },
   {
    "duration": 10,
    "start_time": "2021-09-08T16:38:43.179Z"
   },
   {
    "duration": 20,
    "start_time": "2021-09-08T16:38:43.351Z"
   },
   {
    "duration": 6,
    "start_time": "2021-09-08T16:38:43.683Z"
   },
   {
    "duration": 32,
    "start_time": "2021-09-08T16:38:44.031Z"
   },
   {
    "duration": 8,
    "start_time": "2021-09-08T16:38:44.415Z"
   },
   {
    "duration": 16,
    "start_time": "2021-09-08T16:38:44.977Z"
   },
   {
    "duration": 6,
    "start_time": "2021-09-08T16:38:45.487Z"
   },
   {
    "duration": 16,
    "start_time": "2021-09-08T16:38:45.709Z"
   },
   {
    "duration": 43,
    "start_time": "2021-09-08T16:38:46.359Z"
   },
   {
    "duration": 15,
    "start_time": "2021-09-08T16:38:48.155Z"
   },
   {
    "duration": 4556,
    "start_time": "2021-09-08T16:38:51.355Z"
   },
   {
    "duration": 4,
    "start_time": "2021-09-08T16:38:59.635Z"
   },
   {
    "duration": 42,
    "start_time": "2021-09-08T16:39:03.529Z"
   },
   {
    "duration": 41,
    "start_time": "2021-09-08T16:39:59.821Z"
   },
   {
    "duration": 39,
    "start_time": "2021-09-08T16:40:16.366Z"
   },
   {
    "duration": 40,
    "start_time": "2021-09-08T16:41:19.125Z"
   },
   {
    "duration": 38,
    "start_time": "2021-09-08T16:41:52.066Z"
   },
   {
    "duration": 42,
    "start_time": "2021-09-08T16:42:04.914Z"
   },
   {
    "duration": 42,
    "start_time": "2021-09-08T16:43:03.972Z"
   },
   {
    "duration": 42,
    "start_time": "2021-09-08T16:43:13.910Z"
   },
   {
    "duration": 42,
    "start_time": "2021-09-08T16:44:23.732Z"
   },
   {
    "duration": 41,
    "start_time": "2021-09-08T16:44:39.803Z"
   },
   {
    "duration": 44,
    "start_time": "2021-09-08T16:45:42.300Z"
   },
   {
    "duration": 47,
    "start_time": "2021-09-08T16:48:11.850Z"
   },
   {
    "duration": 48,
    "start_time": "2021-09-08T16:48:35.804Z"
   },
   {
    "duration": 49,
    "start_time": "2021-09-08T16:48:48.991Z"
   },
   {
    "duration": 841,
    "start_time": "2021-09-08T16:49:07.206Z"
   },
   {
    "duration": 16,
    "start_time": "2021-09-08T16:49:08.408Z"
   },
   {
    "duration": 33,
    "start_time": "2021-09-08T16:49:09.386Z"
   },
   {
    "duration": 6,
    "start_time": "2021-09-08T16:49:09.692Z"
   },
   {
    "duration": 22,
    "start_time": "2021-09-08T16:49:10.343Z"
   },
   {
    "duration": 9,
    "start_time": "2021-09-08T16:49:10.472Z"
   },
   {
    "duration": 18,
    "start_time": "2021-09-08T16:49:10.644Z"
   },
   {
    "duration": 7,
    "start_time": "2021-09-08T16:49:10.967Z"
   },
   {
    "duration": 35,
    "start_time": "2021-09-08T16:49:11.290Z"
   },
   {
    "duration": 8,
    "start_time": "2021-09-08T16:49:11.624Z"
   },
   {
    "duration": 17,
    "start_time": "2021-09-08T16:49:11.971Z"
   },
   {
    "duration": 6,
    "start_time": "2021-09-08T16:49:12.475Z"
   },
   {
    "duration": 17,
    "start_time": "2021-09-08T16:49:13.761Z"
   },
   {
    "duration": 51,
    "start_time": "2021-09-08T16:49:13.782Z"
   },
   {
    "duration": 12,
    "start_time": "2021-09-08T16:49:14.494Z"
   },
   {
    "duration": 4486,
    "start_time": "2021-09-08T16:49:16.104Z"
   },
   {
    "duration": 3,
    "start_time": "2021-09-08T16:49:20.594Z"
   },
   {
    "duration": 50,
    "start_time": "2021-09-08T16:49:20.600Z"
   },
   {
    "duration": 5338,
    "start_time": "2021-09-08T16:49:28.028Z"
   },
   {
    "duration": 45,
    "start_time": "2021-09-08T16:50:46.973Z"
   },
   {
    "duration": 405,
    "start_time": "2021-09-08T16:50:51.158Z"
   },
   {
    "duration": 236,
    "start_time": "2021-09-08T16:50:59.889Z"
   },
   {
    "duration": 21,
    "start_time": "2021-09-08T16:51:04.651Z"
   },
   {
    "duration": 10,
    "start_time": "2021-09-08T16:51:09.527Z"
   },
   {
    "duration": 9,
    "start_time": "2021-09-08T16:51:20.427Z"
   },
   {
    "duration": 46,
    "start_time": "2021-09-08T16:52:44.617Z"
   },
   {
    "duration": 8,
    "start_time": "2021-09-08T16:53:03.088Z"
   },
   {
    "duration": 35,
    "start_time": "2021-09-08T16:53:04.902Z"
   },
   {
    "duration": 9,
    "start_time": "2021-09-08T17:00:08.365Z"
   },
   {
    "duration": 37,
    "start_time": "2021-09-08T17:00:12.011Z"
   },
   {
    "duration": 13,
    "start_time": "2021-09-08T17:01:15.814Z"
   },
   {
    "duration": 26,
    "start_time": "2021-09-08T17:01:24.395Z"
   },
   {
    "duration": 15,
    "start_time": "2021-09-08T17:01:28.491Z"
   },
   {
    "duration": 6499,
    "start_time": "2021-09-08T17:01:37.923Z"
   },
   {
    "duration": 13,
    "start_time": "2021-09-08T17:01:49.571Z"
   },
   {
    "duration": 256,
    "start_time": "2021-09-08T17:02:11.064Z"
   },
   {
    "duration": 10,
    "start_time": "2021-09-08T17:02:21.681Z"
   },
   {
    "duration": 17,
    "start_time": "2021-09-08T17:03:01.527Z"
   },
   {
    "duration": 20,
    "start_time": "2021-09-08T17:03:06.651Z"
   },
   {
    "duration": 20,
    "start_time": "2021-09-08T17:03:21.472Z"
   },
   {
    "duration": 21,
    "start_time": "2021-09-08T17:03:25.264Z"
   },
   {
    "duration": 6475,
    "start_time": "2021-09-08T17:03:34.636Z"
   },
   {
    "duration": 12,
    "start_time": "2021-09-08T17:03:43.112Z"
   },
   {
    "duration": 6,
    "start_time": "2021-09-08T17:04:28.643Z"
   },
   {
    "duration": 6,
    "start_time": "2021-09-08T17:05:54.916Z"
   },
   {
    "duration": 93,
    "start_time": "2021-09-08T17:06:04.466Z"
   },
   {
    "duration": 88,
    "start_time": "2021-09-08T17:06:09.112Z"
   },
   {
    "duration": 6,
    "start_time": "2021-09-08T17:06:11.284Z"
   },
   {
    "duration": 8,
    "start_time": "2021-09-08T17:08:25.243Z"
   },
   {
    "duration": 10,
    "start_time": "2021-09-08T17:08:30.821Z"
   },
   {
    "duration": 4,
    "start_time": "2021-09-08T17:08:55.454Z"
   },
   {
    "duration": 5,
    "start_time": "2021-09-08T17:08:59.487Z"
   },
   {
    "duration": 6,
    "start_time": "2021-09-08T17:09:04.268Z"
   },
   {
    "duration": 7,
    "start_time": "2021-09-08T17:09:13.624Z"
   },
   {
    "duration": 6,
    "start_time": "2021-09-08T17:09:52.052Z"
   },
   {
    "duration": 3215,
    "start_time": "2021-09-08T17:17:44.240Z"
   },
   {
    "duration": 10,
    "start_time": "2021-09-08T17:17:58.665Z"
   },
   {
    "duration": 15,
    "start_time": "2021-09-08T17:19:38.835Z"
   },
   {
    "duration": 247,
    "start_time": "2021-09-08T17:19:57.055Z"
   },
   {
    "duration": 279,
    "start_time": "2021-09-08T17:20:25.817Z"
   },
   {
    "duration": 242,
    "start_time": "2021-09-08T17:21:21.395Z"
   },
   {
    "duration": 284,
    "start_time": "2021-09-08T17:22:33.683Z"
   },
   {
    "duration": 14,
    "start_time": "2021-09-08T17:22:49.635Z"
   },
   {
    "duration": 12,
    "start_time": "2021-09-08T17:22:53.935Z"
   },
   {
    "duration": 12,
    "start_time": "2021-09-08T17:23:02.103Z"
   },
   {
    "duration": 15,
    "start_time": "2021-09-08T17:23:41.367Z"
   },
   {
    "duration": 14,
    "start_time": "2021-09-08T17:23:52.321Z"
   },
   {
    "duration": 14,
    "start_time": "2021-09-08T17:23:59.409Z"
   },
   {
    "duration": 9,
    "start_time": "2021-09-08T17:28:23.576Z"
   },
   {
    "duration": 8,
    "start_time": "2021-09-08T17:29:26.444Z"
   },
   {
    "duration": 10,
    "start_time": "2021-09-08T17:29:30.086Z"
   },
   {
    "duration": 9,
    "start_time": "2021-09-08T17:29:57.422Z"
   },
   {
    "duration": 15,
    "start_time": "2021-09-08T17:35:27.197Z"
   },
   {
    "duration": 20,
    "start_time": "2021-09-08T17:36:37.323Z"
   },
   {
    "duration": 1918,
    "start_time": "2021-09-08T17:36:45.579Z"
   },
   {
    "duration": 20,
    "start_time": "2021-09-08T17:36:49.973Z"
   },
   {
    "duration": 16,
    "start_time": "2021-09-08T17:37:28.178Z"
   },
   {
    "duration": 16,
    "start_time": "2021-09-08T17:38:06.091Z"
   },
   {
    "duration": 6,
    "start_time": "2021-09-08T17:38:30.407Z"
   },
   {
    "duration": 13,
    "start_time": "2021-09-08T17:38:33.811Z"
   },
   {
    "duration": 4,
    "start_time": "2021-09-08T17:40:28.438Z"
   },
   {
    "duration": 7,
    "start_time": "2021-09-08T17:40:30.744Z"
   },
   {
    "duration": 31,
    "start_time": "2021-09-08T17:40:34.010Z"
   },
   {
    "duration": 25,
    "start_time": "2021-09-08T17:40:48.073Z"
   },
   {
    "duration": 10,
    "start_time": "2021-09-08T17:40:58.509Z"
   },
   {
    "duration": 297,
    "start_time": "2021-09-08T17:41:15.126Z"
   },
   {
    "duration": 10,
    "start_time": "2021-09-08T17:41:19.117Z"
   },
   {
    "duration": 10,
    "start_time": "2021-09-08T17:41:44.834Z"
   },
   {
    "duration": 8,
    "start_time": "2021-09-08T17:42:35.748Z"
   },
   {
    "duration": 9,
    "start_time": "2021-09-08T17:42:42.475Z"
   },
   {
    "duration": 164,
    "start_time": "2021-09-08T17:44:40.238Z"
   },
   {
    "duration": 10,
    "start_time": "2021-09-08T17:45:05.365Z"
   },
   {
    "duration": 4,
    "start_time": "2021-09-08T17:46:42.961Z"
   },
   {
    "duration": 7,
    "start_time": "2021-09-08T17:46:45.330Z"
   },
   {
    "duration": 5815,
    "start_time": "2021-09-08T17:47:05.092Z"
   },
   {
    "duration": 4549,
    "start_time": "2021-09-08T17:47:31.251Z"
   },
   {
    "duration": 13,
    "start_time": "2021-09-08T17:49:12.071Z"
   },
   {
    "duration": 103,
    "start_time": "2021-09-08T17:50:08.633Z"
   },
   {
    "duration": 250,
    "start_time": "2021-09-08T17:50:25.035Z"
   },
   {
    "duration": 233,
    "start_time": "2021-09-08T17:50:31.749Z"
   },
   {
    "duration": 211,
    "start_time": "2021-09-08T17:50:34.775Z"
   },
   {
    "duration": 10,
    "start_time": "2021-09-08T17:50:38.026Z"
   },
   {
    "duration": 241,
    "start_time": "2021-09-08T17:50:40.294Z"
   },
   {
    "duration": 7,
    "start_time": "2021-09-08T17:50:49.904Z"
   },
   {
    "duration": 7,
    "start_time": "2021-09-08T17:50:56.923Z"
   },
   {
    "duration": 102,
    "start_time": "2021-09-08T17:51:46.885Z"
   },
   {
    "duration": 7,
    "start_time": "2021-09-08T17:51:59.023Z"
   },
   {
    "duration": 7,
    "start_time": "2021-09-08T17:52:05.612Z"
   },
   {
    "duration": 5,
    "start_time": "2021-09-08T17:57:40.958Z"
   },
   {
    "duration": 14,
    "start_time": "2021-09-08T17:57:45.626Z"
   },
   {
    "duration": 6,
    "start_time": "2021-09-08T17:58:34.578Z"
   },
   {
    "duration": 33,
    "start_time": "2021-09-08T17:58:38.540Z"
   },
   {
    "duration": 24,
    "start_time": "2021-09-08T17:58:43.324Z"
   },
   {
    "duration": 16,
    "start_time": "2021-09-08T17:59:37.028Z"
   },
   {
    "duration": 55,
    "start_time": "2021-09-08T18:03:45.034Z"
   },
   {
    "duration": 19,
    "start_time": "2021-09-08T18:04:27.079Z"
   },
   {
    "duration": 8,
    "start_time": "2021-09-08T18:05:13.964Z"
   },
   {
    "duration": 11,
    "start_time": "2021-09-08T18:05:20.458Z"
   },
   {
    "duration": -571,
    "start_time": "2021-09-08T18:05:35.065Z"
   },
   {
    "duration": 9,
    "start_time": "2021-09-08T18:05:38.447Z"
   },
   {
    "duration": 12,
    "start_time": "2021-09-08T18:05:41.387Z"
   },
   {
    "duration": 8,
    "start_time": "2021-09-08T18:07:26.592Z"
   },
   {
    "duration": 10,
    "start_time": "2021-09-08T18:07:30.096Z"
   },
   {
    "duration": 8,
    "start_time": "2021-09-08T18:07:59.653Z"
   },
   {
    "duration": 10,
    "start_time": "2021-09-08T18:09:37.062Z"
   },
   {
    "duration": 10,
    "start_time": "2021-09-08T18:09:46.262Z"
   },
   {
    "duration": 10,
    "start_time": "2021-09-08T18:09:53.030Z"
   },
   {
    "duration": 11,
    "start_time": "2021-09-08T18:10:24.757Z"
   },
   {
    "duration": 10,
    "start_time": "2021-09-08T18:11:09.279Z"
   },
   {
    "duration": 12,
    "start_time": "2021-09-08T18:11:41.897Z"
   },
   {
    "duration": 6,
    "start_time": "2021-09-08T18:13:13.934Z"
   },
   {
    "duration": 9,
    "start_time": "2021-09-08T18:13:29.398Z"
   },
   {
    "duration": 253,
    "start_time": "2021-09-08T18:14:20.421Z"
   },
   {
    "duration": 225,
    "start_time": "2021-09-08T18:14:24.911Z"
   },
   {
    "duration": 13,
    "start_time": "2021-09-08T18:14:46.979Z"
   },
   {
    "duration": 10,
    "start_time": "2021-09-08T18:15:00.395Z"
   },
   {
    "duration": 10,
    "start_time": "2021-09-08T18:15:09.518Z"
   },
   {
    "duration": 15,
    "start_time": "2021-09-08T18:15:31.659Z"
   },
   {
    "duration": 15,
    "start_time": "2021-09-08T18:16:16.252Z"
   },
   {
    "duration": 15,
    "start_time": "2021-09-08T18:16:26.879Z"
   },
   {
    "duration": 10,
    "start_time": "2021-09-08T18:16:35.784Z"
   },
   {
    "duration": 11,
    "start_time": "2021-09-08T18:16:39.736Z"
   },
   {
    "duration": 7,
    "start_time": "2021-09-08T18:17:46.268Z"
   },
   {
    "duration": 10,
    "start_time": "2021-09-08T18:17:51.446Z"
   },
   {
    "duration": 9,
    "start_time": "2021-09-08T18:17:55.256Z"
   },
   {
    "duration": 12,
    "start_time": "2021-09-08T18:17:58.024Z"
   },
   {
    "duration": 8,
    "start_time": "2021-09-08T18:18:15.262Z"
   },
   {
    "duration": 7,
    "start_time": "2021-09-08T18:18:20.879Z"
   },
   {
    "duration": 100,
    "start_time": "2021-09-08T18:21:01.230Z"
   },
   {
    "duration": 94,
    "start_time": "2021-09-08T18:21:08.977Z"
   },
   {
    "duration": 843,
    "start_time": "2021-09-08T18:22:22.806Z"
   },
   {
    "duration": 15,
    "start_time": "2021-09-08T18:22:27.316Z"
   },
   {
    "duration": 39,
    "start_time": "2021-09-08T18:22:35.155Z"
   },
   {
    "duration": 7,
    "start_time": "2021-09-08T18:22:38.631Z"
   },
   {
    "duration": 23,
    "start_time": "2021-09-08T18:22:59.153Z"
   },
   {
    "duration": 10,
    "start_time": "2021-09-08T18:23:14.025Z"
   },
   {
    "duration": 9,
    "start_time": "2021-09-08T18:23:31.512Z"
   },
   {
    "duration": 19,
    "start_time": "2021-09-08T18:23:33.429Z"
   },
   {
    "duration": 8,
    "start_time": "2021-09-08T18:23:36.193Z"
   },
   {
    "duration": 48,
    "start_time": "2021-09-08T18:23:41.836Z"
   },
   {
    "duration": 10,
    "start_time": "2021-09-08T18:23:51.452Z"
   },
   {
    "duration": 11,
    "start_time": "2021-09-08T18:24:10.751Z"
   },
   {
    "duration": 22,
    "start_time": "2021-09-08T18:24:11.431Z"
   },
   {
    "duration": 8,
    "start_time": "2021-09-08T18:24:14.493Z"
   },
   {
    "duration": 23,
    "start_time": "2021-09-08T18:24:15.995Z"
   },
   {
    "duration": 112,
    "start_time": "2021-09-08T18:24:22.663Z"
   },
   {
    "duration": 16,
    "start_time": "2021-09-08T18:24:35.441Z"
   },
   {
    "duration": 5372,
    "start_time": "2021-09-08T18:24:40.617Z"
   },
   {
    "duration": 4,
    "start_time": "2021-09-08T18:24:45.992Z"
   },
   {
    "duration": 67,
    "start_time": "2021-09-08T18:24:46.000Z"
   },
   {
    "duration": 14,
    "start_time": "2021-09-08T18:24:46.069Z"
   },
   {
    "duration": 24,
    "start_time": "2021-09-08T18:25:05.742Z"
   },
   {
    "duration": 20,
    "start_time": "2021-09-08T18:25:38.793Z"
   },
   {
    "duration": 12,
    "start_time": "2021-09-08T18:25:50.184Z"
   },
   {
    "duration": 8,
    "start_time": "2021-09-08T18:25:51.865Z"
   },
   {
    "duration": 12,
    "start_time": "2021-09-08T18:25:59.376Z"
   },
   {
    "duration": 7,
    "start_time": "2021-09-08T18:26:07.724Z"
   },
   {
    "duration": 518,
    "start_time": "2021-09-08T18:26:13.000Z"
   },
   {
    "duration": 22,
    "start_time": "2021-09-08T18:26:28.392Z"
   },
   {
    "duration": 10,
    "start_time": "2021-09-08T18:26:30.456Z"
   },
   {
    "duration": 10,
    "start_time": "2021-09-08T18:26:44.948Z"
   },
   {
    "duration": 12,
    "start_time": "2021-09-08T18:27:03.199Z"
   },
   {
    "duration": 54,
    "start_time": "2021-09-08T18:27:13.936Z"
   },
   {
    "duration": 19,
    "start_time": "2021-09-08T18:27:13.993Z"
   },
   {
    "duration": 10,
    "start_time": "2021-09-08T18:27:29.316Z"
   },
   {
    "duration": 41,
    "start_time": "2021-09-08T18:27:32.609Z"
   },
   {
    "duration": 14,
    "start_time": "2021-09-08T18:27:47.447Z"
   },
   {
    "duration": 12,
    "start_time": "2021-09-08T18:27:49.566Z"
   },
   {
    "duration": 7,
    "start_time": "2021-09-08T18:27:53.977Z"
   },
   {
    "duration": 79,
    "start_time": "2021-09-08T18:27:55.753Z"
   },
   {
    "duration": 4078,
    "start_time": "2021-09-08T18:31:28.592Z"
   },
   {
    "duration": 1350,
    "start_time": "2021-09-08T18:32:11.343Z"
   },
   {
    "duration": 15,
    "start_time": "2021-09-08T18:32:12.696Z"
   },
   {
    "duration": 36,
    "start_time": "2021-09-08T18:32:13.679Z"
   },
   {
    "duration": 7,
    "start_time": "2021-09-08T18:32:14.024Z"
   },
   {
    "duration": 22,
    "start_time": "2021-09-08T18:32:14.740Z"
   },
   {
    "duration": 9,
    "start_time": "2021-09-08T18:32:14.904Z"
   },
   {
    "duration": 18,
    "start_time": "2021-09-08T18:32:15.816Z"
   },
   {
    "duration": 7,
    "start_time": "2021-09-08T18:32:16.197Z"
   },
   {
    "duration": 37,
    "start_time": "2021-09-08T18:32:16.563Z"
   },
   {
    "duration": 10,
    "start_time": "2021-09-08T18:32:16.960Z"
   },
   {
    "duration": 17,
    "start_time": "2021-09-08T18:32:17.352Z"
   },
   {
    "duration": 8,
    "start_time": "2021-09-08T18:32:17.925Z"
   },
   {
    "duration": 25,
    "start_time": "2021-09-08T18:32:18.091Z"
   },
   {
    "duration": 103,
    "start_time": "2021-09-08T18:32:18.797Z"
   },
   {
    "duration": 18,
    "start_time": "2021-09-08T18:32:19.733Z"
   },
   {
    "duration": 4851,
    "start_time": "2021-09-08T18:32:20.133Z"
   },
   {
    "duration": 3,
    "start_time": "2021-09-08T18:32:24.987Z"
   },
   {
    "duration": 62,
    "start_time": "2021-09-08T18:32:24.992Z"
   },
   {
    "duration": 19,
    "start_time": "2021-09-08T18:32:25.056Z"
   },
   {
    "duration": 24,
    "start_time": "2021-09-08T18:32:25.077Z"
   },
   {
    "duration": 17,
    "start_time": "2021-09-08T18:32:25.103Z"
   },
   {
    "duration": 16,
    "start_time": "2021-09-08T18:32:25.123Z"
   },
   {
    "duration": 31,
    "start_time": "2021-09-08T18:32:25.144Z"
   },
   {
    "duration": 18,
    "start_time": "2021-09-08T18:32:25.179Z"
   },
   {
    "duration": 27,
    "start_time": "2021-09-08T18:32:25.199Z"
   },
   {
    "duration": 12,
    "start_time": "2021-09-08T18:32:25.228Z"
   },
   {
    "duration": 29,
    "start_time": "2021-09-08T18:32:25.242Z"
   },
   {
    "duration": 24,
    "start_time": "2021-09-08T18:32:25.295Z"
   },
   {
    "duration": 47,
    "start_time": "2021-09-08T18:32:25.957Z"
   },
   {
    "duration": 17,
    "start_time": "2021-09-08T18:32:26.165Z"
   },
   {
    "duration": 10,
    "start_time": "2021-09-08T18:32:26.741Z"
   },
   {
    "duration": 11,
    "start_time": "2021-09-08T18:32:27.131Z"
   },
   {
    "duration": 7,
    "start_time": "2021-09-08T18:32:27.439Z"
   },
   {
    "duration": 25,
    "start_time": "2021-09-08T18:33:19.136Z"
   },
   {
    "duration": 1252,
    "start_time": "2021-09-08T18:33:29.369Z"
   },
   {
    "duration": 16,
    "start_time": "2021-09-08T18:33:31.208Z"
   },
   {
    "duration": 35,
    "start_time": "2021-09-08T18:33:32.733Z"
   },
   {
    "duration": 8,
    "start_time": "2021-09-08T18:33:33.456Z"
   },
   {
    "duration": 25,
    "start_time": "2021-09-08T18:33:34.848Z"
   },
   {
    "duration": 9,
    "start_time": "2021-09-08T18:33:35.323Z"
   },
   {
    "duration": 18,
    "start_time": "2021-09-08T18:33:35.705Z"
   },
   {
    "duration": 8,
    "start_time": "2021-09-08T18:33:36.435Z"
   },
   {
    "duration": 36,
    "start_time": "2021-09-08T18:33:37.147Z"
   },
   {
    "duration": 9,
    "start_time": "2021-09-08T18:33:37.850Z"
   },
   {
    "duration": 19,
    "start_time": "2021-09-08T18:33:38.474Z"
   },
   {
    "duration": 6,
    "start_time": "2021-09-08T18:33:39.456Z"
   },
   {
    "duration": 16,
    "start_time": "2021-09-08T18:33:39.768Z"
   },
   {
    "duration": 74,
    "start_time": "2021-09-08T18:33:40.920Z"
   },
   {
    "duration": 15,
    "start_time": "2021-09-08T18:33:42.456Z"
   },
   {
    "duration": 4854,
    "start_time": "2021-09-08T18:33:43.100Z"
   },
   {
    "duration": 3,
    "start_time": "2021-09-08T18:33:47.972Z"
   },
   {
    "duration": 62,
    "start_time": "2021-09-08T18:33:47.978Z"
   },
   {
    "duration": 24,
    "start_time": "2021-09-08T18:33:48.043Z"
   },
   {
    "duration": 24,
    "start_time": "2021-09-08T18:33:50.732Z"
   },
   {
    "duration": 11,
    "start_time": "2021-09-08T18:33:51.476Z"
   },
   {
    "duration": 6,
    "start_time": "2021-09-08T18:33:51.752Z"
   },
   {
    "duration": 10,
    "start_time": "2021-09-08T18:33:52.256Z"
   },
   {
    "duration": 5,
    "start_time": "2021-09-08T18:33:52.484Z"
   },
   {
    "duration": 15,
    "start_time": "2021-09-08T18:33:53.462Z"
   },
   {
    "duration": 8,
    "start_time": "2021-09-08T18:33:53.710Z"
   },
   {
    "duration": 9,
    "start_time": "2021-09-08T18:33:54.215Z"
   },
   {
    "duration": 13,
    "start_time": "2021-09-08T18:33:54.478Z"
   },
   {
    "duration": 47,
    "start_time": "2021-09-08T18:33:55.226Z"
   },
   {
    "duration": 17,
    "start_time": "2021-09-08T18:33:55.476Z"
   },
   {
    "duration": 11,
    "start_time": "2021-09-08T18:33:56.252Z"
   },
   {
    "duration": 17,
    "start_time": "2021-09-08T18:33:56.901Z"
   },
   {
    "duration": 7,
    "start_time": "2021-09-08T18:33:57.536Z"
   },
   {
    "duration": 391,
    "start_time": "2021-09-08T18:44:17.824Z"
   },
   {
    "duration": 284,
    "start_time": "2021-09-08T18:44:35.123Z"
   },
   {
    "duration": 39,
    "start_time": "2021-09-08T18:45:22.181Z"
   },
   {
    "duration": 41,
    "start_time": "2021-09-08T18:46:51.120Z"
   },
   {
    "duration": 43,
    "start_time": "2021-09-08T18:47:37.459Z"
   },
   {
    "duration": 11,
    "start_time": "2021-09-08T18:47:54.116Z"
   },
   {
    "duration": 17,
    "start_time": "2021-09-08T18:48:17.078Z"
   },
   {
    "duration": 12,
    "start_time": "2021-09-08T18:48:30.115Z"
   },
   {
    "duration": 58,
    "start_time": "2021-09-08T18:48:35.555Z"
   },
   {
    "duration": 46,
    "start_time": "2021-09-08T18:48:45.423Z"
   },
   {
    "duration": 43,
    "start_time": "2021-09-08T18:49:00.256Z"
   },
   {
    "duration": 17,
    "start_time": "2021-09-08T18:49:48.401Z"
   },
   {
    "duration": 20,
    "start_time": "2021-09-08T18:50:16.140Z"
   },
   {
    "duration": 22,
    "start_time": "2021-09-08T18:50:20.258Z"
   },
   {
    "duration": 23,
    "start_time": "2021-09-08T18:51:01.256Z"
   },
   {
    "duration": 17,
    "start_time": "2021-09-08T18:51:08.009Z"
   },
   {
    "duration": 5102,
    "start_time": "2021-09-08T18:51:20.049Z"
   },
   {
    "duration": 22,
    "start_time": "2021-09-08T18:51:35.099Z"
   },
   {
    "duration": 16,
    "start_time": "2021-09-08T18:51:37.864Z"
   },
   {
    "duration": 17,
    "start_time": "2021-09-08T18:51:41.566Z"
   },
   {
    "duration": 17,
    "start_time": "2021-09-08T18:51:45.242Z"
   },
   {
    "duration": 16,
    "start_time": "2021-09-08T18:51:51.302Z"
   },
   {
    "duration": 48,
    "start_time": "2021-09-08T18:52:13.828Z"
   },
   {
    "duration": 28,
    "start_time": "2021-09-08T18:52:32.215Z"
   },
   {
    "duration": 829,
    "start_time": "2021-09-09T05:48:27.098Z"
   },
   {
    "duration": 16,
    "start_time": "2021-09-09T05:48:27.930Z"
   },
   {
    "duration": 53,
    "start_time": "2021-09-09T05:48:27.950Z"
   },
   {
    "duration": 6,
    "start_time": "2021-09-09T05:48:28.005Z"
   },
   {
    "duration": 23,
    "start_time": "2021-09-09T05:48:28.013Z"
   },
   {
    "duration": 11,
    "start_time": "2021-09-09T05:48:28.039Z"
   },
   {
    "duration": 53,
    "start_time": "2021-09-09T05:48:28.052Z"
   },
   {
    "duration": 6,
    "start_time": "2021-09-09T05:48:28.109Z"
   },
   {
    "duration": 38,
    "start_time": "2021-09-09T05:48:28.118Z"
   },
   {
    "duration": 32,
    "start_time": "2021-09-09T05:48:28.158Z"
   },
   {
    "duration": 15,
    "start_time": "2021-09-09T05:48:28.192Z"
   },
   {
    "duration": 9,
    "start_time": "2021-09-09T05:48:28.209Z"
   },
   {
    "duration": 16,
    "start_time": "2021-09-09T05:48:28.220Z"
   },
   {
    "duration": 95,
    "start_time": "2021-09-09T05:48:28.239Z"
   },
   {
    "duration": 10,
    "start_time": "2021-09-09T05:48:28.337Z"
   },
   {
    "duration": 4570,
    "start_time": "2021-09-09T05:48:28.350Z"
   },
   {
    "duration": 3,
    "start_time": "2021-09-09T05:48:32.923Z"
   },
   {
    "duration": 60,
    "start_time": "2021-09-09T05:48:32.928Z"
   },
   {
    "duration": 16,
    "start_time": "2021-09-09T05:48:32.990Z"
   },
   {
    "duration": 21,
    "start_time": "2021-09-09T05:48:33.008Z"
   },
   {
    "duration": 8,
    "start_time": "2021-09-09T05:48:33.031Z"
   },
   {
    "duration": 43,
    "start_time": "2021-09-09T05:48:33.042Z"
   },
   {
    "duration": 11,
    "start_time": "2021-09-09T05:48:33.091Z"
   },
   {
    "duration": 9,
    "start_time": "2021-09-09T05:48:33.105Z"
   },
   {
    "duration": 36,
    "start_time": "2021-09-09T05:48:33.116Z"
   },
   {
    "duration": 7,
    "start_time": "2021-09-09T05:48:33.155Z"
   },
   {
    "duration": 26,
    "start_time": "2021-09-09T05:48:33.164Z"
   },
   {
    "duration": 17,
    "start_time": "2021-09-09T05:48:33.192Z"
   },
   {
    "duration": 40,
    "start_time": "2021-09-09T05:48:33.212Z"
   },
   {
    "duration": 34,
    "start_time": "2021-09-09T05:48:33.254Z"
   },
   {
    "duration": 11,
    "start_time": "2021-09-09T05:48:33.291Z"
   },
   {
    "duration": 14,
    "start_time": "2021-09-09T05:48:33.305Z"
   },
   {
    "duration": 13,
    "start_time": "2021-09-09T05:48:33.321Z"
   },
   {
    "duration": 57,
    "start_time": "2021-09-09T05:48:33.336Z"
   },
   {
    "duration": 6,
    "start_time": "2021-09-09T06:02:23.317Z"
   },
   {
    "duration": 9,
    "start_time": "2021-09-09T06:02:55.842Z"
   },
   {
    "duration": 92,
    "start_time": "2021-09-09T16:24:58.919Z"
   },
   {
    "duration": 302,
    "start_time": "2021-09-09T16:27:41.931Z"
   },
   {
    "duration": 668,
    "start_time": "2021-09-09T16:27:58.465Z"
   },
   {
    "duration": 11,
    "start_time": "2021-09-09T16:27:59.513Z"
   },
   {
    "duration": 21,
    "start_time": "2021-09-09T16:28:04.254Z"
   },
   {
    "duration": 11,
    "start_time": "2021-09-09T16:28:06.559Z"
   },
   {
    "duration": 5,
    "start_time": "2021-09-09T16:29:12.522Z"
   },
   {
    "duration": 10,
    "start_time": "2021-09-09T16:29:17.891Z"
   },
   {
    "duration": 17,
    "start_time": "2021-09-09T16:29:45.927Z"
   },
   {
    "duration": 9,
    "start_time": "2021-09-09T16:29:52.240Z"
   },
   {
    "duration": 86,
    "start_time": "2021-09-09T16:30:58.075Z"
   },
   {
    "duration": 5,
    "start_time": "2021-09-09T16:39:45.117Z"
   },
   {
    "duration": 5,
    "start_time": "2021-09-09T16:41:36.996Z"
   },
   {
    "duration": 4,
    "start_time": "2021-09-09T16:54:29.911Z"
   },
   {
    "duration": 5,
    "start_time": "2021-09-09T16:55:01.119Z"
   },
   {
    "duration": 2,
    "start_time": "2021-09-09T16:55:57.048Z"
   },
   {
    "duration": 6,
    "start_time": "2021-09-09T16:56:11.464Z"
   },
   {
    "duration": 7,
    "start_time": "2021-09-09T16:57:46.649Z"
   },
   {
    "duration": 756,
    "start_time": "2021-09-09T16:57:57.413Z"
   },
   {
    "duration": 12,
    "start_time": "2021-09-09T16:57:58.624Z"
   },
   {
    "duration": 21,
    "start_time": "2021-09-09T16:58:01.896Z"
   },
   {
    "duration": 5,
    "start_time": "2021-09-09T16:58:03.109Z"
   },
   {
    "duration": 10,
    "start_time": "2021-09-09T16:58:03.781Z"
   },
   {
    "duration": 14,
    "start_time": "2021-09-09T16:58:06.357Z"
   },
   {
    "duration": 2,
    "start_time": "2021-09-09T16:58:08.023Z"
   },
   {
    "duration": 5,
    "start_time": "2021-09-09T16:58:10.439Z"
   },
   {
    "duration": 7,
    "start_time": "2021-09-09T16:58:11.625Z"
   },
   {
    "duration": 6,
    "start_time": "2021-09-09T16:58:22.865Z"
   },
   {
    "duration": 661,
    "start_time": "2021-09-09T17:05:25.001Z"
   },
   {
    "duration": 12,
    "start_time": "2021-09-09T17:05:26.193Z"
   },
   {
    "duration": 22,
    "start_time": "2021-09-09T17:05:27.586Z"
   },
   {
    "duration": 5,
    "start_time": "2021-09-09T17:05:28.368Z"
   },
   {
    "duration": 11,
    "start_time": "2021-09-09T17:05:29.322Z"
   },
   {
    "duration": 2,
    "start_time": "2021-09-09T17:05:30.858Z"
   },
   {
    "duration": 635,
    "start_time": "2021-09-09T17:06:18.709Z"
   },
   {
    "duration": 10,
    "start_time": "2021-09-09T17:06:19.346Z"
   },
   {
    "duration": 21,
    "start_time": "2021-09-09T17:06:23.125Z"
   },
   {
    "duration": 4,
    "start_time": "2021-09-09T17:06:23.514Z"
   },
   {
    "duration": 10,
    "start_time": "2021-09-09T17:06:24.916Z"
   },
   {
    "duration": 3,
    "start_time": "2021-09-09T17:06:26.639Z"
   },
   {
    "duration": 24,
    "start_time": "2021-09-09T17:06:33.092Z"
   },
   {
    "duration": 390,
    "start_time": "2021-09-09T17:06:44.741Z"
   },
   {
    "duration": 278,
    "start_time": "2021-09-09T17:06:52.488Z"
   },
   {
    "duration": 283,
    "start_time": "2021-09-09T17:07:06.982Z"
   },
   {
    "duration": 7,
    "start_time": "2021-09-09T17:07:19.277Z"
   },
   {
    "duration": 47,
    "start_time": "2021-09-09T17:07:39.310Z"
   },
   {
    "duration": 48,
    "start_time": "2021-09-09T17:08:14.409Z"
   },
   {
    "duration": 13,
    "start_time": "2021-09-09T17:08:35.266Z"
   },
   {
    "duration": 701,
    "start_time": "2021-09-09T17:08:45.681Z"
   },
   {
    "duration": 11,
    "start_time": "2021-09-09T17:08:46.383Z"
   },
   {
    "duration": 22,
    "start_time": "2021-09-09T17:08:46.395Z"
   },
   {
    "duration": 9,
    "start_time": "2021-09-09T17:08:46.419Z"
   },
   {
    "duration": 12,
    "start_time": "2021-09-09T17:08:46.429Z"
   },
   {
    "duration": 15,
    "start_time": "2021-09-09T17:08:46.443Z"
   },
   {
    "duration": 26,
    "start_time": "2021-09-09T17:08:46.460Z"
   },
   {
    "duration": 5,
    "start_time": "2021-09-09T17:08:46.488Z"
   },
   {
    "duration": 9,
    "start_time": "2021-09-09T17:08:46.495Z"
   },
   {
    "duration": 5,
    "start_time": "2021-09-09T17:08:46.506Z"
   },
   {
    "duration": 11,
    "start_time": "2021-09-09T17:08:46.512Z"
   },
   {
    "duration": 7,
    "start_time": "2021-09-09T17:08:46.524Z"
   },
   {
    "duration": 26,
    "start_time": "2021-09-09T17:08:46.533Z"
   },
   {
    "duration": 27,
    "start_time": "2021-09-09T17:08:46.561Z"
   },
   {
    "duration": 10,
    "start_time": "2021-09-09T17:08:46.590Z"
   },
   {
    "duration": 309,
    "start_time": "2021-09-09T17:08:46.602Z"
   },
   {
    "duration": -589,
    "start_time": "2021-09-09T17:08:47.502Z"
   },
   {
    "duration": -590,
    "start_time": "2021-09-09T17:08:47.505Z"
   },
   {
    "duration": -592,
    "start_time": "2021-09-09T17:08:47.508Z"
   },
   {
    "duration": -593,
    "start_time": "2021-09-09T17:08:47.510Z"
   },
   {
    "duration": -597,
    "start_time": "2021-09-09T17:08:47.515Z"
   },
   {
    "duration": -599,
    "start_time": "2021-09-09T17:08:47.518Z"
   },
   {
    "duration": -602,
    "start_time": "2021-09-09T17:08:47.522Z"
   },
   {
    "duration": -604,
    "start_time": "2021-09-09T17:08:47.525Z"
   },
   {
    "duration": -605,
    "start_time": "2021-09-09T17:08:47.527Z"
   },
   {
    "duration": -607,
    "start_time": "2021-09-09T17:08:47.530Z"
   },
   {
    "duration": -618,
    "start_time": "2021-09-09T17:08:47.542Z"
   },
   {
    "duration": -622,
    "start_time": "2021-09-09T17:08:47.547Z"
   },
   {
    "duration": -624,
    "start_time": "2021-09-09T17:08:47.550Z"
   },
   {
    "duration": -625,
    "start_time": "2021-09-09T17:08:47.552Z"
   },
   {
    "duration": -626,
    "start_time": "2021-09-09T17:08:47.554Z"
   },
   {
    "duration": -628,
    "start_time": "2021-09-09T17:08:47.557Z"
   },
   {
    "duration": -629,
    "start_time": "2021-09-09T17:08:47.559Z"
   },
   {
    "duration": -631,
    "start_time": "2021-09-09T17:08:47.562Z"
   },
   {
    "duration": -633,
    "start_time": "2021-09-09T17:08:47.565Z"
   },
   {
    "duration": -634,
    "start_time": "2021-09-09T17:08:47.567Z"
   },
   {
    "duration": -636,
    "start_time": "2021-09-09T17:08:47.570Z"
   },
   {
    "duration": -638,
    "start_time": "2021-09-09T17:08:47.573Z"
   },
   {
    "duration": 543,
    "start_time": "2021-09-09T17:09:05.285Z"
   },
   {
    "duration": 618,
    "start_time": "2021-09-09T17:09:14.249Z"
   },
   {
    "duration": 12,
    "start_time": "2021-09-09T17:09:15.206Z"
   },
   {
    "duration": 23,
    "start_time": "2021-09-09T17:09:17.115Z"
   },
   {
    "duration": 6,
    "start_time": "2021-09-09T17:09:18.623Z"
   },
   {
    "duration": 10,
    "start_time": "2021-09-09T17:09:19.146Z"
   },
   {
    "duration": 16,
    "start_time": "2021-09-09T17:09:21.893Z"
   },
   {
    "duration": 614,
    "start_time": "2021-09-09T17:09:52.429Z"
   },
   {
    "duration": 12,
    "start_time": "2021-09-09T17:09:53.393Z"
   },
   {
    "duration": 24,
    "start_time": "2021-09-09T17:09:55.145Z"
   },
   {
    "duration": 5,
    "start_time": "2021-09-09T17:09:56.034Z"
   },
   {
    "duration": 11,
    "start_time": "2021-09-09T17:09:56.973Z"
   },
   {
    "duration": 2,
    "start_time": "2021-09-09T17:09:58.826Z"
   },
   {
    "duration": 51,
    "start_time": "2021-09-09T17:09:59.993Z"
   },
   {
    "duration": 54,
    "start_time": "2021-09-09T17:10:18.286Z"
   },
   {
    "duration": 48,
    "start_time": "2021-09-09T17:10:24.702Z"
   },
   {
    "duration": 45,
    "start_time": "2021-09-09T17:10:27.590Z"
   },
   {
    "duration": 49,
    "start_time": "2021-09-09T17:10:28.838Z"
   },
   {
    "duration": 625,
    "start_time": "2021-09-09T17:10:53.315Z"
   },
   {
    "duration": 11,
    "start_time": "2021-09-09T17:10:54.271Z"
   },
   {
    "duration": 21,
    "start_time": "2021-09-09T17:10:55.547Z"
   },
   {
    "duration": 5,
    "start_time": "2021-09-09T17:10:56.303Z"
   },
   {
    "duration": 10,
    "start_time": "2021-09-09T17:10:57.049Z"
   },
   {
    "duration": 2,
    "start_time": "2021-09-09T17:10:58.847Z"
   },
   {
    "duration": 47,
    "start_time": "2021-09-09T17:10:59.359Z"
   },
   {
    "duration": 3,
    "start_time": "2021-09-09T17:11:05.363Z"
   },
   {
    "duration": 2,
    "start_time": "2021-09-09T17:11:17.928Z"
   },
   {
    "duration": 5,
    "start_time": "2021-09-09T17:11:21.570Z"
   },
   {
    "duration": 5,
    "start_time": "2021-09-09T17:11:24.420Z"
   },
   {
    "duration": 47,
    "start_time": "2021-09-09T17:11:39.878Z"
   },
   {
    "duration": 47,
    "start_time": "2021-09-09T17:12:05.075Z"
   },
   {
    "duration": 690,
    "start_time": "2021-09-09T17:12:14.335Z"
   },
   {
    "duration": 12,
    "start_time": "2021-09-09T17:12:15.027Z"
   },
   {
    "duration": 21,
    "start_time": "2021-09-09T17:12:16.261Z"
   },
   {
    "duration": 5,
    "start_time": "2021-09-09T17:12:16.793Z"
   },
   {
    "duration": 11,
    "start_time": "2021-09-09T17:12:17.313Z"
   },
   {
    "duration": 3,
    "start_time": "2021-09-09T17:12:18.361Z"
   },
   {
    "duration": 47,
    "start_time": "2021-09-09T17:12:18.823Z"
   },
   {
    "duration": 3,
    "start_time": "2021-09-09T17:12:19.842Z"
   },
   {
    "duration": 5,
    "start_time": "2021-09-09T17:12:27.050Z"
   },
   {
    "duration": 6,
    "start_time": "2021-09-09T17:12:28.125Z"
   },
   {
    "duration": 6,
    "start_time": "2021-09-09T17:12:50.752Z"
   },
   {
    "duration": 5,
    "start_time": "2021-09-09T17:13:06.917Z"
   },
   {
    "duration": 6,
    "start_time": "2021-09-09T17:14:16.176Z"
   },
   {
    "duration": 5,
    "start_time": "2021-09-09T17:14:39.614Z"
   },
   {
    "duration": 7,
    "start_time": "2021-09-09T17:14:42.761Z"
   },
   {
    "duration": 5,
    "start_time": "2021-09-09T17:14:58.325Z"
   },
   {
    "duration": 7,
    "start_time": "2021-09-09T17:15:20.298Z"
   },
   {
    "duration": 7,
    "start_time": "2021-09-09T17:16:42.152Z"
   },
   {
    "duration": 7,
    "start_time": "2021-09-09T17:16:54.874Z"
   },
   {
    "duration": 157,
    "start_time": "2021-09-09T17:22:58.392Z"
   },
   {
    "duration": 3,
    "start_time": "2021-09-09T17:23:08.140Z"
   },
   {
    "duration": 6,
    "start_time": "2021-09-09T17:25:19.209Z"
   },
   {
    "duration": 153,
    "start_time": "2021-09-09T17:26:57.778Z"
   },
   {
    "duration": 6,
    "start_time": "2021-09-09T17:27:38.927Z"
   },
   {
    "duration": 365,
    "start_time": "2021-09-09T17:28:36.964Z"
   },
   {
    "duration": 528,
    "start_time": "2021-09-09T17:28:44.290Z"
   },
   {
    "duration": 45,
    "start_time": "2021-09-09T17:28:52.769Z"
   },
   {
    "duration": 41,
    "start_time": "2021-09-09T17:28:58.111Z"
   },
   {
    "duration": 58,
    "start_time": "2021-09-09T17:29:09.711Z"
   },
   {
    "duration": 368,
    "start_time": "2021-09-09T17:30:03.198Z"
   },
   {
    "duration": 369,
    "start_time": "2021-09-09T17:30:26.330Z"
   },
   {
    "duration": 365,
    "start_time": "2021-09-09T17:30:33.994Z"
   },
   {
    "duration": 391,
    "start_time": "2021-09-09T17:31:17.082Z"
   },
   {
    "duration": 363,
    "start_time": "2021-09-09T17:33:25.872Z"
   },
   {
    "duration": 12378,
    "start_time": "2021-09-09T17:35:51.881Z"
   },
   {
    "duration": 369,
    "start_time": "2021-09-09T17:36:15.901Z"
   },
   {
    "duration": 364,
    "start_time": "2021-09-09T17:38:03.703Z"
   },
   {
    "duration": 246,
    "start_time": "2021-09-09T17:38:11.104Z"
   },
   {
    "duration": 109,
    "start_time": "2021-09-09T17:38:17.979Z"
   },
   {
    "duration": 376,
    "start_time": "2021-09-09T17:38:24.275Z"
   },
   {
    "duration": 364,
    "start_time": "2021-09-09T17:40:46.833Z"
   },
   {
    "duration": 659,
    "start_time": "2021-09-09T17:41:14.718Z"
   },
   {
    "duration": 473,
    "start_time": "2021-09-09T17:42:41.174Z"
   },
   {
    "duration": 455,
    "start_time": "2021-09-09T17:43:17.385Z"
   },
   {
    "duration": 616,
    "start_time": "2021-09-09T17:43:32.346Z"
   },
   {
    "duration": 3,
    "start_time": "2021-09-09T17:43:48.872Z"
   },
   {
    "duration": 1113,
    "start_time": "2021-09-09T17:44:03.571Z"
   },
   {
    "duration": 1989,
    "start_time": "2021-09-09T17:44:14.080Z"
   },
   {
    "duration": 356,
    "start_time": "2021-09-09T17:47:16.511Z"
   },
   {
    "duration": 1143,
    "start_time": "2021-09-09T17:47:20.491Z"
   },
   {
    "duration": 713,
    "start_time": "2021-09-09T17:47:32.372Z"
   },
   {
    "duration": 12,
    "start_time": "2021-09-09T17:47:33.448Z"
   },
   {
    "duration": 22,
    "start_time": "2021-09-09T17:47:34.564Z"
   },
   {
    "duration": 5,
    "start_time": "2021-09-09T17:47:34.892Z"
   },
   {
    "duration": 11,
    "start_time": "2021-09-09T17:47:35.212Z"
   },
   {
    "duration": 2,
    "start_time": "2021-09-09T17:47:36.254Z"
   },
   {
    "duration": 52,
    "start_time": "2021-09-09T17:47:36.424Z"
   },
   {
    "duration": 3,
    "start_time": "2021-09-09T17:47:36.934Z"
   },
   {
    "duration": 6,
    "start_time": "2021-09-09T17:47:37.754Z"
   },
   {
    "duration": 8,
    "start_time": "2021-09-09T17:47:37.950Z"
   },
   {
    "duration": 351,
    "start_time": "2021-09-09T17:47:38.160Z"
   },
   {
    "duration": 1105,
    "start_time": "2021-09-09T17:48:05.443Z"
   },
   {
    "duration": 1053,
    "start_time": "2021-09-09T17:48:22.734Z"
   },
   {
    "duration": 1080,
    "start_time": "2021-09-09T17:49:38.282Z"
   },
   {
    "duration": 644,
    "start_time": "2021-09-09T17:50:02.646Z"
   },
   {
    "duration": 12,
    "start_time": "2021-09-09T17:50:03.628Z"
   },
   {
    "duration": 21,
    "start_time": "2021-09-09T17:50:04.945Z"
   },
   {
    "duration": 5,
    "start_time": "2021-09-09T17:50:05.456Z"
   },
   {
    "duration": 11,
    "start_time": "2021-09-09T17:50:05.916Z"
   },
   {
    "duration": 3,
    "start_time": "2021-09-09T17:50:07.232Z"
   },
   {
    "duration": 49,
    "start_time": "2021-09-09T17:50:08.715Z"
   },
   {
    "duration": 3,
    "start_time": "2021-09-09T17:50:09.848Z"
   },
   {
    "duration": 6,
    "start_time": "2021-09-09T17:50:11.556Z"
   },
   {
    "duration": 9,
    "start_time": "2021-09-09T17:50:12.630Z"
   },
   {
    "duration": 353,
    "start_time": "2021-09-09T17:50:14.472Z"
   },
   {
    "duration": 364,
    "start_time": "2021-09-09T17:50:19.878Z"
   },
   {
    "duration": 659,
    "start_time": "2021-09-09T17:51:07.893Z"
   },
   {
    "duration": 367,
    "start_time": "2021-09-09T17:51:21.886Z"
   },
   {
    "duration": 341,
    "start_time": "2021-09-09T17:51:27.354Z"
   },
   {
    "duration": 342,
    "start_time": "2021-09-09T17:51:44.435Z"
   },
   {
    "duration": 357,
    "start_time": "2021-09-09T17:52:04.453Z"
   },
   {
    "duration": 375,
    "start_time": "2021-09-09T17:52:26.322Z"
   },
   {
    "duration": 599,
    "start_time": "2021-09-09T17:53:56.818Z"
   },
   {
    "duration": 415,
    "start_time": "2021-09-09T17:54:03.078Z"
   },
   {
    "duration": 7,
    "start_time": "2021-09-09T17:54:38.227Z"
   },
   {
    "duration": 7,
    "start_time": "2021-09-09T17:54:42.663Z"
   },
   {
    "duration": 275,
    "start_time": "2021-09-09T17:54:48.611Z"
   },
   {
    "duration": 6,
    "start_time": "2021-09-09T17:54:56.768Z"
   },
   {
    "duration": 296,
    "start_time": "2021-09-09T17:55:03.994Z"
   },
   {
    "duration": 8,
    "start_time": "2021-09-09T17:56:06.024Z"
   },
   {
    "duration": 629,
    "start_time": "2021-09-09T17:56:20.729Z"
   },
   {
    "duration": 12,
    "start_time": "2021-09-09T17:56:21.691Z"
   },
   {
    "duration": 24,
    "start_time": "2021-09-09T17:56:23.078Z"
   },
   {
    "duration": 5,
    "start_time": "2021-09-09T17:56:23.583Z"
   },
   {
    "duration": 11,
    "start_time": "2021-09-09T17:56:24.117Z"
   },
   {
    "duration": 2,
    "start_time": "2021-09-09T17:56:25.817Z"
   },
   {
    "duration": 52,
    "start_time": "2021-09-09T17:56:26.249Z"
   },
   {
    "duration": 2,
    "start_time": "2021-09-09T17:56:27.293Z"
   },
   {
    "duration": 5,
    "start_time": "2021-09-09T17:56:29.335Z"
   },
   {
    "duration": 7,
    "start_time": "2021-09-09T17:56:30.097Z"
   },
   {
    "duration": 6,
    "start_time": "2021-09-09T17:56:31.745Z"
   },
   {
    "duration": 20,
    "start_time": "2021-09-09T17:56:40.221Z"
   },
   {
    "duration": 13,
    "start_time": "2021-09-09T17:57:15.824Z"
   },
   {
    "duration": 14,
    "start_time": "2021-09-09T17:57:22.594Z"
   },
   {
    "duration": 13,
    "start_time": "2021-09-09T17:57:43.783Z"
   },
   {
    "duration": 13,
    "start_time": "2021-09-09T17:57:48.973Z"
   },
   {
    "duration": 14,
    "start_time": "2021-09-09T17:57:53.677Z"
   },
   {
    "duration": 17,
    "start_time": "2021-09-09T17:58:04.225Z"
   },
   {
    "duration": 9,
    "start_time": "2021-09-09T17:58:13.092Z"
   },
   {
    "duration": 8,
    "start_time": "2021-09-09T17:58:21.641Z"
   },
   {
    "duration": 102,
    "start_time": "2021-09-09T18:00:23.471Z"
   },
   {
    "duration": 336,
    "start_time": "2021-09-09T18:00:30.857Z"
   },
   {
    "duration": 348,
    "start_time": "2021-09-09T18:00:34.855Z"
   },
   {
    "duration": 336,
    "start_time": "2021-09-09T18:00:50.660Z"
   },
   {
    "duration": 345,
    "start_time": "2021-09-09T18:00:55.392Z"
   },
   {
    "duration": 336,
    "start_time": "2021-09-09T18:03:24.332Z"
   },
   {
    "duration": 342,
    "start_time": "2021-09-09T18:03:44.624Z"
   },
   {
    "duration": 337,
    "start_time": "2021-09-09T18:03:53.711Z"
   },
   {
    "duration": 338,
    "start_time": "2021-09-09T18:04:17.896Z"
   },
   {
    "duration": 357,
    "start_time": "2021-09-09T18:07:22.214Z"
   },
   {
    "duration": 350,
    "start_time": "2021-09-09T18:07:28.200Z"
   },
   {
    "duration": 351,
    "start_time": "2021-09-09T18:07:58.357Z"
   },
   {
    "duration": 561,
    "start_time": "2021-09-09T18:14:04.797Z"
   },
   {
    "duration": 329,
    "start_time": "2021-09-09T18:14:12.594Z"
   },
   {
    "duration": 1471,
    "start_time": "2021-09-09T18:16:29.178Z"
   },
   {
    "duration": 520,
    "start_time": "2021-09-09T18:16:44.054Z"
   },
   {
    "duration": 688,
    "start_time": "2021-09-09T18:16:54.562Z"
   },
   {
    "duration": 12,
    "start_time": "2021-09-09T18:16:55.598Z"
   },
   {
    "duration": 22,
    "start_time": "2021-09-09T18:16:56.930Z"
   },
   {
    "duration": 5,
    "start_time": "2021-09-09T18:16:57.428Z"
   },
   {
    "duration": 11,
    "start_time": "2021-09-09T18:16:57.960Z"
   },
   {
    "duration": 2,
    "start_time": "2021-09-09T18:16:59.434Z"
   },
   {
    "duration": 51,
    "start_time": "2021-09-09T18:17:01.306Z"
   },
   {
    "duration": 3,
    "start_time": "2021-09-09T18:17:03.182Z"
   },
   {
    "duration": 6,
    "start_time": "2021-09-09T18:17:05.120Z"
   },
   {
    "duration": 8,
    "start_time": "2021-09-09T18:17:06.156Z"
   },
   {
    "duration": 564,
    "start_time": "2021-09-09T18:17:07.030Z"
   },
   {
    "duration": 458,
    "start_time": "2021-09-09T18:17:40.889Z"
   },
   {
    "duration": 693,
    "start_time": "2021-09-09T18:19:44.215Z"
   },
   {
    "duration": 788,
    "start_time": "2021-09-09T18:21:34.711Z"
   },
   {
    "duration": 2160,
    "start_time": "2021-09-09T18:21:42.002Z"
   },
   {
    "duration": 31,
    "start_time": "2021-09-09T18:23:20.428Z"
   },
   {
    "duration": 5,
    "start_time": "2021-09-09T18:23:57.205Z"
   },
   {
    "duration": 280,
    "start_time": "2021-09-09T18:24:39.941Z"
   },
   {
    "duration": 514,
    "start_time": "2021-09-09T18:24:52.342Z"
   },
   {
    "duration": 594,
    "start_time": "2021-09-09T18:25:02.455Z"
   },
   {
    "duration": 467,
    "start_time": "2021-09-09T18:25:14.931Z"
   },
   {
    "duration": 458,
    "start_time": "2021-09-09T18:27:06.196Z"
   },
   {
    "duration": 360,
    "start_time": "2021-09-09T18:27:25.946Z"
   },
   {
    "duration": 359,
    "start_time": "2021-09-09T18:27:37.264Z"
   },
   {
    "duration": 330,
    "start_time": "2021-09-09T18:30:31.809Z"
   },
   {
    "duration": 305,
    "start_time": "2021-09-09T18:30:37.814Z"
   },
   {
    "duration": 281,
    "start_time": "2021-09-09T18:30:45.276Z"
   },
   {
    "duration": 20,
    "start_time": "2021-09-09T18:30:59.992Z"
   },
   {
    "duration": 286,
    "start_time": "2021-09-09T18:31:11.701Z"
   },
   {
    "duration": 24,
    "start_time": "2021-09-09T18:31:33.097Z"
   },
   {
    "duration": 30,
    "start_time": "2021-09-09T18:31:40.473Z"
   },
   {
    "duration": 636,
    "start_time": "2021-09-09T18:31:58.314Z"
   },
   {
    "duration": 12,
    "start_time": "2021-09-09T18:31:59.434Z"
   },
   {
    "duration": 21,
    "start_time": "2021-09-09T18:32:00.502Z"
   },
   {
    "duration": 5,
    "start_time": "2021-09-09T18:32:00.796Z"
   },
   {
    "duration": 11,
    "start_time": "2021-09-09T18:32:01.098Z"
   },
   {
    "duration": 2,
    "start_time": "2021-09-09T18:32:01.875Z"
   },
   {
    "duration": 50,
    "start_time": "2021-09-09T18:32:02.041Z"
   },
   {
    "duration": 3,
    "start_time": "2021-09-09T18:32:02.572Z"
   },
   {
    "duration": 6,
    "start_time": "2021-09-09T18:32:03.648Z"
   },
   {
    "duration": 8,
    "start_time": "2021-09-09T18:32:03.844Z"
   },
   {
    "duration": 36,
    "start_time": "2021-09-09T18:32:04.012Z"
   },
   {
    "duration": 747,
    "start_time": "2021-09-09T18:32:57.228Z"
   },
   {
    "duration": 13,
    "start_time": "2021-09-09T18:32:58.370Z"
   },
   {
    "duration": 23,
    "start_time": "2021-09-09T18:33:00.782Z"
   },
   {
    "duration": 5,
    "start_time": "2021-09-09T18:33:02.694Z"
   },
   {
    "duration": 10,
    "start_time": "2021-09-09T18:33:03.550Z"
   },
   {
    "duration": 3,
    "start_time": "2021-09-09T18:33:05.976Z"
   },
   {
    "duration": 63,
    "start_time": "2021-09-09T18:33:08.298Z"
   },
   {
    "duration": 48,
    "start_time": "2021-09-09T18:33:20.979Z"
   },
   {
    "duration": 2,
    "start_time": "2021-09-09T18:33:22.937Z"
   },
   {
    "duration": 5,
    "start_time": "2021-09-09T18:33:24.831Z"
   },
   {
    "duration": 7,
    "start_time": "2021-09-09T18:33:27.157Z"
   },
   {
    "duration": 33,
    "start_time": "2021-09-09T18:33:29.430Z"
   },
   {
    "duration": 17,
    "start_time": "2021-09-09T18:33:46.741Z"
   },
   {
    "duration": 637,
    "start_time": "2021-09-09T18:34:08.902Z"
   },
   {
    "duration": 11,
    "start_time": "2021-09-09T18:34:10.129Z"
   },
   {
    "duration": 21,
    "start_time": "2021-09-09T18:34:16.409Z"
   },
   {
    "duration": 5,
    "start_time": "2021-09-09T18:34:19.921Z"
   },
   {
    "duration": 11,
    "start_time": "2021-09-09T18:34:21.525Z"
   },
   {
    "duration": 65,
    "start_time": "2021-09-09T18:34:33.361Z"
   },
   {
    "duration": 3,
    "start_time": "2021-09-09T18:34:40.693Z"
   },
   {
    "duration": 5,
    "start_time": "2021-09-09T18:34:44.779Z"
   },
   {
    "duration": 7,
    "start_time": "2021-09-09T18:34:49.261Z"
   },
   {
    "duration": 18,
    "start_time": "2021-09-09T18:34:50.268Z"
   },
   {
    "duration": 36,
    "start_time": "2021-09-09T18:34:56.112Z"
   },
   {
    "duration": 25,
    "start_time": "2021-09-09T18:35:19.964Z"
   },
   {
    "duration": 985,
    "start_time": "2021-09-09T18:35:33.286Z"
   },
   {
    "duration": 11,
    "start_time": "2021-09-09T18:35:34.272Z"
   },
   {
    "duration": 34,
    "start_time": "2021-09-09T18:35:34.530Z"
   },
   {
    "duration": 5,
    "start_time": "2021-09-09T18:35:34.818Z"
   },
   {
    "duration": 11,
    "start_time": "2021-09-09T18:35:35.126Z"
   },
   {
    "duration": 2,
    "start_time": "2021-09-09T18:35:35.907Z"
   },
   {
    "duration": 64,
    "start_time": "2021-09-09T18:35:36.063Z"
   },
   {
    "duration": 3,
    "start_time": "2021-09-09T18:35:36.934Z"
   },
   {
    "duration": 5,
    "start_time": "2021-09-09T18:35:37.699Z"
   },
   {
    "duration": 7,
    "start_time": "2021-09-09T18:35:38.586Z"
   },
   {
    "duration": 37,
    "start_time": "2021-09-09T18:35:39.333Z"
   },
   {
    "duration": 360,
    "start_time": "2021-09-09T18:36:06.929Z"
   },
   {
    "duration": 367,
    "start_time": "2021-09-09T18:36:23.998Z"
   },
   {
    "duration": 682,
    "start_time": "2021-09-09T18:36:32.520Z"
   },
   {
    "duration": 10,
    "start_time": "2021-09-09T18:36:33.204Z"
   },
   {
    "duration": 20,
    "start_time": "2021-09-09T18:36:34.618Z"
   },
   {
    "duration": 5,
    "start_time": "2021-09-09T18:36:35.036Z"
   },
   {
    "duration": 10,
    "start_time": "2021-09-09T18:36:35.514Z"
   },
   {
    "duration": 2,
    "start_time": "2021-09-09T18:36:37.090Z"
   },
   {
    "duration": 62,
    "start_time": "2021-09-09T18:36:40.388Z"
   },
   {
    "duration": 3,
    "start_time": "2021-09-09T18:36:41.604Z"
   },
   {
    "duration": 6,
    "start_time": "2021-09-09T18:36:42.940Z"
   },
   {
    "duration": 8,
    "start_time": "2021-09-09T18:36:44.069Z"
   },
   {
    "duration": 360,
    "start_time": "2021-09-09T18:36:45.183Z"
   },
   {
    "duration": 347,
    "start_time": "2021-09-09T18:38:25.999Z"
   },
   {
    "duration": 40,
    "start_time": "2021-09-09T18:38:33.553Z"
   },
   {
    "duration": 40,
    "start_time": "2021-09-09T18:38:44.081Z"
   },
   {
    "duration": 16,
    "start_time": "2021-09-09T18:39:39.497Z"
   },
   {
    "duration": 657,
    "start_time": "2021-09-09T18:39:47.890Z"
   },
   {
    "duration": 12,
    "start_time": "2021-09-09T18:39:48.986Z"
   },
   {
    "duration": 20,
    "start_time": "2021-09-09T18:39:52.074Z"
   },
   {
    "duration": 19,
    "start_time": "2021-09-09T18:40:15.425Z"
   },
   {
    "duration": 22,
    "start_time": "2021-09-09T18:40:37.010Z"
   },
   {
    "duration": 23,
    "start_time": "2021-09-09T18:40:59.664Z"
   },
   {
    "duration": 14,
    "start_time": "2021-09-09T18:41:26.965Z"
   },
   {
    "duration": 99,
    "start_time": "2021-09-09T18:41:54.564Z"
   },
   {
    "duration": 12,
    "start_time": "2021-09-09T18:42:07.816Z"
   },
   {
    "duration": 10,
    "start_time": "2021-09-09T18:42:22.116Z"
   },
   {
    "duration": 21,
    "start_time": "2021-09-09T18:42:27.194Z"
   },
   {
    "duration": 628,
    "start_time": "2021-09-09T18:42:34.213Z"
   },
   {
    "duration": 10,
    "start_time": "2021-09-09T18:42:34.843Z"
   },
   {
    "duration": 21,
    "start_time": "2021-09-09T18:42:35.539Z"
   },
   {
    "duration": 5,
    "start_time": "2021-09-09T18:42:35.837Z"
   },
   {
    "duration": 10,
    "start_time": "2021-09-09T18:42:36.171Z"
   },
   {
    "duration": 3,
    "start_time": "2021-09-09T18:42:37.053Z"
   },
   {
    "duration": 61,
    "start_time": "2021-09-09T18:42:37.209Z"
   },
   {
    "duration": 2,
    "start_time": "2021-09-09T18:42:38.584Z"
   },
   {
    "duration": 5,
    "start_time": "2021-09-09T18:42:39.299Z"
   },
   {
    "duration": 6,
    "start_time": "2021-09-09T18:42:39.788Z"
   },
   {
    "duration": 351,
    "start_time": "2021-09-09T18:42:40.509Z"
   },
   {
    "duration": 334,
    "start_time": "2021-09-09T18:43:02.770Z"
   },
   {
    "duration": 342,
    "start_time": "2021-09-09T18:43:17.669Z"
   },
   {
    "duration": 345,
    "start_time": "2021-09-09T18:43:40.263Z"
   },
   {
    "duration": 344,
    "start_time": "2021-09-09T18:43:59.050Z"
   },
   {
    "duration": 674,
    "start_time": "2021-09-09T18:44:47.669Z"
   },
   {
    "duration": 608,
    "start_time": "2021-09-09T18:44:54.182Z"
   },
   {
    "duration": 613,
    "start_time": "2021-09-09T18:44:57.560Z"
   },
   {
    "duration": 334,
    "start_time": "2021-09-09T18:45:03.582Z"
   },
   {
    "duration": 337,
    "start_time": "2021-09-09T18:45:07.187Z"
   },
   {
    "duration": 340,
    "start_time": "2021-09-09T18:45:19.390Z"
   },
   {
    "duration": 342,
    "start_time": "2021-09-09T18:45:27.618Z"
   },
   {
    "duration": 337,
    "start_time": "2021-09-09T18:46:01.951Z"
   },
   {
    "duration": 333,
    "start_time": "2021-09-09T18:46:17.226Z"
   },
   {
    "duration": 344,
    "start_time": "2021-09-09T18:46:20.944Z"
   },
   {
    "duration": 681,
    "start_time": "2021-09-09T18:49:59.427Z"
   },
   {
    "duration": 713,
    "start_time": "2021-09-09T18:50:11.884Z"
   },
   {
    "duration": 656,
    "start_time": "2021-09-09T18:50:20.109Z"
   },
   {
    "duration": 12,
    "start_time": "2021-09-09T18:50:21.111Z"
   },
   {
    "duration": 22,
    "start_time": "2021-09-09T18:50:22.675Z"
   },
   {
    "duration": 5,
    "start_time": "2021-09-09T18:50:23.313Z"
   },
   {
    "duration": 11,
    "start_time": "2021-09-09T18:50:23.969Z"
   },
   {
    "duration": 3,
    "start_time": "2021-09-09T18:50:26.193Z"
   },
   {
    "duration": 64,
    "start_time": "2021-09-09T18:50:26.601Z"
   },
   {
    "duration": 3,
    "start_time": "2021-09-09T18:50:27.489Z"
   },
   {
    "duration": 5,
    "start_time": "2021-09-09T18:50:28.195Z"
   },
   {
    "duration": 7,
    "start_time": "2021-09-09T18:50:28.579Z"
   },
   {
    "duration": 689,
    "start_time": "2021-09-09T18:50:29.696Z"
   },
   {
    "duration": 673,
    "start_time": "2021-09-09T18:50:40.619Z"
   },
   {
    "duration": 8,
    "start_time": "2021-09-09T18:53:43.937Z"
   },
   {
    "duration": 93,
    "start_time": "2021-09-09T18:54:38.745Z"
   },
   {
    "duration": 7,
    "start_time": "2021-09-09T18:54:43.469Z"
   },
   {
    "duration": 8,
    "start_time": "2021-09-09T18:54:58.137Z"
   },
   {
    "duration": 7,
    "start_time": "2021-09-09T18:55:05.471Z"
   },
   {
    "duration": 8,
    "start_time": "2021-09-09T18:55:12.278Z"
   },
   {
    "duration": 8,
    "start_time": "2021-09-09T18:55:17.114Z"
   },
   {
    "duration": 9,
    "start_time": "2021-09-09T18:55:25.440Z"
   },
   {
    "duration": 8,
    "start_time": "2021-09-09T18:55:32.386Z"
   },
   {
    "duration": 7,
    "start_time": "2021-09-09T18:55:35.877Z"
   },
   {
    "duration": 7,
    "start_time": "2021-09-09T18:55:52.301Z"
   },
   {
    "duration": 6,
    "start_time": "2021-09-09T18:56:51.742Z"
   },
   {
    "duration": 8,
    "start_time": "2021-09-09T18:56:54.951Z"
   },
   {
    "duration": 10,
    "start_time": "2021-09-09T19:01:55.028Z"
   },
   {
    "duration": 549,
    "start_time": "2021-09-09T19:02:41.984Z"
   },
   {
    "duration": 94,
    "start_time": "2021-09-09T19:03:39.543Z"
   },
   {
    "duration": 447,
    "start_time": "2021-09-09T19:03:45.749Z"
   },
   {
    "duration": 449,
    "start_time": "2021-09-09T19:03:55.586Z"
   },
   {
    "duration": 11,
    "start_time": "2021-09-09T19:03:56.633Z"
   },
   {
    "duration": 855,
    "start_time": "2021-09-09T19:08:52.315Z"
   },
   {
    "duration": 862,
    "start_time": "2021-09-09T19:09:11.166Z"
   },
   {
    "duration": 10,
    "start_time": "2021-09-09T19:09:12.029Z"
   },
   {
    "duration": 9,
    "start_time": "2021-09-09T19:10:02.420Z"
   },
   {
    "duration": 12,
    "start_time": "2021-09-09T19:10:03.708Z"
   },
   {
    "duration": 782,
    "start_time": "2021-09-09T19:10:13.822Z"
   },
   {
    "duration": 12,
    "start_time": "2021-09-09T19:10:16.729Z"
   },
   {
    "duration": 21,
    "start_time": "2021-09-09T19:10:16.743Z"
   },
   {
    "duration": 4,
    "start_time": "2021-09-09T19:10:16.766Z"
   },
   {
    "duration": 14,
    "start_time": "2021-09-09T19:10:16.772Z"
   },
   {
    "duration": 3,
    "start_time": "2021-09-09T19:10:16.788Z"
   },
   {
    "duration": 68,
    "start_time": "2021-09-09T19:10:16.793Z"
   },
   {
    "duration": 2,
    "start_time": "2021-09-09T19:10:18.743Z"
   },
   {
    "duration": 1088,
    "start_time": "2021-09-09T19:10:19.272Z"
   },
   {
    "duration": 12,
    "start_time": "2021-09-09T19:10:20.439Z"
   },
   {
    "duration": 6,
    "start_time": "2021-09-09T19:10:43.223Z"
   },
   {
    "duration": 8,
    "start_time": "2021-09-09T19:10:46.958Z"
   },
   {
    "duration": 9,
    "start_time": "2021-09-09T19:11:03.016Z"
   },
   {
    "duration": 616,
    "start_time": "2021-09-09T19:11:10.029Z"
   },
   {
    "duration": 11,
    "start_time": "2021-09-09T19:11:10.647Z"
   },
   {
    "duration": 22,
    "start_time": "2021-09-09T19:11:11.821Z"
   },
   {
    "duration": 5,
    "start_time": "2021-09-09T19:11:12.159Z"
   },
   {
    "duration": 10,
    "start_time": "2021-09-09T19:11:12.505Z"
   },
   {
    "duration": 3,
    "start_time": "2021-09-09T19:11:13.527Z"
   },
   {
    "duration": 63,
    "start_time": "2021-09-09T19:11:13.721Z"
   },
   {
    "duration": 2,
    "start_time": "2021-09-09T19:11:14.628Z"
   },
   {
    "duration": 7,
    "start_time": "2021-09-09T19:11:15.017Z"
   },
   {
    "duration": 7,
    "start_time": "2021-09-09T19:11:15.413Z"
   },
   {
    "duration": 963,
    "start_time": "2021-09-09T19:11:17.746Z"
   },
   {
    "duration": 12,
    "start_time": "2021-09-09T19:11:20.002Z"
   },
   {
    "duration": 5,
    "start_time": "2021-09-09T19:13:20.590Z"
   },
   {
    "duration": 22,
    "start_time": "2021-09-09T19:13:28.168Z"
   },
   {
    "duration": 8,
    "start_time": "2021-09-09T19:16:04.775Z"
   },
   {
    "duration": 331,
    "start_time": "2021-09-09T19:17:37.342Z"
   },
   {
    "duration": 9,
    "start_time": "2021-09-09T19:17:42.573Z"
   },
   {
    "duration": 6,
    "start_time": "2021-09-09T19:17:52.163Z"
   },
   {
    "duration": 8,
    "start_time": "2021-09-09T19:18:18.118Z"
   },
   {
    "duration": 629,
    "start_time": "2021-09-09T19:18:30.715Z"
   },
   {
    "duration": 12,
    "start_time": "2021-09-09T19:18:31.696Z"
   },
   {
    "duration": 22,
    "start_time": "2021-09-09T19:18:32.763Z"
   },
   {
    "duration": 5,
    "start_time": "2021-09-09T19:18:33.076Z"
   },
   {
    "duration": 10,
    "start_time": "2021-09-09T19:18:33.387Z"
   },
   {
    "duration": 2,
    "start_time": "2021-09-09T19:18:34.283Z"
   },
   {
    "duration": 62,
    "start_time": "2021-09-09T19:18:34.486Z"
   },
   {
    "duration": 3,
    "start_time": "2021-09-09T19:18:35.122Z"
   },
   {
    "duration": 8,
    "start_time": "2021-09-09T19:18:35.474Z"
   },
   {
    "duration": 8,
    "start_time": "2021-09-09T19:18:35.844Z"
   },
   {
    "duration": 943,
    "start_time": "2021-09-09T19:18:36.365Z"
   },
   {
    "duration": 11,
    "start_time": "2021-09-09T19:18:37.310Z"
   },
   {
    "duration": 5,
    "start_time": "2021-09-09T19:18:39.432Z"
   },
   {
    "duration": 2,
    "start_time": "2021-09-09T19:18:41.020Z"
   },
   {
    "duration": 8,
    "start_time": "2021-09-09T19:18:43.113Z"
   },
   {
    "duration": 23,
    "start_time": "2021-09-09T19:18:43.991Z"
   },
   {
    "duration": 429,
    "start_time": "2021-09-09T19:20:53.060Z"
   },
   {
    "duration": 6,
    "start_time": "2021-09-09T19:20:55.438Z"
   },
   {
    "duration": 491,
    "start_time": "2021-09-09T19:21:16.225Z"
   },
   {
    "duration": 435,
    "start_time": "2021-09-09T19:21:47.334Z"
   },
   {
    "duration": 679,
    "start_time": "2021-09-09T19:22:30.731Z"
   },
   {
    "duration": 13,
    "start_time": "2021-09-09T19:22:31.793Z"
   },
   {
    "duration": 21,
    "start_time": "2021-09-09T19:22:32.895Z"
   },
   {
    "duration": 5,
    "start_time": "2021-09-09T19:22:33.207Z"
   },
   {
    "duration": 9,
    "start_time": "2021-09-09T19:22:33.557Z"
   },
   {
    "duration": 3,
    "start_time": "2021-09-09T19:22:34.395Z"
   },
   {
    "duration": 61,
    "start_time": "2021-09-09T19:22:34.559Z"
   },
   {
    "duration": 2,
    "start_time": "2021-09-09T19:22:35.173Z"
   },
   {
    "duration": 8,
    "start_time": "2021-09-09T19:22:35.539Z"
   },
   {
    "duration": 7,
    "start_time": "2021-09-09T19:22:35.737Z"
   },
   {
    "duration": 994,
    "start_time": "2021-09-09T19:22:35.976Z"
   },
   {
    "duration": 18,
    "start_time": "2021-09-09T19:22:36.972Z"
   },
   {
    "duration": 5,
    "start_time": "2021-09-09T19:22:37.233Z"
   },
   {
    "duration": 2,
    "start_time": "2021-09-09T19:22:38.349Z"
   },
   {
    "duration": 8,
    "start_time": "2021-09-09T19:22:39.019Z"
   },
   {
    "duration": 21,
    "start_time": "2021-09-09T19:22:39.659Z"
   },
   {
    "duration": 461,
    "start_time": "2021-09-09T19:22:40.932Z"
   },
   {
    "duration": 454,
    "start_time": "2021-09-09T19:22:57.369Z"
   },
   {
    "duration": 599,
    "start_time": "2021-09-09T19:24:19.841Z"
   },
   {
    "duration": 10,
    "start_time": "2021-09-09T19:24:20.442Z"
   },
   {
    "duration": 22,
    "start_time": "2021-09-09T19:24:21.219Z"
   },
   {
    "duration": 5,
    "start_time": "2021-09-09T19:24:21.579Z"
   },
   {
    "duration": 10,
    "start_time": "2021-09-09T19:24:21.953Z"
   },
   {
    "duration": 2,
    "start_time": "2021-09-09T19:24:22.809Z"
   },
   {
    "duration": 62,
    "start_time": "2021-09-09T19:24:22.995Z"
   },
   {
    "duration": 2,
    "start_time": "2021-09-09T19:24:23.975Z"
   },
   {
    "duration": 7,
    "start_time": "2021-09-09T19:24:24.731Z"
   },
   {
    "duration": 7,
    "start_time": "2021-09-09T19:24:25.071Z"
   },
   {
    "duration": 988,
    "start_time": "2021-09-09T19:24:25.386Z"
   },
   {
    "duration": 10,
    "start_time": "2021-09-09T19:24:26.376Z"
   },
   {
    "duration": 5,
    "start_time": "2021-09-09T19:24:27.309Z"
   },
   {
    "duration": 2,
    "start_time": "2021-09-09T19:24:28.685Z"
   },
   {
    "duration": 8,
    "start_time": "2021-09-09T19:24:29.521Z"
   },
   {
    "duration": 23,
    "start_time": "2021-09-09T19:24:30.926Z"
   },
   {
    "duration": 440,
    "start_time": "2021-09-09T19:24:31.219Z"
   },
   {
    "duration": 6,
    "start_time": "2021-09-09T19:24:31.757Z"
   },
   {
    "duration": 13,
    "start_time": "2021-09-09T19:24:32.289Z"
   },
   {
    "duration": 5,
    "start_time": "2021-09-09T19:24:33.795Z"
   },
   {
    "duration": 11,
    "start_time": "2021-09-09T19:24:35.023Z"
   },
   {
    "duration": 49,
    "start_time": "2021-09-09T19:24:39.237Z"
   },
   {
    "duration": 8,
    "start_time": "2021-09-09T19:24:45.610Z"
   },
   {
    "duration": 3376,
    "start_time": "2021-09-09T19:24:47.278Z"
   },
   {
    "duration": 2,
    "start_time": "2021-09-09T19:24:50.655Z"
   },
   {
    "duration": 10,
    "start_time": "2021-09-09T19:27:54.822Z"
   },
   {
    "duration": 610,
    "start_time": "2021-09-09T19:30:26.285Z"
   },
   {
    "duration": 264,
    "start_time": "2021-09-09T19:32:22.224Z"
   },
   {
    "duration": 49,
    "start_time": "2021-09-09T19:32:43.684Z"
   },
   {
    "duration": 67,
    "start_time": "2021-09-09T19:32:54.030Z"
   },
   {
    "duration": 2698,
    "start_time": "2021-09-09T19:33:08.865Z"
   },
   {
    "duration": 2,
    "start_time": "2021-09-09T19:33:11.565Z"
   },
   {
    "duration": 1844,
    "start_time": "2021-09-09T19:33:18.057Z"
   },
   {
    "duration": 20,
    "start_time": "2021-09-09T19:33:31.999Z"
   },
   {
    "duration": 18,
    "start_time": "2021-09-09T19:34:58.607Z"
   },
   {
    "duration": 1324,
    "start_time": "2021-09-09T19:39:04.468Z"
   },
   {
    "duration": 642,
    "start_time": "2021-09-09T19:39:16.220Z"
   },
   {
    "duration": 10,
    "start_time": "2021-09-09T19:39:16.864Z"
   },
   {
    "duration": 23,
    "start_time": "2021-09-09T19:39:16.876Z"
   },
   {
    "duration": 4,
    "start_time": "2021-09-09T19:39:16.901Z"
   },
   {
    "duration": 11,
    "start_time": "2021-09-09T19:39:16.907Z"
   },
   {
    "duration": 4,
    "start_time": "2021-09-09T19:39:16.919Z"
   },
   {
    "duration": 79,
    "start_time": "2021-09-09T19:39:16.925Z"
   },
   {
    "duration": 2,
    "start_time": "2021-09-09T19:39:17.007Z"
   },
   {
    "duration": 9,
    "start_time": "2021-09-09T19:39:17.011Z"
   },
   {
    "duration": 6,
    "start_time": "2021-09-09T19:39:17.022Z"
   },
   {
    "duration": 963,
    "start_time": "2021-09-09T19:39:17.030Z"
   },
   {
    "duration": 10,
    "start_time": "2021-09-09T19:39:17.995Z"
   },
   {
    "duration": 7,
    "start_time": "2021-09-09T19:39:18.007Z"
   },
   {
    "duration": 4,
    "start_time": "2021-09-09T19:39:18.015Z"
   },
   {
    "duration": 10,
    "start_time": "2021-09-09T19:39:18.021Z"
   },
   {
    "duration": 20,
    "start_time": "2021-09-09T19:39:18.033Z"
   },
   {
    "duration": 480,
    "start_time": "2021-09-09T19:39:18.055Z"
   },
   {
    "duration": 5,
    "start_time": "2021-09-09T19:39:18.537Z"
   },
   {
    "duration": 12,
    "start_time": "2021-09-09T19:39:18.544Z"
   },
   {
    "duration": 4,
    "start_time": "2021-09-09T19:39:18.557Z"
   },
   {
    "duration": 30,
    "start_time": "2021-09-09T19:39:18.563Z"
   },
   {
    "duration": 52,
    "start_time": "2021-09-09T19:39:18.595Z"
   },
   {
    "duration": 8,
    "start_time": "2021-09-09T19:39:18.651Z"
   },
   {
    "duration": 3292,
    "start_time": "2021-09-09T19:39:18.661Z"
   },
   {
    "duration": 2,
    "start_time": "2021-09-09T19:39:21.955Z"
   },
   {
    "duration": 36,
    "start_time": "2021-09-09T19:39:21.959Z"
   },
   {
    "duration": 31,
    "start_time": "2021-09-09T19:39:21.996Z"
   },
   {
    "duration": 13,
    "start_time": "2021-09-09T19:39:22.028Z"
   },
   {
    "duration": 15,
    "start_time": "2021-09-09T19:39:22.042Z"
   },
   {
    "duration": 31,
    "start_time": "2021-09-09T19:39:22.059Z"
   },
   {
    "duration": 4,
    "start_time": "2021-09-09T19:39:22.091Z"
   },
   {
    "duration": 14,
    "start_time": "2021-09-09T19:39:22.097Z"
   },
   {
    "duration": 4,
    "start_time": "2021-09-09T19:39:22.113Z"
   },
   {
    "duration": 14,
    "start_time": "2021-09-09T19:39:22.118Z"
   },
   {
    "duration": 5,
    "start_time": "2021-09-09T19:39:22.134Z"
   },
   {
    "duration": 7,
    "start_time": "2021-09-09T19:39:22.140Z"
   },
   {
    "duration": 38,
    "start_time": "2021-09-09T19:39:22.148Z"
   },
   {
    "duration": 1349,
    "start_time": "2021-09-09T19:39:22.188Z"
   },
   {
    "duration": -497,
    "start_time": "2021-09-09T19:39:24.036Z"
   },
   {
    "duration": -500,
    "start_time": "2021-09-09T19:39:24.040Z"
   },
   {
    "duration": -501,
    "start_time": "2021-09-09T19:39:24.042Z"
   },
   {
    "duration": -503,
    "start_time": "2021-09-09T19:39:24.045Z"
   },
   {
    "duration": -505,
    "start_time": "2021-09-09T19:39:24.048Z"
   },
   {
    "duration": -507,
    "start_time": "2021-09-09T19:39:24.051Z"
   },
   {
    "duration": 314,
    "start_time": "2021-09-09T19:41:11.835Z"
   },
   {
    "duration": 1386,
    "start_time": "2021-09-09T19:41:29.240Z"
   },
   {
    "duration": 626,
    "start_time": "2021-09-09T19:41:38.020Z"
   },
   {
    "duration": 11,
    "start_time": "2021-09-09T19:41:38.984Z"
   },
   {
    "duration": 21,
    "start_time": "2021-09-09T19:41:40.092Z"
   },
   {
    "duration": 5,
    "start_time": "2021-09-09T19:41:40.396Z"
   },
   {
    "duration": 10,
    "start_time": "2021-09-09T19:41:40.702Z"
   },
   {
    "duration": 3,
    "start_time": "2021-09-09T19:41:41.636Z"
   },
   {
    "duration": 63,
    "start_time": "2021-09-09T19:41:41.804Z"
   },
   {
    "duration": 2,
    "start_time": "2021-09-09T19:41:42.368Z"
   },
   {
    "duration": 7,
    "start_time": "2021-09-09T19:41:42.734Z"
   },
   {
    "duration": 7,
    "start_time": "2021-09-09T19:41:42.922Z"
   },
   {
    "duration": 958,
    "start_time": "2021-09-09T19:41:43.107Z"
   },
   {
    "duration": 10,
    "start_time": "2021-09-09T19:41:44.067Z"
   },
   {
    "duration": 9,
    "start_time": "2021-09-09T19:41:44.079Z"
   },
   {
    "duration": 2,
    "start_time": "2021-09-09T19:41:44.656Z"
   },
   {
    "duration": 14,
    "start_time": "2021-09-09T19:41:45.026Z"
   },
   {
    "duration": 22,
    "start_time": "2021-09-09T19:41:45.220Z"
   },
   {
    "duration": 459,
    "start_time": "2021-09-09T19:41:45.414Z"
   },
   {
    "duration": 6,
    "start_time": "2021-09-09T19:41:46.015Z"
   },
   {
    "duration": 11,
    "start_time": "2021-09-09T19:41:46.414Z"
   },
   {
    "duration": 4,
    "start_time": "2021-09-09T19:41:47.210Z"
   },
   {
    "duration": 11,
    "start_time": "2021-09-09T19:41:47.402Z"
   },
   {
    "duration": 49,
    "start_time": "2021-09-09T19:41:48.562Z"
   },
   {
    "duration": 8,
    "start_time": "2021-09-09T19:41:51.610Z"
   },
   {
    "duration": 3223,
    "start_time": "2021-09-09T19:41:52.112Z"
   },
   {
    "duration": 2,
    "start_time": "2021-09-09T19:41:55.338Z"
   },
   {
    "duration": 24,
    "start_time": "2021-09-09T19:41:55.343Z"
   },
   {
    "duration": 41,
    "start_time": "2021-09-09T19:41:55.368Z"
   },
   {
    "duration": 11,
    "start_time": "2021-09-09T19:41:55.411Z"
   },
   {
    "duration": 15,
    "start_time": "2021-09-09T19:41:57.702Z"
   },
   {
    "duration": 7,
    "start_time": "2021-09-09T19:41:58.475Z"
   },
   {
    "duration": 5,
    "start_time": "2021-09-09T19:41:58.834Z"
   },
   {
    "duration": 8,
    "start_time": "2021-09-09T19:41:59.250Z"
   },
   {
    "duration": 5,
    "start_time": "2021-09-09T19:41:59.475Z"
   },
   {
    "duration": 11,
    "start_time": "2021-09-09T19:42:00.883Z"
   },
   {
    "duration": 9,
    "start_time": "2021-09-09T19:42:01.143Z"
   },
   {
    "duration": 7,
    "start_time": "2021-09-09T19:42:01.698Z"
   },
   {
    "duration": 7,
    "start_time": "2021-09-09T19:42:01.947Z"
   },
   {
    "duration": 2498,
    "start_time": "2021-09-09T19:42:03.434Z"
   },
   {
    "duration": 65,
    "start_time": "2021-09-09T19:43:45.130Z"
   },
   {
    "duration": 5,
    "start_time": "2021-09-09T19:43:57.216Z"
   },
   {
    "duration": 34,
    "start_time": "2021-09-09T19:44:10.954Z"
   },
   {
    "duration": 36,
    "start_time": "2021-09-09T19:44:31.908Z"
   },
   {
    "duration": 2,
    "start_time": "2021-09-09T19:44:33.874Z"
   },
   {
    "duration": 7,
    "start_time": "2021-09-09T19:44:40.479Z"
   },
   {
    "duration": 10,
    "start_time": "2021-09-09T19:45:57.369Z"
   },
   {
    "duration": 8,
    "start_time": "2021-09-09T19:46:24.215Z"
   },
   {
    "duration": 8,
    "start_time": "2021-09-09T19:46:29.433Z"
   },
   {
    "duration": 9,
    "start_time": "2021-09-09T19:47:20.921Z"
   },
   {
    "duration": 10,
    "start_time": "2021-09-09T19:47:23.249Z"
   },
   {
    "duration": 9,
    "start_time": "2021-09-09T19:47:40.551Z"
   },
   {
    "duration": 10,
    "start_time": "2021-09-09T19:47:43.669Z"
   },
   {
    "duration": 10,
    "start_time": "2021-09-09T19:47:51.229Z"
   },
   {
    "duration": 11,
    "start_time": "2021-09-09T19:48:30.975Z"
   },
   {
    "duration": 10,
    "start_time": "2021-09-09T19:48:39.417Z"
   },
   {
    "duration": 10,
    "start_time": "2021-09-09T19:48:44.923Z"
   },
   {
    "duration": 10,
    "start_time": "2021-09-09T19:48:49.225Z"
   },
   {
    "duration": 969,
    "start_time": "2021-09-09T19:49:37.041Z"
   },
   {
    "duration": 11,
    "start_time": "2021-09-09T19:49:38.577Z"
   },
   {
    "duration": 21,
    "start_time": "2021-09-09T19:49:42.493Z"
   },
   {
    "duration": 4,
    "start_time": "2021-09-09T19:49:43.463Z"
   },
   {
    "duration": 10,
    "start_time": "2021-09-09T19:49:44.381Z"
   },
   {
    "duration": 3,
    "start_time": "2021-09-09T19:49:47.107Z"
   },
   {
    "duration": 61,
    "start_time": "2021-09-09T19:49:47.889Z"
   },
   {
    "duration": 2,
    "start_time": "2021-09-09T19:50:56.914Z"
   },
   {
    "duration": 7,
    "start_time": "2021-09-09T19:51:02.502Z"
   },
   {
    "duration": 7,
    "start_time": "2021-09-09T19:51:05.061Z"
   },
   {
    "duration": 966,
    "start_time": "2021-09-09T19:51:06.082Z"
   },
   {
    "duration": 12,
    "start_time": "2021-09-09T19:51:07.678Z"
   },
   {
    "duration": 5,
    "start_time": "2021-09-09T19:51:11.292Z"
   },
   {
    "duration": 2,
    "start_time": "2021-09-09T19:51:12.354Z"
   },
   {
    "duration": 8,
    "start_time": "2021-09-09T19:51:13.153Z"
   },
   {
    "duration": 21,
    "start_time": "2021-09-09T19:51:13.637Z"
   },
   {
    "duration": 456,
    "start_time": "2021-09-09T19:51:13.930Z"
   },
   {
    "duration": 6,
    "start_time": "2021-09-09T19:51:14.912Z"
   },
   {
    "duration": 12,
    "start_time": "2021-09-09T19:51:15.605Z"
   },
   {
    "duration": 5,
    "start_time": "2021-09-09T19:51:16.977Z"
   },
   {
    "duration": 12,
    "start_time": "2021-09-09T19:51:20.985Z"
   },
   {
    "duration": 48,
    "start_time": "2021-09-09T19:51:23.814Z"
   },
   {
    "duration": 8,
    "start_time": "2021-09-09T19:51:25.620Z"
   },
   {
    "duration": 3332,
    "start_time": "2021-09-09T19:51:26.222Z"
   },
   {
    "duration": 2,
    "start_time": "2021-09-09T19:51:29.557Z"
   },
   {
    "duration": 33,
    "start_time": "2021-09-09T19:51:29.561Z"
   },
   {
    "duration": 41,
    "start_time": "2021-09-09T19:51:44.540Z"
   },
   {
    "duration": 14,
    "start_time": "2021-09-09T19:51:48.276Z"
   },
   {
    "duration": 16,
    "start_time": "2021-09-09T19:51:54.224Z"
   },
   {
    "duration": 7,
    "start_time": "2021-09-09T19:51:57.095Z"
   },
   {
    "duration": 5,
    "start_time": "2021-09-09T19:51:57.642Z"
   },
   {
    "duration": 7,
    "start_time": "2021-09-09T19:51:59.379Z"
   },
   {
    "duration": 4,
    "start_time": "2021-09-09T19:51:59.828Z"
   },
   {
    "duration": 11,
    "start_time": "2021-09-09T19:52:33.102Z"
   },
   {
    "duration": 9,
    "start_time": "2021-09-09T19:52:33.621Z"
   },
   {
    "duration": 6,
    "start_time": "2021-09-09T19:52:34.878Z"
   },
   {
    "duration": 6,
    "start_time": "2021-09-09T19:52:36.420Z"
   },
   {
    "duration": 32,
    "start_time": "2021-09-09T19:52:49.382Z"
   },
   {
    "duration": 2,
    "start_time": "2021-09-09T19:52:51.842Z"
   },
   {
    "duration": 16,
    "start_time": "2021-09-09T19:52:53.402Z"
   },
   {
    "duration": 8,
    "start_time": "2021-09-09T19:52:55.330Z"
   },
   {
    "duration": 9,
    "start_time": "2021-09-09T19:52:56.358Z"
   },
   {
    "duration": 5,
    "start_time": "2021-09-09T19:52:57.558Z"
   },
   {
    "duration": 19,
    "start_time": "2021-09-09T19:53:02.599Z"
   }
  ],
  "kernelspec": {
   "display_name": "Python 3 (ipykernel)",
   "language": "python",
   "name": "python3"
  },
  "language_info": {
   "codemirror_mode": {
    "name": "ipython",
    "version": 3
   },
   "file_extension": ".py",
   "mimetype": "text/x-python",
   "name": "python",
   "nbconvert_exporter": "python",
   "pygments_lexer": "ipython3",
   "version": "3.9.5"
  },
  "toc": {
   "base_numbering": 1,
   "nav_menu": {},
   "number_sections": true,
   "sideBar": true,
   "skip_h1_title": true,
   "title_cell": "Table of Contents",
   "title_sidebar": "Contents",
   "toc_cell": false,
   "toc_position": {},
   "toc_section_display": true,
   "toc_window_display": false
  }
 },
 "nbformat": 4,
 "nbformat_minor": 2
}
